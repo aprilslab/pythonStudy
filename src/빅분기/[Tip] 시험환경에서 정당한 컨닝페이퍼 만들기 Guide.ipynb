{
 "cells": [
  {
   "cell_type": "markdown",
   "id": "ac0a2f48",
   "metadata": {},
   "source": [
    "## [Tips] 빅데이터 분석기사 실기\n",
    "\n",
    "- 코드 힌트(자동완성) 없이 이름 찾는 방법\n",
    "- 함수, 속성 활용법 찾기(공식문서)\n",
    "- 당황하지 말고, 공식문서 통으로 만들기\n",
    "- 영상: https://youtu.be/2Nf6yAgnZTY\n",
    "\n",
    "**Q. 코드 힌트(자동완성)가 없어요! 다 외워야 할까요? 난 못외워...**\n",
    "\n",
    "- 그럼 어떻게??\n",
    "- 판다스와 사이킷런을 예시로 함수, 속성 등의 이름을 모를 때 찾는법을 알아봅시다\n",
    "\n",
    "\n",
    "- 아래 링크(시험환경)에서 반드시 연습 해보세요 :)\n",
    "- https://dataq.goorm.io/exam/116674/%EC%B2%B4%ED%97%98%ED%95%98%EA%B8%B0/quiz/3\n",
    "- 시험장에서 필요할 때마다 실행할 순 없으니 아래 코드를 하나씩 실행한 후 메모장에 옮겨 두시기 바랍니다. (메모장 검색기능 활용)\n",
    "- 아래 코드는 어느정도 할 줄 아는 상황에서 철자가 틀렸거나 함수나 속성이 기억이 나지 않을때만 유용합니다.\n",
    "- 입문이라면 먼저 https://www.kaggle.com/agileteam/bigdatacertificationkr 에서 예시문제(Tasks)를 풀어보세요!\n",
    "\n",
    "## Pandas"
   ]
  },
  {
   "cell_type": "code",
   "execution_count": null,
   "id": "20542351",
   "metadata": {},
   "outputs": [],
   "source": [
    "#dir을 통해 사용 가능한 함수 확인\n",
    "import pandas as pd\n",
    "print(dir(pd))"
   ]
  },
  {
   "cell_type": "code",
   "execution_count": null,
   "id": "702aba0e",
   "metadata": {},
   "outputs": [],
   "source": [
    "#데이터 프레임에서 할 수 있는 것들은?\n",
    "print(dir(pd.DataFrame))"
   ]
  },
  {
   "cell_type": "code",
   "execution_count": null,
   "id": "ba105b0a",
   "metadata": {},
   "outputs": [],
   "source": [
    "#help을 통해 사용법 확인\n",
    "# 데이터 프레임에서 결측치 drop을 어떻게 사용했더라?\n",
    "print(help(pd.DataFrame.drop))"
   ]
  },
  {
   "cell_type": "code",
   "execution_count": null,
   "id": "8f9ac0a9",
   "metadata": {},
   "outputs": [],
   "source": [
    "#원핫인코딩 어떻게 사용했더라?\n",
    "import pandas as pd\n",
    "print(help(pd.get_dummies))"
   ]
  },
  {
   "cell_type": "markdown",
   "id": "20f4ccec",
   "metadata": {},
   "source": [
    "## Sklearn\n",
    "- 판다스에서 dir을 주로 활용했다면 사이킷런에선 __all__을 활용해요!\n",
    "- 주의 할 점은 캐글 노트북 환경에서는 import sklearn만 호출해도 모든 라이브러리를 동작할 수 있지만 시험환경에서는 각각 세부 라이브러리를 임포트 해줘야 __all__'또는 help, dir을 활용할 때 에러가 발생되지 않음"
   ]
  },
  {
   "cell_type": "code",
   "execution_count": null,
   "id": "07393375",
   "metadata": {},
   "outputs": [],
   "source": [
    "#sklearn까지만 외워주세요 :) \n",
    "import sklearn\n",
    "print(sklearn.__all__)"
   ]
  },
  {
   "cell_type": "code",
   "execution_count": null,
   "id": "3c1f517b",
   "metadata": {},
   "outputs": [],
   "source": [
    "# 전처리 무엇을 할 수 있지?\n",
    "import sklearn.preprocessing\n",
    "print(sklearn.preprocessing.__all__)"
   ]
  },
  {
   "cell_type": "code",
   "execution_count": null,
   "id": "14ba4e40",
   "metadata": {},
   "outputs": [],
   "source": [
    "# 문제에서 민맥스스케일을 적용하라고 하네. 어떻게 사용하지?\n",
    "import sklearn.preprocessing\n",
    "print(help(sklearn.preprocessing.MinMaxScaler))"
   ]
  },
  {
   "cell_type": "code",
   "execution_count": null,
   "id": "c68c1b4b",
   "metadata": {},
   "outputs": [],
   "source": [
    "# 데이터를 나눠야 하는데 풀네임이 뭐더라?\n",
    "# 데이터를 트레인과 테스트로 나눠야할 떼 model_selection안에 있다는건 아셔야 해요^^\n",
    "import sklearn.model_selection\n",
    "print(sklearn.model_selection.__all__)"
   ]
  },
  {
   "cell_type": "code",
   "execution_count": 1,
   "id": "37b89187",
   "metadata": {},
   "outputs": [
    {
     "name": "stdout",
     "output_type": "stream",
     "text": [
      "Help on function train_test_split in module sklearn.model_selection._split:\n",
      "\n",
      "train_test_split(*arrays, test_size=None, train_size=None, random_state=None, shuffle=True, stratify=None)\n",
      "    Split arrays or matrices into random train and test subsets.\n",
      "    \n",
      "    Quick utility that wraps input validation and\n",
      "    ``next(ShuffleSplit().split(X, y))`` and application to input data\n",
      "    into a single call for splitting (and optionally subsampling) data in a\n",
      "    oneliner.\n",
      "    \n",
      "    Read more in the :ref:`User Guide <cross_validation>`.\n",
      "    \n",
      "    Parameters\n",
      "    ----------\n",
      "    *arrays : sequence of indexables with same length / shape[0]\n",
      "        Allowed inputs are lists, numpy arrays, scipy-sparse\n",
      "        matrices or pandas dataframes.\n",
      "    \n",
      "    test_size : float or int, default=None\n",
      "        If float, should be between 0.0 and 1.0 and represent the proportion\n",
      "        of the dataset to include in the test split. If int, represents the\n",
      "        absolute number of test samples. If None, the value is set to the\n",
      "        complement of the train size. If ``train_size`` is also None, it will\n",
      "        be set to 0.25.\n",
      "    \n",
      "    train_size : float or int, default=None\n",
      "        If float, should be between 0.0 and 1.0 and represent the\n",
      "        proportion of the dataset to include in the train split. If\n",
      "        int, represents the absolute number of train samples. If None,\n",
      "        the value is automatically set to the complement of the test size.\n",
      "    \n",
      "    random_state : int, RandomState instance or None, default=None\n",
      "        Controls the shuffling applied to the data before applying the split.\n",
      "        Pass an int for reproducible output across multiple function calls.\n",
      "        See :term:`Glossary <random_state>`.\n",
      "    \n",
      "    shuffle : bool, default=True\n",
      "        Whether or not to shuffle the data before splitting. If shuffle=False\n",
      "        then stratify must be None.\n",
      "    \n",
      "    stratify : array-like, default=None\n",
      "        If not None, data is split in a stratified fashion, using this as\n",
      "        the class labels.\n",
      "        Read more in the :ref:`User Guide <stratification>`.\n",
      "    \n",
      "    Returns\n",
      "    -------\n",
      "    splitting : list, length=2 * len(arrays)\n",
      "        List containing train-test split of inputs.\n",
      "    \n",
      "        .. versionadded:: 0.16\n",
      "            If the input is sparse, the output will be a\n",
      "            ``scipy.sparse.csr_matrix``. Else, output type is the same as the\n",
      "            input type.\n",
      "    \n",
      "    Examples\n",
      "    --------\n",
      "    >>> import numpy as np\n",
      "    >>> from sklearn.model_selection import train_test_split\n",
      "    >>> X, y = np.arange(10).reshape((5, 2)), range(5)\n",
      "    >>> X\n",
      "    array([[0, 1],\n",
      "           [2, 3],\n",
      "           [4, 5],\n",
      "           [6, 7],\n",
      "           [8, 9]])\n",
      "    >>> list(y)\n",
      "    [0, 1, 2, 3, 4]\n",
      "    \n",
      "    >>> X_train, X_test, y_train, y_test = train_test_split(\n",
      "    ...     X, y, test_size=0.33, random_state=42)\n",
      "    ...\n",
      "    >>> X_train\n",
      "    array([[4, 5],\n",
      "           [0, 1],\n",
      "           [6, 7]])\n",
      "    >>> y_train\n",
      "    [2, 0, 3]\n",
      "    >>> X_test\n",
      "    array([[2, 3],\n",
      "           [8, 9]])\n",
      "    >>> y_test\n",
      "    [1, 4]\n",
      "    \n",
      "    >>> train_test_split(y, shuffle=False)\n",
      "    [[0, 1, 2], [3, 4]]\n",
      "\n",
      "None\n"
     ]
    }
   ],
   "source": [
    "# 어떻게 사용하더라??\n",
    "import sklearn.model_selection\n",
    "print(help(sklearn.model_selection.train_test_split))"
   ]
  },
  {
   "cell_type": "code",
   "execution_count": null,
   "id": "60a2f571",
   "metadata": {},
   "outputs": [],
   "source": [
    "# 앙상블 모델 쓸래!\n",
    "import sklearn.ensemble\n",
    "print(sklearn.ensemble.__all__)"
   ]
  },
  {
   "cell_type": "code",
   "execution_count": null,
   "id": "66c56517",
   "metadata": {},
   "outputs": [],
   "source": [
    "# 랜덤포레스트 어떻게 썻더라?\n",
    "import sklearn.ensemble\n",
    "print(help(sklearn.ensemble.RandomForestClassifier()))"
   ]
  },
  {
   "cell_type": "markdown",
   "id": "e0a1ebf7",
   "metadata": {},
   "source": [
    "## 당황하지 말고, 공식문서 통으로 만들기\n",
    "- 실제 시험환경에서는 1000줄만 출력되어 사용하기 어려움을 확인함. 위에 개별 help()함수를 통해 확인하는 것을 권장합니다.\n",
    "- 출력이 길어서 주석 처리함!\n",
    "- 해당 출력물을 메모장에 복사한 뒤 검색 기능을 활용에 문서 활용"
   ]
  },
  {
   "cell_type": "code",
   "execution_count": null,
   "id": "f12009ed",
   "metadata": {},
   "outputs": [],
   "source": [
    "# import sklearn.preprocessing\n",
    "# listbox = sklearn.preprocessing.__all__\n",
    "# for item in listbox:\n",
    "# \tprint(f\"############### {item} ################\")\n",
    "# \tprint(help(\"sklearn.preprocessing.\" + item))"
   ]
  },
  {
   "cell_type": "code",
   "execution_count": null,
   "id": "f2967e4a",
   "metadata": {},
   "outputs": [],
   "source": [
    "# import sklearn.model_selection\n",
    "# listbox = sklearn.model_selection.__all__\n",
    "# for item in listbox:\n",
    "# \tprint(f\"############### {item} ################\")\n",
    "# \tprint(help(\"sklearn.model_selection.\" + item))"
   ]
  }
 ],
 "metadata": {
  "kernelspec": {
   "display_name": "Python 3 (ipykernel)",
   "language": "python",
   "name": "python3"
  },
  "language_info": {
   "codemirror_mode": {
    "name": "ipython",
    "version": 3
   },
   "file_extension": ".py",
   "mimetype": "text/x-python",
   "name": "python",
   "nbconvert_exporter": "python",
   "pygments_lexer": "ipython3",
   "version": "3.8.12"
  }
 },
 "nbformat": 4,
 "nbformat_minor": 5
}
