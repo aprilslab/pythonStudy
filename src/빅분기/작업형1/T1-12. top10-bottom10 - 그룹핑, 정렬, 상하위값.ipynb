{
 "cells": [
  {
   "cell_type": "markdown",
   "id": "e7cc4215",
   "metadata": {},
   "source": [
    "**주어진 데이터에서 상위 10개 국가의 접종률 평균과 하위 10개 국가의 접종률 평균을 구하고, 그 차이를 구해보세요 \\\n",
    "(단, 100%가 넘는 접종률 제거, 소수 첫째자리까지 출력)**\n",
    "\n",
    "- 데이터셋 : ../input/covid-vaccination-vs-death/covid-vaccination-vs-death_ratio.csv\n",
    "- 오른쪽 상단 copy&edit 클릭 -> 예상문제 풀이 시작\n",
    "- File -> Editor Type -> Script"
   ]
  },
  {
   "cell_type": "code",
   "execution_count": 1,
   "id": "426fe26d",
   "metadata": {},
   "outputs": [
    {
     "data": {
      "text/html": [
       "<div>\n",
       "<style scoped>\n",
       "    .dataframe tbody tr th:only-of-type {\n",
       "        vertical-align: middle;\n",
       "    }\n",
       "\n",
       "    .dataframe tbody tr th {\n",
       "        vertical-align: top;\n",
       "    }\n",
       "\n",
       "    .dataframe thead th {\n",
       "        text-align: right;\n",
       "    }\n",
       "</style>\n",
       "<table border=\"1\" class=\"dataframe\">\n",
       "  <thead>\n",
       "    <tr style=\"text-align: right;\">\n",
       "      <th></th>\n",
       "      <th>Unnamed: 0</th>\n",
       "      <th>country</th>\n",
       "      <th>iso_code</th>\n",
       "      <th>date</th>\n",
       "      <th>total_vaccinations</th>\n",
       "      <th>people_vaccinated</th>\n",
       "      <th>people_fully_vaccinated</th>\n",
       "      <th>New_deaths</th>\n",
       "      <th>population</th>\n",
       "      <th>ratio</th>\n",
       "    </tr>\n",
       "  </thead>\n",
       "  <tbody>\n",
       "    <tr>\n",
       "      <th>0</th>\n",
       "      <td>0</td>\n",
       "      <td>Afghanistan</td>\n",
       "      <td>AFG</td>\n",
       "      <td>2021-05-11</td>\n",
       "      <td>504502.0</td>\n",
       "      <td>448878.0</td>\n",
       "      <td>55624.0</td>\n",
       "      <td>12</td>\n",
       "      <td>40295077.0</td>\n",
       "      <td>1.113977</td>\n",
       "    </tr>\n",
       "    <tr>\n",
       "      <th>1</th>\n",
       "      <td>1</td>\n",
       "      <td>Afghanistan</td>\n",
       "      <td>AFG</td>\n",
       "      <td>2021-05-20</td>\n",
       "      <td>547901.0</td>\n",
       "      <td>470341.0</td>\n",
       "      <td>77560.0</td>\n",
       "      <td>10</td>\n",
       "      <td>40295077.0</td>\n",
       "      <td>1.167242</td>\n",
       "    </tr>\n",
       "    <tr>\n",
       "      <th>2</th>\n",
       "      <td>2</td>\n",
       "      <td>Afghanistan</td>\n",
       "      <td>AFG</td>\n",
       "      <td>2021-05-24</td>\n",
       "      <td>573277.0</td>\n",
       "      <td>476367.0</td>\n",
       "      <td>96910.0</td>\n",
       "      <td>10</td>\n",
       "      <td>40295077.0</td>\n",
       "      <td>1.182197</td>\n",
       "    </tr>\n",
       "    <tr>\n",
       "      <th>3</th>\n",
       "      <td>3</td>\n",
       "      <td>Afghanistan</td>\n",
       "      <td>AFG</td>\n",
       "      <td>2021-05-26</td>\n",
       "      <td>590454.0</td>\n",
       "      <td>479372.0</td>\n",
       "      <td>111082.0</td>\n",
       "      <td>19</td>\n",
       "      <td>40295077.0</td>\n",
       "      <td>1.189654</td>\n",
       "    </tr>\n",
       "    <tr>\n",
       "      <th>4</th>\n",
       "      <td>4</td>\n",
       "      <td>Afghanistan</td>\n",
       "      <td>AFG</td>\n",
       "      <td>2021-05-27</td>\n",
       "      <td>593313.0</td>\n",
       "      <td>479574.0</td>\n",
       "      <td>113739.0</td>\n",
       "      <td>14</td>\n",
       "      <td>40295077.0</td>\n",
       "      <td>1.190155</td>\n",
       "    </tr>\n",
       "  </tbody>\n",
       "</table>\n",
       "</div>"
      ],
      "text/plain": [
       "   Unnamed: 0      country iso_code        date  total_vaccinations  \\\n",
       "0           0  Afghanistan      AFG  2021-05-11            504502.0   \n",
       "1           1  Afghanistan      AFG  2021-05-20            547901.0   \n",
       "2           2  Afghanistan      AFG  2021-05-24            573277.0   \n",
       "3           3  Afghanistan      AFG  2021-05-26            590454.0   \n",
       "4           4  Afghanistan      AFG  2021-05-27            593313.0   \n",
       "\n",
       "   people_vaccinated  people_fully_vaccinated  New_deaths  population  \\\n",
       "0           448878.0                  55624.0          12  40295077.0   \n",
       "1           470341.0                  77560.0          10  40295077.0   \n",
       "2           476367.0                  96910.0          10  40295077.0   \n",
       "3           479372.0                 111082.0          19  40295077.0   \n",
       "4           479574.0                 113739.0          14  40295077.0   \n",
       "\n",
       "      ratio  \n",
       "0  1.113977  \n",
       "1  1.167242  \n",
       "2  1.182197  \n",
       "3  1.189654  \n",
       "4  1.190155  "
      ]
     },
     "execution_count": 1,
     "metadata": {},
     "output_type": "execute_result"
    }
   ],
   "source": [
    "import pandas as pd\n",
    "\n",
    "df = pd.read_csv('../dataset/covid-vaccination-vs-death_ratio.csv')\n",
    "df.head()"
   ]
  },
  {
   "cell_type": "markdown",
   "id": "d8a8fb2d",
   "metadata": {},
   "source": [
    "## User Code"
   ]
  },
  {
   "cell_type": "code",
   "execution_count": null,
   "id": "e14dc823",
   "metadata": {},
   "outputs": [],
   "source": []
  },
  {
   "cell_type": "code",
   "execution_count": null,
   "id": "da3323ab",
   "metadata": {},
   "outputs": [],
   "source": []
  },
  {
   "cell_type": "code",
   "execution_count": null,
   "id": "ecf4e5f8",
   "metadata": {},
   "outputs": [],
   "source": []
  },
  {
   "cell_type": "code",
   "execution_count": null,
   "id": "4ae4d5b2",
   "metadata": {},
   "outputs": [],
   "source": []
  },
  {
   "cell_type": "code",
   "execution_count": null,
   "id": "e255e5be",
   "metadata": {},
   "outputs": [],
   "source": []
  },
  {
   "cell_type": "markdown",
   "id": "aa088b40",
   "metadata": {},
   "source": [
    "## Solution"
   ]
  },
  {
   "cell_type": "code",
   "execution_count": 2,
   "id": "0ae41f4b",
   "metadata": {},
   "outputs": [
    {
     "data": {
      "text/html": [
       "<div>\n",
       "<style scoped>\n",
       "    .dataframe tbody tr th:only-of-type {\n",
       "        vertical-align: middle;\n",
       "    }\n",
       "\n",
       "    .dataframe tbody tr th {\n",
       "        vertical-align: top;\n",
       "    }\n",
       "\n",
       "    .dataframe thead th {\n",
       "        text-align: right;\n",
       "    }\n",
       "</style>\n",
       "<table border=\"1\" class=\"dataframe\">\n",
       "  <thead>\n",
       "    <tr style=\"text-align: right;\">\n",
       "      <th></th>\n",
       "      <th>Unnamed: 0</th>\n",
       "      <th>total_vaccinations</th>\n",
       "      <th>people_vaccinated</th>\n",
       "      <th>people_fully_vaccinated</th>\n",
       "      <th>New_deaths</th>\n",
       "      <th>population</th>\n",
       "      <th>ratio</th>\n",
       "    </tr>\n",
       "  </thead>\n",
       "  <tbody>\n",
       "    <tr>\n",
       "      <th>count</th>\n",
       "      <td>26623.000000</td>\n",
       "      <td>2.662300e+04</td>\n",
       "      <td>2.662300e+04</td>\n",
       "      <td>2.662300e+04</td>\n",
       "      <td>26623.000000</td>\n",
       "      <td>2.662300e+04</td>\n",
       "      <td>26623.000000</td>\n",
       "    </tr>\n",
       "    <tr>\n",
       "      <th>mean</th>\n",
       "      <td>13311.000000</td>\n",
       "      <td>2.624900e+07</td>\n",
       "      <td>1.587149e+07</td>\n",
       "      <td>1.015975e+07</td>\n",
       "      <td>104.341584</td>\n",
       "      <td>5.068306e+07</td>\n",
       "      <td>36.058352</td>\n",
       "    </tr>\n",
       "    <tr>\n",
       "      <th>std</th>\n",
       "      <td>7685.542445</td>\n",
       "      <td>9.172916e+07</td>\n",
       "      <td>5.852142e+07</td>\n",
       "      <td>3.409173e+07</td>\n",
       "      <td>343.701812</td>\n",
       "      <td>1.585035e+08</td>\n",
       "      <td>27.286028</td>\n",
       "    </tr>\n",
       "    <tr>\n",
       "      <th>min</th>\n",
       "      <td>0.000000</td>\n",
       "      <td>1.000000e+00</td>\n",
       "      <td>1.000000e+00</td>\n",
       "      <td>1.000000e+00</td>\n",
       "      <td>-92.000000</td>\n",
       "      <td>1.373000e+03</td>\n",
       "      <td>0.000011</td>\n",
       "    </tr>\n",
       "    <tr>\n",
       "      <th>25%</th>\n",
       "      <td>6655.500000</td>\n",
       "      <td>6.062655e+05</td>\n",
       "      <td>4.006990e+05</td>\n",
       "      <td>1.765970e+05</td>\n",
       "      <td>1.000000</td>\n",
       "      <td>3.354825e+06</td>\n",
       "      <td>9.940602</td>\n",
       "    </tr>\n",
       "    <tr>\n",
       "      <th>50%</th>\n",
       "      <td>13311.000000</td>\n",
       "      <td>3.570392e+06</td>\n",
       "      <td>2.248865e+06</td>\n",
       "      <td>1.169177e+06</td>\n",
       "      <td>10.000000</td>\n",
       "      <td>1.034502e+07</td>\n",
       "      <td>32.817733</td>\n",
       "    </tr>\n",
       "    <tr>\n",
       "      <th>75%</th>\n",
       "      <td>19966.500000</td>\n",
       "      <td>1.560763e+07</td>\n",
       "      <td>8.804162e+06</td>\n",
       "      <td>5.698058e+06</td>\n",
       "      <td>52.000000</td>\n",
       "      <td>3.823269e+07</td>\n",
       "      <td>60.421409</td>\n",
       "    </tr>\n",
       "    <tr>\n",
       "      <th>max</th>\n",
       "      <td>26622.000000</td>\n",
       "      <td>2.422908e+09</td>\n",
       "      <td>1.225000e+09</td>\n",
       "      <td>1.076308e+09</td>\n",
       "      <td>8786.000000</td>\n",
       "      <td>1.446645e+09</td>\n",
       "      <td>122.149682</td>\n",
       "    </tr>\n",
       "  </tbody>\n",
       "</table>\n",
       "</div>"
      ],
      "text/plain": [
       "         Unnamed: 0  total_vaccinations  people_vaccinated  \\\n",
       "count  26623.000000        2.662300e+04       2.662300e+04   \n",
       "mean   13311.000000        2.624900e+07       1.587149e+07   \n",
       "std     7685.542445        9.172916e+07       5.852142e+07   \n",
       "min        0.000000        1.000000e+00       1.000000e+00   \n",
       "25%     6655.500000        6.062655e+05       4.006990e+05   \n",
       "50%    13311.000000        3.570392e+06       2.248865e+06   \n",
       "75%    19966.500000        1.560763e+07       8.804162e+06   \n",
       "max    26622.000000        2.422908e+09       1.225000e+09   \n",
       "\n",
       "       people_fully_vaccinated    New_deaths    population         ratio  \n",
       "count             2.662300e+04  26623.000000  2.662300e+04  26623.000000  \n",
       "mean              1.015975e+07    104.341584  5.068306e+07     36.058352  \n",
       "std               3.409173e+07    343.701812  1.585035e+08     27.286028  \n",
       "min               1.000000e+00    -92.000000  1.373000e+03      0.000011  \n",
       "25%               1.765970e+05      1.000000  3.354825e+06      9.940602  \n",
       "50%               1.169177e+06     10.000000  1.034502e+07     32.817733  \n",
       "75%               5.698058e+06     52.000000  3.823269e+07     60.421409  \n",
       "max               1.076308e+09   8786.000000  1.446645e+09    122.149682  "
      ]
     },
     "execution_count": 2,
     "metadata": {},
     "output_type": "execute_result"
    }
   ],
   "source": [
    "df.describe()"
   ]
  },
  {
   "cell_type": "code",
   "execution_count": 3,
   "id": "53c19677",
   "metadata": {},
   "outputs": [
    {
     "data": {
      "text/plain": [
       "country\n",
       "Gibraltar               122.149682\n",
       "Malta                    99.307358\n",
       "United Arab Emirates     98.484635\n",
       "Cuba                     91.873382\n",
       "Brunei Darussalam        91.328883\n",
       "Name: ratio, dtype: float64"
      ]
     },
     "execution_count": 3,
     "metadata": {},
     "output_type": "execute_result"
    }
   ],
   "source": [
    "df2 = df.groupby('country').max() # 시간에 따라 접종률이 점점 올라감\n",
    "df2 = df2.sort_values(by='ratio', ascending=False)\n",
    "df2['ratio'].head()"
   ]
  },
  {
   "cell_type": "code",
   "execution_count": 4,
   "id": "b9379214",
   "metadata": {},
   "outputs": [
    {
     "data": {
      "text/plain": [
       "country\n",
       "Malta                   99.307358\n",
       "United Arab Emirates    98.484635\n",
       "Cuba                    91.873382\n",
       "Brunei Darussalam       91.328883\n",
       "Portugal                90.418267\n",
       "Name: ratio, dtype: float64"
      ]
     },
     "execution_count": 4,
     "metadata": {},
     "output_type": "execute_result"
    }
   ],
   "source": [
    "df2 = df2[1:] # remove outlier\n",
    "df2['ratio'].head()"
   ]
  },
  {
   "cell_type": "code",
   "execution_count": 5,
   "id": "5649e2e1",
   "metadata": {},
   "outputs": [
    {
     "data": {
      "text/plain": [
       "(90.34726740770431, 1.9129097691393397)"
      ]
     },
     "execution_count": 5,
     "metadata": {},
     "output_type": "execute_result"
    }
   ],
   "source": [
    "top = df2['ratio'].head(10).mean()\n",
    "bottom = df2['ratio'].tail(10).mean()\n",
    "top, bottom"
   ]
  },
  {
   "cell_type": "code",
   "execution_count": 6,
   "id": "aa23957f",
   "metadata": {},
   "outputs": [
    {
     "name": "stdout",
     "output_type": "stream",
     "text": [
      "88.4\n"
     ]
    }
   ],
   "source": [
    "print(round(top - bottom, 1))"
   ]
  }
 ],
 "metadata": {
  "kernelspec": {
   "display_name": "Python 3 (ipykernel)",
   "language": "python",
   "name": "python3"
  },
  "language_info": {
   "codemirror_mode": {
    "name": "ipython",
    "version": 3
   },
   "file_extension": ".py",
   "mimetype": "text/x-python",
   "name": "python",
   "nbconvert_exporter": "python",
   "pygments_lexer": "ipython3",
   "version": "3.9.6"
  }
 },
 "nbformat": 4,
 "nbformat_minor": 5
}
