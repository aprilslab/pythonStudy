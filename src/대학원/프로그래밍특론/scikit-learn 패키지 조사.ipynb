{
 "cells": [
  {
   "cell_type": "markdown",
   "id": "3594d98a",
   "metadata": {},
   "source": [
    "## scikit-learn 패키지\n",
    "- Python의 머신 러닝 라이브러이이다. `사이킷런`이라고 부르기도 한다. \n",
    "- 오픈소스로 공개되어 있으며, 개인, 비즈니스 관계없이 누구나 무료로 사용가능하다. \n",
    "- 딥러닝보다는 데이터 전처리 및 classical machine learning 알고리즘 (SVM, decision tree 기반 알고리즘 등)을 매우 편하게 이용할 수 있다. \n",
    "- 샘플 데이터 셋이 부속되어 있어 설치하여 바로 기계 학습을 시험해볼 수 있다."
   ]
  },
  {
   "cell_type": "code",
   "execution_count": 2,
   "id": "9a5da460",
   "metadata": {},
   "outputs": [],
   "source": [
    "import sklearn\n",
    "from sklearn import datasets"
   ]
  },
  {
   "cell_type": "markdown",
   "id": "d431d776",
   "metadata": {},
   "source": [
    "- sklearn은 샘플데이터셋을 제공하는데 `load_boston`, `load_diabetes`, `load_digits`, `load_files`, `load_iris`, `load_breast_cancer`, `load_linnerud`, `load_sample_image`, `load_sample_images`, `load_svmlight_file`, `load_svmlight_files`, `load_wine` 등의 함수로 샘플 데이터 셋을 불러 올 수 있다.\n",
    "\n",
    "#### Boston house prices dataset\n",
    "- `load_boston` 함수를 통해 샘플 데이터를 불러올 수 있다. \n",
    "- scikit-learn 1.0에서 deprecated 됐으며 1.2 버전에서는 삭제 될 예정이다.\n",
    "- UCI ML housing dataset의 복사본이다. https://archive.ics.uci.edu/ml/machine-learning-databases/housing/\n",
    "\n",
    "#### Iris plants dataset\n",
    "- `load_iris` 함수를 통해 샘플 데이터를 불러올 수 있다. \n",
    "- 붓꽃의 꽃받침과 꽃잎에 대한 높이와 너비에 대한 샘플 데이터 셋이고 주로 classification 학습을 위한 테스트 데이터 셋으로 활용된다.\n",
    "\n",
    "#### Diabetes dataset\n",
    "- `load_diabetes` 함수를 통해 샘플 데이터를 불러올 수 있다.\n",
    "- 당뇨병에 대한 데이터 셋이다. 나이, 성별, 혈압 등의 데이터가 포함되어 있다. 주로 regression 학습을 위한 테스트 데이터 셋으로 활용된다.\n",
    "\n",
    "#### Optical recognition of handwritten digits dataset\n",
    "- `load_digits` 함수를 통해 샘플 데이터를 불러올 수 있다.\n",
    "- UCI ML hand-written digits datasets의 복사본이다. https://archive.ics.uci.edu/ml/datasets/Optical+Recognition+of+Handwritten+Digits\n",
    "- 손글씨로 입력된 숫자 데이터이고 주로 classification 학습을 위한 테스트 데이터 셋으로 활용된다.\n",
    "\n",
    "\n",
    "<br>\n",
    "\n",
    "**그 외의 데이터 셋에 대한 자세한 설명은 [scikit-learn 공식문서](https://scikit-learn.org/stable/datasets/toy_dataset.html)에서 확인 할 수 있다.**\n"
   ]
  },
  {
   "cell_type": "code",
   "execution_count": 9,
   "id": "ae699e5b",
   "metadata": {},
   "outputs": [
    {
     "name": "stdout",
     "output_type": "stream",
     "text": [
      "(1797, 8, 8)\n"
     ]
    }
   ],
   "source": [
    "digits = datasets.load_digits() #샘플 dataset을 불러오는 함수.\n",
    "print(digits.images.shape) # 1797개의 8x8사이즈의 데이터이다."
   ]
  },
  {
   "cell_type": "code",
   "execution_count": 5,
   "id": "5dcc6154",
   "metadata": {},
   "outputs": [
    {
     "data": {
      "image/png": "[encoded data removed]",
      "text/plain": [
       "<Figure size 288x288 with 1 Axes>"
      ]
     },
     "metadata": {
      "needs_background": "light"
     },
     "output_type": "display_data"
    }
   ],
   "source": [
    "import matplotlib.pyplot as plt\n",
    "plt.matshow(digits.images[0], cmap=\"Greys\")\n",
    "plt.show()"
   ]
  },
  {
   "cell_type": "code",
   "execution_count": null,
   "id": "d055e817",
   "metadata": {},
   "outputs": [],
   "source": []
  },
  {
   "cell_type": "code",
   "execution_count": null,
   "id": "55badcec",
   "metadata": {},
   "outputs": [],
   "source": []
  }
 ],
 "metadata": {
  "kernelspec": {
   "display_name": "Python 3 (ipykernel)",
   "language": "python",
   "name": "python3"
  },
  "language_info": {
   "codemirror_mode": {
    "name": "ipython",
    "version": 3
   },
   "file_extension": ".py",
   "mimetype": "text/x-python",
   "name": "python",
   "nbconvert_exporter": "python",
   "pygments_lexer": "ipython3",
   "version": "3.9.6"
  }
 },
 "nbformat": 4,
 "nbformat_minor": 5
}
