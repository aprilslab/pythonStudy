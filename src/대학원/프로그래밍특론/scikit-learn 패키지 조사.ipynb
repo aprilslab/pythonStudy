{
 "cells": [
  {
   "cell_type": "markdown",
   "id": "1e12ce9d",
   "metadata": {},
   "source": [
    "## scikit-learn 패키지\n",
    "- Python의 머신 러닝 라이브러이이다. `사이킷런`이라고 부르기도 한다. \n",
    "- 오픈소스로 공개되어 있으며, 개인, 비즈니스 관계없이 누구나 무료로 사용가능하다. \n",
    "- 딥러닝보다는 데이터 전처리 및 classical machine learning 알고리즘 (SVM, decision tree 기반 알고리즘 등)을 매우 편하게 이용할 수 있다. \n",
    "- 샘플 데이터 셋이 부속되어 있어 설치하여 바로 기계 학습을 시험해볼 수 있다."
   ]
  },
  {
   "cell_type": "code",
   "execution_count": 1,
   "id": "6609ed4d",
   "metadata": {},
   "outputs": [],
   "source": [
    "import sklearn\n",
    "from sklearn import datasets"
   ]
  },
  {
   "cell_type": "markdown",
   "id": "44812ed7",
   "metadata": {},
   "source": [
    "- sklearn은 샘플데이터셋을 제공하는데 `load_boston`, `load_diabetes`, `load_digits`, `load_files`, `load_iris`, `load_breast_cancer`, `load_linnerud`, `load_sample_image`, `load_sample_images`, `load_svmlight_file`, `load_svmlight_files`, `load_wine` 등의 함수로 샘플 데이터 셋을 불러 올 수 있다.\n",
    "- 데이터 셋에 대한 자세한 설명은 [scikit-learn 공식문서](https://scikit-learn.org/stable/datasets/toy_dataset.html)에서 확인 할 수 있다."
   ]
  },
  {
   "cell_type": "markdown",
   "id": "f6e759b7",
   "metadata": {},
   "source": [
    "---\n",
    "### Optical recognition of handwritten digits dataset\n",
    "- `load_digits` 함수를 통해 샘플 데이터를 불러올 수 있다.\n",
    "- UCI ML hand-written digits datasets의 복사본이다. https://archive.ics.uci.edu/ml/datasets/Optical+Recognition+of+Handwritten+Digits\n",
    "- 손글씨로 입력된 숫자 데이터이고 주로 classification 학습을 위한 테스트 데이터 셋으로 활용된다."
   ]
  },
  {
   "cell_type": "code",
   "execution_count": 2,
   "id": "3a631790",
   "metadata": {},
   "outputs": [
    {
     "name": "stdout",
     "output_type": "stream",
     "text": [
      "(1797, 8, 8)\n"
     ]
    }
   ],
   "source": [
    "digits = datasets.load_digits() #샘플 dataset을 불러오는 함수.\n",
    "print(digits.images.shape) # 1797개의 8x8사이즈의 데이터이다."
   ]
  },
  {
   "cell_type": "code",
   "execution_count": 3,
   "id": "a0fbbc8c",
   "metadata": {},
   "outputs": [
    {
     "data": {
      "image/png": "[encoded data removed]",
      "text/plain": [
       "<Figure size 288x288 with 1 Axes>"
      ]
     },
     "metadata": {
      "needs_background": "light"
     },
     "output_type": "display_data"
    },
    {
     "name": "stdout",
     "output_type": "stream",
     "text": [
      "0\n"
     ]
    }
   ],
   "source": [
    "# 데이터 확인\n",
    "import matplotlib.pyplot as plt\n",
    "plt.matshow(digits.images[0], cmap=plt.cm.gray_r)\n",
    "plt.show()\n",
    "print(digits.target[0])"
   ]
  },
  {
   "cell_type": "code",
   "execution_count": 4,
   "id": "d5bcc12e",
   "metadata": {},
   "outputs": [
    {
     "data": {
      "image/png": "[encoded data removed]",
      "text/plain": [
       "<Figure size 720x216 with 4 Axes>"
      ]
     },
     "metadata": {
      "needs_background": "light"
     },
     "output_type": "display_data"
    }
   ],
   "source": [
    "# 데이터 확인\n",
    "_, axes = plt.subplots(nrows=1, ncols=4, figsize=(10, 3))\n",
    "for ax, image, label in zip(axes, digits.images, digits.target):\n",
    "    ax.set_axis_off()\n",
    "    ax.imshow(image, cmap=plt.cm.gray_r, interpolation=\"nearest\")\n",
    "    ax.set_title(\"Training: %i\" % label)"
   ]
  },
  {
   "cell_type": "markdown",
   "id": "882c4243",
   "metadata": {},
   "source": [
    "#### Digits Classification 예제"
   ]
  },
  {
   "cell_type": "code",
   "execution_count": 5,
   "id": "dfcdd4a0",
   "metadata": {},
   "outputs": [],
   "source": [
    "from sklearn import datasets, svm, metrics\n",
    "from sklearn.model_selection import train_test_split\n",
    "\n",
    "# flatten the images\n",
    "n_samples = len(digits.images)\n",
    "data = digits.images.reshape((n_samples, -1))\n",
    "\n",
    "# Support Vector Classifier\n",
    "clf = svm.SVC(gamma=0.001)\n",
    "\n",
    "X_train, X_test, y_train, y_test = train_test_split(\n",
    "    data, # 학습데이터 이미지 (8x8사이즈)\n",
    "    digits.target, # 이미지 label\n",
    "    test_size=0.5, # 샘플데이터를 5 : 5 비율로 train, test 데이터로 나눔\n",
    "    shuffle=False # 데이터를 섞지 않음\n",
    ")\n",
    "\n",
    "# train 데이터 학습\n",
    "clf.fit(X_train, y_train)\n",
    "\n",
    "# test 데이터로 예측함\n",
    "predicted = clf.predict(X_test)"
   ]
  },
  {
   "cell_type": "code",
   "execution_count": 6,
   "id": "e62e6279",
   "metadata": {},
   "outputs": [
    {
     "name": "stdout",
     "output_type": "stream",
     "text": [
      "labal: 8\n",
      "labal: 8\n",
      "labal: 4\n",
      "labal: 9\n"
     ]
    },
    {
     "data": {
      "image/png": "[encoded data removed]",
      "text/plain": [
       "<Figure size 720x216 with 4 Axes>"
      ]
     },
     "metadata": {
      "needs_background": "light"
     },
     "output_type": "display_data"
    }
   ],
   "source": [
    "# 예측 결과 확인\n",
    "_, axes = plt.subplots(nrows=1, ncols=4, figsize=(10, 3))\n",
    "for ax, image, prediction, label in zip(axes, X_test, predicted, y_test):\n",
    "    ax.set_axis_off()\n",
    "    image = image.reshape(8, 8)\n",
    "    ax.imshow(image, cmap=plt.cm.gray_r, interpolation=\"nearest\")\n",
    "    ax.set_title(f\"Prediction: {prediction}\")\n",
    "    print(f\"labal: {label}\")"
   ]
  },
  {
   "cell_type": "code",
   "execution_count": 7,
   "id": "52823d20",
   "metadata": {},
   "outputs": [
    {
     "name": "stdout",
     "output_type": "stream",
     "text": [
      "Classification report for classifier SVC(gamma=0.001):\n",
      "              precision    recall  f1-score   support\n",
      "\n",
      "           0       1.00      0.99      0.99        88\n",
      "           1       0.99      0.97      0.98        91\n",
      "           2       0.99      0.99      0.99        86\n",
      "           3       0.98      0.87      0.92        91\n",
      "           4       0.99      0.96      0.97        92\n",
      "           5       0.95      0.97      0.96        91\n",
      "           6       0.99      0.99      0.99        91\n",
      "           7       0.96      0.99      0.97        89\n",
      "           8       0.94      1.00      0.97        88\n",
      "           9       0.93      0.98      0.95        92\n",
      "\n",
      "    accuracy                           0.97       899\n",
      "   macro avg       0.97      0.97      0.97       899\n",
      "weighted avg       0.97      0.97      0.97       899\n",
      "\n",
      "\n"
     ]
    }
   ],
   "source": [
    "# 성능 레포트\n",
    "print(\n",
    "    f\"Classification report for classifier {clf}:\\n\"\n",
    "    f\"{metrics.classification_report(y_test, predicted)}\\n\" # 실제 라벨과 예측값을 비교하여 레포트를 생성함\n",
    ")"
   ]
  },
  {
   "cell_type": "markdown",
   "id": "6f8d9b50",
   "metadata": {},
   "source": [
    "---\n",
    "### Iris plants dataset\n",
    "- `load_iris` 함수를 통해 샘플 데이터를 불러올 수 있다. \n",
    "- 붓꽃의 꽃받침과 꽃잎에 대한 높이와 너비에 대한 샘플 데이터 셋이고 주로 classification 학습을 위한 테스트 데이터 셋으로 활용된다."
   ]
  },
  {
   "cell_type": "code",
   "execution_count": 12,
   "id": "d54966b5",
   "metadata": {},
   "outputs": [
    {
     "name": "stdout",
     "output_type": "stream",
     "text": [
      "(150, 4) ['sepal length (cm)', 'sepal width (cm)', 'petal length (cm)', 'petal width (cm)']\n"
     ]
    }
   ],
   "source": [
    "iris = datasets.load_iris() #샘플 dataset을 불러오는 함수.\n",
    "print(iris.data.shape, iris.feature_names) #150개의 데이터 (특징 4개)"
   ]
  },
  {
   "cell_type": "code",
   "execution_count": 13,
   "id": "680988d3",
   "metadata": {},
   "outputs": [
    {
     "data": {
      "text/plain": [
       "(array([[5.1, 3.5, 1.4, 0.2],\n",
       "        [4.9, 3. , 1.4, 0.2],\n",
       "        [4.7, 3.2, 1.3, 0.2],\n",
       "        [4.6, 3.1, 1.5, 0.2],\n",
       "        [5. , 3.6, 1.4, 0.2]]),\n",
       " array([0, 0, 0, 0, 0]))"
      ]
     },
     "execution_count": 13,
     "metadata": {},
     "output_type": "execute_result"
    }
   ],
   "source": [
    "iris.data[:5], iris.target[:5]"
   ]
  },
  {
   "cell_type": "code",
   "execution_count": 14,
   "id": "6e93bbbb",
   "metadata": {},
   "outputs": [
    {
     "name": "stdout",
     "output_type": "stream",
     "text": [
      "x_min:3.8, x_max:8.4, y_min:1.5, y_max:4.9\n"
     ]
    },
    {
     "data": {
      "text/plain": [
       "<Figure size 576x432 with 0 Axes>"
      ]
     },
     "metadata": {},
     "output_type": "display_data"
    }
   ],
   "source": [
    "X = iris.data[:, :2]  # 4가지 특징 중 2가지 특징만 사용 ('sepal length (cm)', 'sepal width (cm)')\n",
    "y = iris.target\n",
    "\n",
    "# 2가지 특징 2차원 공간에 표현하여 이용하여 데이터 확인하기 위함.\n",
    "x_min, x_max = X[:, 0].min() - 0.5, X[:, 0].max() + 0.5 # 최대 최소 값에 0.5씩의 여유를 줘서 예쁘게 표현\n",
    "y_min, y_max = X[:, 1].min() - 0.5, X[:, 1].max() + 0.5 \n",
    "\n",
    "print(f\"x_min:{x_min}, x_max:{x_max}, y_min:{y_min}, y_max:{y_max}\")\n",
    "plt.figure(2, figsize=(8, 6))\n",
    "plt.clf()"
   ]
  },
  {
   "cell_type": "code",
   "execution_count": 15,
   "id": "37fcabc4",
   "metadata": {},
   "outputs": [
    {
     "data": {
      "image/png": "[encoded data removed]",
      "text/plain": [
       "<Figure size 432x288 with 1 Axes>"
      ]
     },
     "metadata": {},
     "output_type": "display_data"
    }
   ],
   "source": [
    "# scatter plot\n",
    "plt.scatter(X[:, 0], X[:, 1], c=y, cmap=plt.cm.Set1, edgecolor=\"k\")\n",
    "plt.xlabel(\"Sepal length\") # x축: sepal length (cm)\n",
    "plt.ylabel(\"Sepal width\") # y축: sepal width (cm)\n",
    "\n",
    "plt.xlim(x_min, x_max)\n",
    "plt.ylim(y_min, y_max)\n",
    "plt.xticks(())\n",
    "plt.yticks(())\n",
    "\n",
    "plt.show()"
   ]
  },
  {
   "cell_type": "code",
   "execution_count": null,
   "id": "7816a936",
   "metadata": {},
   "outputs": [],
   "source": []
  },
  {
   "cell_type": "markdown",
   "id": "eca2b650",
   "metadata": {},
   "source": [
    "---\n",
    "### Diabetes dataset\n",
    "- `load_diabetes` 함수를 통해 샘플 데이터를 불러올 수 있다.\n",
    "- 당뇨병에 대한 데이터 셋이다. 나이, 성별, 혈압 등의 데이터가 포함되어 있다. 주로 regression 학습을 위한 테스트 데이터 셋으로 활용된다."
   ]
  },
  {
   "cell_type": "code",
   "execution_count": 21,
   "id": "0ccc02ad",
   "metadata": {},
   "outputs": [
    {
     "name": "stdout",
     "output_type": "stream",
     "text": [
      "(442, 10) ['age', 'sex', 'bmi', 'bp', 's1', 's2', 's3', 's4', 's5', 's6']\n"
     ]
    }
   ],
   "source": [
    "biabets = datasets.load_diabetes() #샘플 dataset을 불러오는 함수.\n",
    "print(biabets.data.shape, biabets.feature_names) #442개의 데이터 (특징 10개)"
   ]
  }
 ],
 "metadata": {
  "kernelspec": {
   "display_name": "Python 3 (ipykernel)",
   "language": "python",
   "name": "python3"
  },
  "language_info": {
   "codemirror_mode": {
    "name": "ipython",
    "version": 3
   },
   "file_extension": ".py",
   "mimetype": "text/x-python",
   "name": "python",
   "nbconvert_exporter": "python",
   "pygments_lexer": "ipython3",
   "version": "3.9.6"
  }
 },
 "nbformat": 4,
 "nbformat_minor": 5
}
