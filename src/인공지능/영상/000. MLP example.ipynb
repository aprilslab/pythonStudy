{
 "cells": [
  {
   "cell_type": "code",
   "execution_count": null,
   "metadata": {
    "id": "FzE79X0mMszk"
   },
   "outputs": [],
   "source": [
    "import torch\n",
    "import random\n",
    "\n",
    "from torch import nn\n",
    "from torch.utils.data import DataLoader\n",
    "from torchvision import datasets, transforms"
   ]
  },
  {
   "cell_type": "code",
   "execution_count": null,
   "metadata": {
    "id": "IIDtRIduMx3Z"
   },
   "outputs": [],
   "source": [
    "device = 'cuda' if torch.cuda.is_available() else 'cpu' #GPU를 사용할 수 있으면 사용하고 아니면 CPU사용"
   ]
  },
  {
   "cell_type": "code",
   "execution_count": null,
   "metadata": {
    "id": "4XDOJBRNNCZM"
   },
   "outputs": [],
   "source": [
    "# parameters\n",
    "# 하이퍼파라미터. 학습하는 것이 아니라 정해줘야하는 값\n",
    "learning_rate = 0.001 \n",
    "epochs = 15\n",
    "batch_size = 100     #전체 학습 데이터를 100개씩 넣는다. 모든 샘플이 학습이 되면 1 epoch\n",
    "drop_out = 0.3 "
   ]
  },
  {
   "cell_type": "markdown",
   "metadata": {
    "id": "IbPdEL8MKhI_"
   },
   "source": [
    "# **데이터 준비**"
   ]
  },
  {
   "cell_type": "code",
   "execution_count": null,
   "metadata": {
    "id": "CR7RpRmgNFVe"
   },
   "outputs": [],
   "source": [
    "# MNIST dataset\n",
    "training_data = datasets.MNIST(root='MNIST_data/',\n",
    "                          train=True,\n",
    "                          transform=transforms.ToTensor(), #transform은 이미지를 tensor에 맞게 조정하기 위하여 생성\n",
    "                          download=True)\n",
    "\n",
    "test_data = datasets.MNIST(root='MNIST_data/',\n",
    "                         train=False,\n",
    "                         transform=transforms.ToTensor(),\n",
    "                         download=True)"
   ]
  },
  {
   "cell_type": "code",
   "execution_count": null,
   "metadata": {
    "id": "_nR740IaNJ6r"
   },
   "outputs": [],
   "source": [
    "train_dataloader = DataLoader(training_data, batch_size=batch_size, shuffle=True)\n",
    "test_dataloader = DataLoader(test_data, batch_size=batch_size, shuffle=True)                                    "
   ]
  },
  {
   "cell_type": "markdown",
   "metadata": {
    "id": "c2asQN3cKlTi"
   },
   "source": [
    "# **신경망 구성**"
   ]
  },
  {
   "cell_type": "code",
   "execution_count": null,
   "metadata": {
    "id": "rHEWNFHrOl90"
   },
   "outputs": [],
   "source": [
    "# MNIST 이미지크기: 28 * 28 = 784\n",
    "linear1 = nn.Linear(784, 512, bias=True)    # input layer (in, out)\n",
    "linear2 = nn.Linear(512, 512, bias=True)    # 1st hidden layer  \n",
    "linear3 = nn.Linear(512, 512, bias=True)    # 2nd hidden layer\n",
    "linear4 = nn.Linear(512, 10, bias = True)   # output layer\n",
    "\n",
    "relu = nn.ReLU() #activation function으로 ReLU 설정\n",
    "dropout = nn.Dropout(p=drop_out) #dropout 설정"
   ]
  },
  {
   "cell_type": "code",
   "execution_count": null,
   "metadata": {
    "id": "S-ZCjhAWQs2P"
   },
   "outputs": [],
   "source": [
    "#model 생성\n",
    "# 선형 모델만 쓰면 레이어가 얼마나 있던 입력과 출력의 레이러로만 표현이 가능하기 때문에 비선형 함수인 relu함수를 넣어준다.\n",
    "model = nn.Sequential(linear1, relu, dropout, \n",
    "                      linear2, relu, dropout,\n",
    "                      linear3, relu, dropout,\n",
    "                      linear4)\n",
    "model = model.cuda()"
   ]
  },
  {
   "cell_type": "code",
   "execution_count": null,
   "metadata": {
    "id": "FAznne_DOpCB"
   },
   "outputs": [],
   "source": [
    "#cost & loss 명시하기 & optimizer\n",
    "# pytorch는 softmax가 포함이 되어 있기 때문에 생략\n",
    "criterion = nn.CrossEntropyLoss().to(device)\n",
    "optimizer = torch.optim.Adam(model.parameters(), lr=learning_rate) #gradient descent할 때 adam 활용"
   ]
  },
  {
   "cell_type": "markdown",
   "metadata": {
    "id": "PB2YA7bJCuQy"
   },
   "source": [
    "# **학습**"
   ]
  },
  {
   "cell_type": "code",
   "execution_count": null,
   "metadata": {
    "id": "KH8DRStkOtzT"
   },
   "outputs": [],
   "source": [
    "total_batch = len(train_dataloader)\n",
    "model.train()    # Training 시에는 dropout이 있으므로, 이를 활성화시키기 위함 set the model to train mode (dropout=True)\n",
    "\n",
    "for epoch in range(epochs):\n",
    "    avg_cost = 0\n",
    "\n",
    "    for X, Y in train_dataloader:\n",
    "        \n",
    "        X = X.view(-1, 28 * 28).to(device)    # 입력 이미지를 [batch_size × 784]의 크기로 reshape\n",
    "        Y = Y.to(device)                      # 레이블은 원-핫 인코딩이 된 상태가 아니라 0 ~ 9의 정수.\n",
    "\n",
    "        optimizer.zero_grad()                 # optimizer 변수에 포함시킨 매개 변수(weight)들의 기울기(Gradient)를 0으로 초기화\n",
    "        hypothesis = model(X)                 # 가설 설정\n",
    "        cost = criterion(hypothesis, Y)       # 비용 설정\n",
    "        cost.backward()                       # 역전파\n",
    "        optimizer.step()                      # 학습을 통해 계산한 weight, bias, gradient를 최적화함수(optimizer)에에 반영\n",
    "\n",
    "        avg_cost += cost / total_batch\n",
    "\n",
    "    print('Epoch:', '%04d' % (epoch + 1), 'cost =', '{:.9f}'.format(avg_cost))\n",
    "\n",
    "print('Learning finished')"
   ]
  },
  {
   "cell_type": "markdown",
   "metadata": {
    "id": "OKPN_IzzKreh"
   },
   "source": [
    "# **테스트**"
   ]
  },
  {
   "cell_type": "code",
   "execution_count": null,
   "metadata": {
    "colab": {
     "base_uri": "https://localhost:8080/",
     "height": 245
    },
    "id": "ymBJqG-eO-k9",
    "outputId": "098535d2-29e2-4fe5-b5e1-3ddc52a6d331"
   },
   "outputs": [],
   "source": [
    "# Test model and check accuracy\n",
    "with torch.no_grad():\n",
    "    model.eval()    # 테스트 시에는 dropout 적용 안함. set the model to evaluation mode (dropout=False)  \n",
    "\n",
    "    # Test the model using test sets\n",
    "    X_test = test_data.test_data.view(-1, 28 * 28).float().to(device)\n",
    "    Y_test = test_data.test_labels.to(device)\n",
    "\n",
    "    prediction = model(X_test)\n",
    "    correct_prediction = torch.argmax(prediction, 1) == Y_test\n",
    "    accuracy = correct_prediction.float().mean()\n",
    "    print('Accuracy:', accuracy.item())\n",
    "    \n",
    "    # 테스트 데이터 랜덤 샘플링하여 결과 예측\n",
    "    r = random.randint(0, len(test_data) - 1)\n",
    "    X_single_data = test_data.test_data[r:r + 1].view(-1, 28 * 28).float().to(device)\n",
    "    Y_single_data = test_data.test_labels[r:r + 1].to(device)\n",
    "\n",
    "    print('Label: ', Y_single_data.item())\n",
    "    single_prediction = model(X_single_data)\n",
    "    print('Prediction: ', torch.argmax(single_prediction, 1).item())"
   ]
  }
 ],
 "metadata": {
  "accelerator": "GPU",
  "colab": {
   "collapsed_sections": [],
   "provenance": []
  },
  "kernelspec": {
   "display_name": "Python 3 (ipykernel)",
   "language": "python",
   "name": "python3"
  },
  "language_info": {
   "codemirror_mode": {
    "name": "ipython",
    "version": 3
   },
   "file_extension": ".py",
   "mimetype": "text/x-python",
   "name": "python",
   "nbconvert_exporter": "python",
   "pygments_lexer": "ipython3",
   "version": "3.9.6"
  }
 },
 "nbformat": 4,
 "nbformat_minor": 1
}
