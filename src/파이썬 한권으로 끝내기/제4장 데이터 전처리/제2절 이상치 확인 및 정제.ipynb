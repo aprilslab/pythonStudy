{
 "cells": [
  {
   "cell_type": "markdown",
   "id": "78d058f7",
   "metadata": {},
   "source": [
    "## 이상치의 의미\n",
    "\n",
    "## 이상치 확인"
   ]
  },
  {
   "cell_type": "code",
   "execution_count": 1,
   "id": "96063ca4",
   "metadata": {},
   "outputs": [
    {
     "name": "stderr",
     "output_type": "stream",
     "text": [
      "Matplotlib created a temporary config/cache directory at /tmp/matplotlib-alu9ljoe because the default path (/config/matplotlib) is not a writable directory; it is highly recommended to set the MPLCONFIGDIR environment variable to a writable directory, in particular to speed up the import of Matplotlib and to better support multiprocessing.\n"
     ]
    }
   ],
   "source": [
    "import pandas as pd\n",
    "import matplotlib.pyplot as plt \n",
    "from sklearn.datasets import load_wine\n",
    "\n",
    "wine_load = load_wine()\n",
    "wine = pd.DataFrame(wine_load.data, columns=wine_load.feature_names)\n",
    "wine['Class'] = wine_load.target\n",
    "wine['Class'] = wine['Class'].map({0: 'class_1', 1: 'class_2', 2: 'class_3'})"
   ]
  },
  {
   "cell_type": "code",
   "execution_count": 2,
   "id": "1a8d2ce6",
   "metadata": {},
   "outputs": [
    {
     "data": {
      "text/plain": [
       "Index(['alcohol', 'malic_acid', 'ash', 'alcalinity_of_ash', 'magnesium',\n",
       "       'total_phenols', 'flavanoids', 'nonflavanoid_phenols',\n",
       "       'proanthocyanins', 'color_intensity', 'hue',\n",
       "       'od280/od315_of_diluted_wines', 'proline', 'Class'],\n",
       "      dtype='object')"
      ]
     },
     "execution_count": 2,
     "metadata": {},
     "output_type": "execute_result"
    }
   ],
   "source": [
    "wine.columns"
   ]
  },
  {
   "cell_type": "code",
   "execution_count": 3,
   "id": "cdf36d8e",
   "metadata": {},
   "outputs": [
    {
     "data": {
      "image/png": "[encoded data removed]",
      "text/plain": [
       "<Figure size 432x288 with 1 Axes>"
      ]
     },
     "metadata": {
      "needs_background": "light"
     },
     "output_type": "display_data"
    }
   ],
   "source": [
    "plt.boxplot(wine['color_intensity'], whis=1.5)\n",
    "plt.title(\"color_intensity\")\n",
    "plt.show()"
   ]
  },
  {
   "cell_type": "code",
   "execution_count": 4,
   "id": "a90af862",
   "metadata": {},
   "outputs": [
    {
     "data": {
      "text/html": [
       "<div>\n",
       "<style scoped>\n",
       "    .dataframe tbody tr th:only-of-type {\n",
       "        vertical-align: middle;\n",
       "    }\n",
       "\n",
       "    .dataframe tbody tr th {\n",
       "        vertical-align: top;\n",
       "    }\n",
       "\n",
       "    .dataframe thead th {\n",
       "        text-align: right;\n",
       "    }\n",
       "</style>\n",
       "<table border=\"1\" class=\"dataframe\">\n",
       "  <thead>\n",
       "    <tr style=\"text-align: right;\">\n",
       "      <th></th>\n",
       "      <th>color_intensity</th>\n",
       "    </tr>\n",
       "  </thead>\n",
       "  <tbody>\n",
       "    <tr>\n",
       "      <th>151</th>\n",
       "      <td>10.80</td>\n",
       "    </tr>\n",
       "    <tr>\n",
       "      <th>158</th>\n",
       "      <td>13.00</td>\n",
       "    </tr>\n",
       "    <tr>\n",
       "      <th>159</th>\n",
       "      <td>11.75</td>\n",
       "    </tr>\n",
       "    <tr>\n",
       "      <th>166</th>\n",
       "      <td>10.68</td>\n",
       "    </tr>\n",
       "  </tbody>\n",
       "</table>\n",
       "</div>"
      ],
      "text/plain": [
       "     color_intensity\n",
       "151            10.80\n",
       "158            13.00\n",
       "159            11.75\n",
       "166            10.68"
      ]
     },
     "execution_count": 4,
     "metadata": {},
     "output_type": "execute_result"
    }
   ],
   "source": [
    "import numpy as np\n",
    "def outliers_iqr(dt, col):\n",
    "    qurtile_1, qurtile_3 = np.percentile(dt[col], [25, 75])\n",
    "    iqr = qurtile_3 - qurtile_1\n",
    "    lower_whis = qurtile_1 - (iqr * 1.5)\n",
    "    upper_whis = qurtile_3 + (iqr * 1.5)\n",
    "    outliers = dt[(dt[col] > upper_whis) | (dt[col] < lower_whis)]\n",
    "    return outliers[[col]]\n",
    "outliers = outliers_iqr(wine, 'color_intensity')\n",
    "outliers"
   ]
  },
  {
   "cell_type": "markdown",
   "id": "2efe0d37",
   "metadata": {},
   "source": [
    "## 이상치 정제\n",
    "\n",
    "**(1) 이상치 제거**"
   ]
  },
  {
   "cell_type": "code",
   "execution_count": 5,
   "id": "5750807c",
   "metadata": {},
   "outputs": [
    {
     "name": "stdout",
     "output_type": "stream",
     "text": [
      "Original: (178, 14)\n",
      "Drop outliers: (174, 14)\n"
     ]
    }
   ],
   "source": [
    "drop_outliers = wine.drop(index=outliers.index)\n",
    "\n",
    "print(f'Original: {wine.shape}')\n",
    "print(f'Drop outliers: {drop_outliers.shape}')"
   ]
  },
  {
   "cell_type": "markdown",
   "id": "056a638c",
   "metadata": {},
   "source": [
    "**(2) 이상치 대체**"
   ]
  },
  {
   "cell_type": "code",
   "execution_count": 6,
   "id": "c2f3ca19",
   "metadata": {},
   "outputs": [
    {
     "data": {
      "text/plain": [
       "151   NaN\n",
       "158   NaN\n",
       "159   NaN\n",
       "166   NaN\n",
       "Name: color_intensity, dtype: float64"
      ]
     },
     "execution_count": 6,
     "metadata": {},
     "output_type": "execute_result"
    }
   ],
   "source": [
    "wine.loc[outliers.index, 'color_intensity'] = np.NaN\n",
    "wine.loc[outliers.index, 'color_intensity'] "
   ]
  },
  {
   "cell_type": "code",
   "execution_count": 7,
   "id": "0d1b769f",
   "metadata": {},
   "outputs": [
    {
     "data": {
      "text/plain": [
       "151   NaN\n",
       "158   NaN\n",
       "159   NaN\n",
       "166   NaN\n",
       "Name: color_intensity, dtype: float64"
      ]
     },
     "execution_count": 7,
     "metadata": {},
     "output_type": "execute_result"
    }
   ],
   "source": [
    "wine['color_intensity'].fillna(wine['color_intensity'].mean())\n",
    "wine.loc[outliers.index, 'color_intensity'] "
   ]
  }
 ],
 "metadata": {
  "kernelspec": {
   "display_name": "Python 3 (ipykernel)",
   "language": "python",
   "name": "python3"
  },
  "language_info": {
   "codemirror_mode": {
    "name": "ipython",
    "version": 3
   },
   "file_extension": ".py",
   "mimetype": "text/x-python",
   "name": "python",
   "nbconvert_exporter": "python",
   "pygments_lexer": "ipython3",
   "version": "3.8.12"
  }
 },
 "nbformat": 4,
 "nbformat_minor": 5
}
