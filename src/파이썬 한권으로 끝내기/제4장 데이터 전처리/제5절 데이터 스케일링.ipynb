{
 "cells": [
  {
   "cell_type": "code",
   "execution_count": 3,
   "id": "8776c941",
   "metadata": {},
   "outputs": [
    {
     "name": "stdout",
     "output_type": "stream",
     "text": [
      "X_train: (120, 4), X_test: (30, 4)\n",
      "Y_train: (120,), Y_test: (30,)\n"
     ]
    }
   ],
   "source": [
    "import pandas as pd\n",
    "from sklearn.datasets import load_iris\n",
    "from sklearn.model_selection import train_test_split\n",
    "\n",
    "iris = load_iris()\n",
    "iris = pd.DataFrame(iris.data, columns=iris.feature_names)\n",
    "iris['Class'] = load_iris().target\n",
    "iris['Class'] = iris['Class'].map({0: 'Setosa', 1: 'Versicolour', 2: 'Virginica'})\n",
    "\n",
    "X_train, X_test, Y_train, Y_test = train_test_split(iris.drop(columns='Class'), iris['Class'], test_size=0.2, stratify=iris['Class'])\n",
    "print(f'X_train: {X_train.shape}, X_test: {X_test.shape}')\n",
    "print(f'Y_train: {Y_train.shape}, Y_test: {Y_test.shape}')"
   ]
  },
  {
   "cell_type": "code",
   "execution_count": 4,
   "id": "3b62e2de",
   "metadata": {},
   "outputs": [
    {
     "data": {
      "text/plain": [
       "Setosa         40\n",
       "Virginica      40\n",
       "Versicolour    40\n",
       "Name: Class, dtype: int64"
      ]
     },
     "execution_count": 4,
     "metadata": {},
     "output_type": "execute_result"
    }
   ],
   "source": [
    "Y_train.value_counts()"
   ]
  },
  {
   "cell_type": "markdown",
   "id": "255f6141",
   "metadata": {},
   "source": [
    "**(1) 데이터 스케일링 방법**\n",
    "\n",
    "**(2) Standard Scaler**"
   ]
  },
  {
   "cell_type": "code",
   "execution_count": 9,
   "id": "20d104c7",
   "metadata": {},
   "outputs": [
    {
     "name": "stdout",
     "output_type": "stream",
     "text": [
      "\t\t(min, max) (mean, std)\n",
      "Train_scaled(-2.01 3.10) (0.00 1.00)\n",
      "Test_scaled(-2.47 2.53) (-0.01 1.02)\n"
     ]
    }
   ],
   "source": [
    "from sklearn.preprocessing import StandardScaler\n",
    "stdScaler = StandardScaler()\n",
    "\n",
    "stdScaler.fit(X_train)\n",
    "X_train_sc = stdScaler.transform(X_train)\n",
    "X_test_sc = stdScaler.transform(X_test)\n",
    "\n",
    "print(f'\\t\\t(min, max) (mean, std)')\n",
    "print(f'Train_scaled({X_train_sc.min():.2f} {X_train_sc.max():.2f}) ({X_train_sc.mean():.2f} {X_train_sc.std():.2f})')\n",
    "print(f'Test_scaled({X_test_sc.min():.2f} {X_test_sc.max():.2f}) ({X_test_sc.mean():.2f} {X_test_sc.std():.2f})')"
   ]
  },
  {
   "cell_type": "markdown",
   "id": "63c81095",
   "metadata": {},
   "source": [
    "**(3) Min-max Scaler**"
   ]
  },
  {
   "cell_type": "code",
   "execution_count": 10,
   "id": "06ac7eb4",
   "metadata": {},
   "outputs": [
    {
     "name": "stdout",
     "output_type": "stream",
     "text": [
      "\t\t(min, max) (mean, std)\n",
      "Train_scaled(0.00 1.00) (0.44 0.27)\n",
      "Test_scaled(-0.09 1.06) (0.44 0.27)\n"
     ]
    }
   ],
   "source": [
    "from sklearn.preprocessing import MinMaxScaler\n",
    "\n",
    "mmScaler = MinMaxScaler()\n",
    "\n",
    "mmScaler.fit(X_train)\n",
    "X_train_sc = mmScaler.transform(X_train)\n",
    "X_test_sc = mmScaler.transform(X_test)\n",
    "\n",
    "print(f'\\t\\t(min, max) (mean, std)')\n",
    "print(f'Train_scaled({X_train_sc.min():.2f} {X_train_sc.max():.2f}) ({X_train_sc.mean():.2f} {X_train_sc.std():.2f})')\n",
    "print(f'Test_scaled({X_test_sc.min():.2f} {X_test_sc.max():.2f}) ({X_test_sc.mean():.2f} {X_test_sc.std():.2f})')"
   ]
  },
  {
   "cell_type": "markdown",
   "id": "7e73e3fd",
   "metadata": {},
   "source": [
    "**(4) Max Abs Scaler**"
   ]
  },
  {
   "cell_type": "code",
   "execution_count": 11,
   "id": "5253893a",
   "metadata": {},
   "outputs": [
    {
     "name": "stdout",
     "output_type": "stream",
     "text": [
      "\t\t(min, max) (mean, std)\n",
      "Train_scaled(0.04 1.00) (0.62 0.24)\n",
      "Test_scaled(0.08 1.03) (0.62 0.24)\n"
     ]
    }
   ],
   "source": [
    "from sklearn.preprocessing import MaxAbsScaler\n",
    "\n",
    "maScaler = MaxAbsScaler()\n",
    "\n",
    "maScaler.fit(X_train)\n",
    "X_train_sc = maScaler.transform(X_train)\n",
    "X_test_sc = maScaler.transform(X_test)\n",
    "\n",
    "print(f'\\t\\t(min, max) (mean, std)')\n",
    "print(f'Train_scaled({X_train_sc.min():.2f} {X_train_sc.max():.2f}) ({X_train_sc.mean():.2f} {X_train_sc.std():.2f})')\n",
    "print(f'Test_scaled({X_test_sc.min():.2f} {X_test_sc.max():.2f}) ({X_test_sc.mean():.2f} {X_test_sc.std():.2f})')"
   ]
  },
  {
   "cell_type": "markdown",
   "id": "dfe856ed",
   "metadata": {},
   "source": [
    "**(5) Robust Scaler**"
   ]
  },
  {
   "cell_type": "code",
   "execution_count": null,
   "id": "597d7a4f",
   "metadata": {},
   "outputs": [],
   "source": []
  }
 ],
 "metadata": {
  "kernelspec": {
   "display_name": "Python 3 (ipykernel)",
   "language": "python",
   "name": "python3"
  },
  "language_info": {
   "codemirror_mode": {
    "name": "ipython",
    "version": 3
   },
   "file_extension": ".py",
   "mimetype": "text/x-python",
   "name": "python",
   "nbconvert_exporter": "python",
   "pygments_lexer": "ipython3",
   "version": "3.8.12"
  }
 },
 "nbformat": 4,
 "nbformat_minor": 5
}
