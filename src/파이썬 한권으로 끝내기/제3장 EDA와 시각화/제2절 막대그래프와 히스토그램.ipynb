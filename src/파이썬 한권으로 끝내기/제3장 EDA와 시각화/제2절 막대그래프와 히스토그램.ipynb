{
 "cells": [
  {
   "cell_type": "markdown",
   "id": "210e0ef8",
   "metadata": {},
   "source": [
    "## 막대그래프\n",
    "\n",
    "`data_cnt=data['target'].value_counts()\n",
    "plt.bar(x, height, width=0.8, bottom=None, align='center', data=None)`\n",
    "- x: 막대의 x좌표\n",
    "- height: 막대의 높이\n",
    "- width: 막대의 너비\n",
    "- bottom: 막대의 바닥면 y좌표(누적 막대 그래프를 그릴 때 사용할 수 있음)\n",
    "- align: x좌표에 대한 막대 정렬 {'center', 'edge'}"
   ]
  },
  {
   "cell_type": "code",
   "execution_count": 4,
   "id": "87e5146a",
   "metadata": {},
   "outputs": [
    {
     "data": {
      "text/plain": [
       "class_1    71\n",
       "class_0    59\n",
       "class_2    48\n",
       "Name: Class, dtype: int64"
      ]
     },
     "execution_count": 4,
     "metadata": {},
     "output_type": "execute_result"
    }
   ],
   "source": [
    "# 데이터 가져오기\n",
    "import pandas as pd\n",
    "import matplotlib.pyplot as plt\n",
    "from sklearn.datasets import load_wine\n",
    "\n",
    "wine_load = load_wine()\n",
    "wine = pd.DataFrame(wine_load.data, columns=wine_load.feature_names)\n",
    "wine['Class'] = wine_load.target\n",
    "wine['Class'] = wine['Class'].map({0:'class_0', 1:'class_1', 2:'class_2'})\n",
    "\n",
    "#도수 분포표\n",
    "wine_type = wine['Class'].value_counts()\n",
    "wine_type"
   ]
  },
  {
   "cell_type": "code",
   "execution_count": 6,
   "id": "beebbfe0",
   "metadata": {},
   "outputs": [
    {
     "data": {
      "image/png": "[encoded data removed]",
      "text/plain": [
       "<Figure size 432x288 with 1 Axes>"
      ]
     },
     "metadata": {
      "needs_background": "light"
     },
     "output_type": "display_data"
    }
   ],
   "source": [
    "#막대그래프 그리기\n",
    "plt.bar(wine_type.index, wine_type.values, width=0.8, bottom=None, align='center')\n",
    "plt.show()"
   ]
  },
  {
   "cell_type": "code",
   "execution_count": 7,
   "id": "60228244",
   "metadata": {},
   "outputs": [
    {
     "data": {
      "image/png": "[encoded data removed]",
      "text/plain": [
       "<Figure size 432x288 with 1 Axes>"
      ]
     },
     "metadata": {
      "needs_background": "light"
     },
     "output_type": "display_data"
    }
   ],
   "source": [
    "#barh함수로 수평 막대그래프 그리기\n",
    "plt.barh(wine_type.index, wine_type.values, height=0.8, left=None, align='edge')\n",
    "plt.show()"
   ]
  },
  {
   "cell_type": "markdown",
   "id": "7bd2c212",
   "metadata": {},
   "source": [
    "범주의 차이가 극단적 차이를 보이지 않는다.\n",
    "\n",
    "만약 범주의 개수 차이가 극단적일경우 데이터 전처리 과정에서 업/다운 샘플링을 통해 각 범주의 개수가 유사하도록 조정해야한다는 인사이트를 얻을 수 있다.\n",
    "\n",
    "## 히스토그램\n",
    "\n",
    "`plt.hist('변수명', bins=None, range=None, density=False, data=df)`\n",
    "- bins: 히스토그램의 구간의 개수 정의\n",
    "- range: bin의 상한값과 하한값(x.min(), x.max())형태로 선언\n",
    "- density: True이면 확률밀도함수를 그리고 반환"
   ]
  },
  {
   "cell_type": "code",
   "execution_count": 8,
   "id": "86fe3ed8",
   "metadata": {},
   "outputs": [
    {
     "data": {
      "image/png": "[encoded data removed]",
      "text/plain": [
       "<Figure size 432x288 with 1 Axes>"
      ]
     },
     "metadata": {
      "needs_background": "light"
     },
     "output_type": "display_data"
    }
   ],
   "source": [
    "plt.title('Wind alcohol histogram')\n",
    "plt.hist('alcohol', bins=8, range=(11, 15), color='purple', data=wine)\n",
    "plt.show()"
   ]
  },
  {
   "cell_type": "markdown",
   "id": "14272685",
   "metadata": {},
   "source": [
    "알코올의 도수는 12~14도 구간에 밀집되어 있음"
   ]
  }
 ],
 "metadata": {
  "kernelspec": {
   "display_name": "Python 3 (ipykernel)",
   "language": "python",
   "name": "python3"
  },
  "language_info": {
   "codemirror_mode": {
    "name": "ipython",
    "version": 3
   },
   "file_extension": ".py",
   "mimetype": "text/x-python",
   "name": "python",
   "nbconvert_exporter": "python",
   "pygments_lexer": "ipython3",
   "version": "3.8.12"
  }
 },
 "nbformat": 4,
 "nbformat_minor": 5
}
