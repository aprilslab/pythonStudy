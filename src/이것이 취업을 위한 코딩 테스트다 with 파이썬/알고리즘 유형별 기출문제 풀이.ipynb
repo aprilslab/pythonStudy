{
 "cells": [
  {
   "cell_type": "markdown",
   "id": "22d6af1c",
   "metadata": {},
   "source": [
    "## A 01 모험가 길드"
   ]
  },
  {
   "cell_type": "code",
   "execution_count": null,
   "id": "c66e6c8a",
   "metadata": {},
   "outputs": [],
   "source": []
  },
  {
   "cell_type": "markdown",
   "id": "fe833136",
   "metadata": {},
   "source": [
    "**Solution**"
   ]
  },
  {
   "cell_type": "code",
   "execution_count": null,
   "id": "c06dc710",
   "metadata": {},
   "outputs": [],
   "source": [
    "class Node:\n",
    "    def __init__(self, data, left_node, right_node):\n",
    "        self.data = data\n",
    "        self.left_node = left_node\n",
    "        self.right_node = right_node\n",
    "\n",
    "# 전위 순회(Preorder Traversal)\n",
    "def pre_order(node):\n",
    "    print(node.data, end=' ')\n",
    "    if node.left_node != None:\n",
    "        pre_order(tree[node.left_node])\n",
    "    if node.right_node != None:\n",
    "        pre_order(tree[node.right_node])\n",
    "\n",
    "# 중위 순회(Inorder Traversal)\n",
    "def in_order(node):\n",
    "    if node.left_node != None:\n",
    "        in_order(tree[node.left_node])\n",
    "    print(node.data, end=' ')\n",
    "    if node.right_node != None:\n",
    "        in_order(tree[node.right_node])\n",
    "\n",
    "# 후위 순회(Postorder Traversal)\n",
    "def post_order(node):\n",
    "    if node.left_node != None:\n",
    "        post_order(tree[node.left_node])\n",
    "    if node.right_node != None:\n",
    "        post_order(tree[node.right_node])\n",
    "    print(node.data, end=' ')\n",
    "\n",
    "n = int(input())\n",
    "tree = {}\n",
    "\n",
    "for i in range(n):\n",
    "    data, left_node, right_node = input().split()\n",
    "    if left_node == \"None\":\n",
    "        left_node = None\n",
    "    if right_node == \"None\":\n",
    "        right_node = None\n",
    "    tree[data] = Node(data, left_node, right_node)\n",
    "\n",
    "pre_order(tree['A'])\n",
    "print()\n",
    "in_order(tree['A'])\n",
    "print()\n",
    "post_order(tree['A'])\n",
    "\n",
    "'''\n",
    "[예시 입력]\n",
    "7\n",
    "A B C\n",
    "B D E\n",
    "C F G\n",
    "D None None\n",
    "E None None\n",
    "F None None\n",
    "G None None\n",
    "\n",
    "[예시 출력]\n",
    "A B D E C F G \n",
    "D B E A F C G \n",
    "D E B F G C A \n",
    "'''\n"
   ]
  },
  {
   "cell_type": "markdown",
   "id": "71d942c8",
   "metadata": {},
   "source": [
    "## A 02 곱하기 혹은 더하기"
   ]
  },
  {
   "cell_type": "code",
   "execution_count": null,
   "id": "cd46875d",
   "metadata": {},
   "outputs": [],
   "source": []
  },
  {
   "cell_type": "markdown",
   "id": "3e0022f1",
   "metadata": {},
   "source": [
    "**Solution**"
   ]
  },
  {
   "cell_type": "code",
   "execution_count": null,
   "id": "871d586d",
   "metadata": {},
   "outputs": [],
   "source": [
    "import heapq\n",
    "\n",
    "def heapsort(iterable):\n",
    "    h = []\n",
    "    result = []\n",
    "    # 모든 원소를 차례대로 힙에 삽입\n",
    "    for value in iterable:\n",
    "        heapq.heappush(h, value)\n",
    "    # 힙에 삽입된 모든 원소를 차례대로 꺼내어 담기\n",
    "    for i in range(len(h)):\n",
    "        result.append(heapq.heappop(h))\n",
    "    return result\n",
    "\n",
    "n = int(input())\n",
    "arr = []\n",
    "\n",
    "for i in range(n):\n",
    "    arr.append(int(input()))\n",
    "\n",
    "res = heapsort(arr)\n",
    "\n",
    "for i in range(n):\n",
    "    print(res[i])\n"
   ]
  },
  {
   "cell_type": "markdown",
   "id": "ba6f27fc",
   "metadata": {},
   "source": [
    "## A 03 문자열 뒤집기"
   ]
  },
  {
   "cell_type": "code",
   "execution_count": null,
   "id": "f301230d",
   "metadata": {},
   "outputs": [],
   "source": []
  },
  {
   "cell_type": "markdown",
   "id": "78d14830",
   "metadata": {},
   "source": [
    "**Solution**"
   ]
  },
  {
   "cell_type": "code",
   "execution_count": null,
   "id": "38b506b7",
   "metadata": {},
   "outputs": [],
   "source": [
    "# 데이터의 개수(n), 변경 횟수(m), 구간 합 계산 횟수(k)\n",
    "n, m, k = map(int, input().split())\n",
    "\n",
    "# 전체 데이터의 개수는 최대 1,000,000개\n",
    "arr = [0] * (n + 1)\n",
    "tree = [0] * (n + 1)\n",
    "\n",
    "# i번째 수까지의 누적 합을 계산하는 함수\n",
    "def prefix_sum(i):\n",
    "    result = 0\n",
    "    while i > 0:\n",
    "        result += tree[i]\n",
    "        # 0이 아닌 마지막 비트만큼 빼가면서 이동\n",
    "        i -= (i & -i)\n",
    "    return result\n",
    "\n",
    "# i번째 수를 dif만큼 더하는 함수\n",
    "def update(i, dif):\n",
    "    while i <= n:\n",
    "        tree[i] += dif\n",
    "        i += (i & -i)\n",
    "\n",
    "# start부터 end까지의 구간 합을 계산하는 함수\n",
    "def interval_sum(start, end):\n",
    "    return prefix_sum(end) - prefix_sum(start - 1)\n",
    "\n",
    "for i in range(1, n + 1):\n",
    "    x = int(input())\n",
    "    arr[i] = x\n",
    "    update(i, x)\n",
    "\n",
    "for i in range(m + k):\n",
    "    a, b, c = map(int, input().split())\n",
    "    # 업데이트(update) 연산인 경우\n",
    "    if a == 1:\n",
    "        update(b, c - arr[b]) # 바뀐 크기(dif)만큼 적용\n",
    "        arr[b] = c\n",
    "    # 구간 합(interval sum) 연산인 경우\n",
    "    else:\n",
    "        print(interval_sum(b, c))\n"
   ]
  },
  {
   "cell_type": "markdown",
   "id": "11542d8a",
   "metadata": {},
   "source": [
    "## A 04 만들 수 없는 금액"
   ]
  },
  {
   "cell_type": "code",
   "execution_count": null,
   "id": "877b7a78",
   "metadata": {},
   "outputs": [],
   "source": []
  },
  {
   "cell_type": "markdown",
   "id": "acd427a4",
   "metadata": {},
   "source": [
    "**Solution**"
   ]
  },
  {
   "cell_type": "code",
   "execution_count": null,
   "id": "accbd83c",
   "metadata": {},
   "outputs": [],
   "source": [
    "INF = int(1e9) # 무한을 의미하는 값으로 10억을 설정\n",
    "\n",
    "# 노드의 개수, 간선의 개수를 입력받기\n",
    "n, m = map(int, input().split())\n",
    "# 모든 간선에 대한 정보를 담는 리스트 만들기\n",
    "edges = []\n",
    "# 최단 거리 테이블을 모두 무한으로 초기화\n",
    "distance = [INF] * (n + 1)\n",
    "\n",
    "# 모든 간선 정보를 입력받기\n",
    "for _ in range(m):\n",
    "    a, b, c = map(int, input().split())\n",
    "    # a번 노드에서 b번 노드로 가는 비용이 c라는 의미\n",
    "    edges.append((a, b, c))\n",
    "\n",
    "def bf(start):\n",
    "    # 시작 노드에 대해서 초기화\n",
    "    distance[start] = 0\n",
    "    # 전체 n - 1번의 라운드(round)를 반복\n",
    "    for i in range(n):\n",
    "        # 매 반복마다 \"모든 간선\"을 확인하며\n",
    "        for j in range(m):\n",
    "            cur_node = edges[j][0]\n",
    "            next_node = edges[j][1]\n",
    "            edge_cost = edges[j][2]\n",
    "            # 현재 간선을 거쳐서 다른 노드로 이동하는 거리가 더 짧은 경우\n",
    "            if distance[cur_node] != INF and distance[next_node] > distance[cur_node] + edge_cost:\n",
    "                distance[next_node] = distance[cur_node] + edge_cost\n",
    "                # n번째 라운드에서도 값이 갱신된다면 음수 순환이 존재\n",
    "                if i == n - 1:\n",
    "                    return True\n",
    "    return False\n",
    "\n",
    "# 벨만 포드 알고리즘을 수행\n",
    "negative_cycle = bf(1) # 1번 노드가 시작 노드\n",
    "\n",
    "if negative_cycle:\n",
    "    print(\"-1\")\n",
    "else:\n",
    "    # 1번 노드를 제외한 다른 모든 노드로 가기 위한 최단 거리를 출력\n",
    "    for i in range(2, n + 1):\n",
    "        # 도달할 수 없는 경우, -1을 출력\n",
    "        if distance[i] == INF:\n",
    "            print(\"-1\")\n",
    "        # 도달할 수 있는 경우 거리를 출력\n",
    "        else:\n",
    "            print(distance[i])\n"
   ]
  },
  {
   "cell_type": "markdown",
   "id": "b5d2fb08",
   "metadata": {},
   "source": [
    "## A 05 볼링공 고르기"
   ]
  },
  {
   "cell_type": "code",
   "execution_count": null,
   "id": "d0f603b9",
   "metadata": {},
   "outputs": [],
   "source": []
  },
  {
   "cell_type": "markdown",
   "id": "8100bbce",
   "metadata": {},
   "source": [
    "**Solution**"
   ]
  },
  {
   "cell_type": "code",
   "execution_count": null,
   "id": "c8ee4b80",
   "metadata": {},
   "outputs": [],
   "source": [
    "# import sys\n",
    "# sys.setrecursionlimit(int(1e5)) # 런타임 오류를 피하기 위한 재귀 깊이 제한 설정\n",
    "\n",
    "n = int(input())\n",
    "\n",
    "parent = [0] * (n + 1) # 부모 노드 정보\n",
    "d = [0] * (n + 1) # 각 노드까지의 깊이\n",
    "c = [0] * (n + 1) # 각 노드의 깊이가 계산되었는지 여부\n",
    "graph = [[] for _ in range(n + 1)] # 그래프(graph) 정보\n",
    "\n",
    "for _ in range(n - 1):\n",
    "    a, b = map(int, input().split())\n",
    "    graph[a].append(b)\n",
    "    graph[b].append(a)\n",
    "\n",
    "# 루트 노드부터 시작하여 깊이(depth)를 구하는 함수\n",
    "def dfs(x, depth):\n",
    "    c[x] = True\n",
    "    d[x] = depth\n",
    "    for y in graph[x]:\n",
    "        if c[y]: # 이미 깊이를 구했다면 넘기기\n",
    "            continue\n",
    "        parent[y] = x\n",
    "        dfs(y, depth + 1)\n",
    "\n",
    "# A와 B의 최소 공통 조상을 찾는 함수\n",
    "def lca(a, b):\n",
    "    # 먼저 깊이(depth)가 동일하도록\n",
    "    while d[a] != d[b]:\n",
    "        if d[a] > d[b]:\n",
    "            a = parent[a]\n",
    "        else:\n",
    "            b = parent[b]\n",
    "    # 노드가 같아지도록\n",
    "    while a != b:\n",
    "        a = parent[a]\n",
    "        b = parent[b]\n",
    "    return a\n",
    "\n",
    "dfs(1, 0) # 루트 노드는 1번 노드\n",
    "\n",
    "m = int(input())\n",
    "\n",
    "for i in range(m):\n",
    "    a, b = map(int, input().split())\n",
    "    print(lca(a, b))\n"
   ]
  }
 ],
 "metadata": {
  "kernelspec": {
   "display_name": "Python 3 (ipykernel)",
   "language": "python",
   "name": "python3"
  },
  "language_info": {
   "codemirror_mode": {
    "name": "ipython",
    "version": 3
   },
   "file_extension": ".py",
   "mimetype": "text/x-python",
   "name": "python",
   "nbconvert_exporter": "python",
   "pygments_lexer": "ipython3",
   "version": "3.9.6"
  }
 },
 "nbformat": 4,
 "nbformat_minor": 5
}
