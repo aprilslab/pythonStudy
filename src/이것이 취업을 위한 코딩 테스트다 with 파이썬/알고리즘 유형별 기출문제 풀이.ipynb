{
 "cells": [
  {
   "cell_type": "markdown",
   "id": "4cdf27de",
   "metadata": {},
   "source": [
    "## A 01 모험가 길드"
   ]
  },
  {
   "cell_type": "code",
   "execution_count": null,
   "id": "378e703b",
   "metadata": {},
   "outputs": [],
   "source": []
  },
  {
   "cell_type": "markdown",
   "id": "6fae3675",
   "metadata": {},
   "source": [
    "**Solution**"
   ]
  },
  {
   "cell_type": "code",
   "execution_count": null,
   "id": "f1a3bb85",
   "metadata": {},
   "outputs": [],
   "source": [
    "class Node:\n",
    "    def __init__(self, data, left_node, right_node):\n",
    "        self.data = data\n",
    "        self.left_node = left_node\n",
    "        self.right_node = right_node\n",
    "\n",
    "# 전위 순회(Preorder Traversal)\n",
    "def pre_order(node):\n",
    "    print(node.data, end=' ')\n",
    "    if node.left_node != None:\n",
    "        pre_order(tree[node.left_node])\n",
    "    if node.right_node != None:\n",
    "        pre_order(tree[node.right_node])\n",
    "\n",
    "# 중위 순회(Inorder Traversal)\n",
    "def in_order(node):\n",
    "    if node.left_node != None:\n",
    "        in_order(tree[node.left_node])\n",
    "    print(node.data, end=' ')\n",
    "    if node.right_node != None:\n",
    "        in_order(tree[node.right_node])\n",
    "\n",
    "# 후위 순회(Postorder Traversal)\n",
    "def post_order(node):\n",
    "    if node.left_node != None:\n",
    "        post_order(tree[node.left_node])\n",
    "    if node.right_node != None:\n",
    "        post_order(tree[node.right_node])\n",
    "    print(node.data, end=' ')\n",
    "\n",
    "n = int(input())\n",
    "tree = {}\n",
    "\n",
    "for i in range(n):\n",
    "    data, left_node, right_node = input().split()\n",
    "    if left_node == \"None\":\n",
    "        left_node = None\n",
    "    if right_node == \"None\":\n",
    "        right_node = None\n",
    "    tree[data] = Node(data, left_node, right_node)\n",
    "\n",
    "pre_order(tree['A'])\n",
    "print()\n",
    "in_order(tree['A'])\n",
    "print()\n",
    "post_order(tree['A'])\n",
    "\n",
    "'''\n",
    "[예시 입력]\n",
    "7\n",
    "A B C\n",
    "B D E\n",
    "C F G\n",
    "D None None\n",
    "E None None\n",
    "F None None\n",
    "G None None\n",
    "\n",
    "[예시 출력]\n",
    "A B D E C F G \n",
    "D B E A F C G \n",
    "D E B F G C A \n",
    "'''\n"
   ]
  }
 ],
 "metadata": {
  "kernelspec": {
   "display_name": "Python 3 (ipykernel)",
   "language": "python",
   "name": "python3"
  },
  "language_info": {
   "codemirror_mode": {
    "name": "ipython",
    "version": 3
   },
   "file_extension": ".py",
   "mimetype": "text/x-python",
   "name": "python",
   "nbconvert_exporter": "python",
   "pygments_lexer": "ipython3",
   "version": "3.9.6"
  }
 },
 "nbformat": 4,
 "nbformat_minor": 5
}
