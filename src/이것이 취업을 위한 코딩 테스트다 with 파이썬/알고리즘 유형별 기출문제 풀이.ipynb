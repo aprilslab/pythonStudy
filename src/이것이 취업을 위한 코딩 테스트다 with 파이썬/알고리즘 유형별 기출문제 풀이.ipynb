{
 "cells": [
  {
   "cell_type": "markdown",
   "id": "8a1bd2e0",
   "metadata": {},
   "source": [
    "## A 01 모험가 길드"
   ]
  },
  {
   "cell_type": "code",
   "execution_count": null,
   "id": "d6660106",
   "metadata": {},
   "outputs": [],
   "source": []
  },
  {
   "cell_type": "markdown",
   "id": "fff05660",
   "metadata": {},
   "source": [
    "**Solution**"
   ]
  },
  {
   "cell_type": "code",
   "execution_count": null,
   "id": "b052d215",
   "metadata": {},
   "outputs": [],
   "source": [
    "class Node:\n",
    "    def __init__(self, data, left_node, right_node):\n",
    "        self.data = data\n",
    "        self.left_node = left_node\n",
    "        self.right_node = right_node\n",
    "\n",
    "# 전위 순회(Preorder Traversal)\n",
    "def pre_order(node):\n",
    "    print(node.data, end=' ')\n",
    "    if node.left_node != None:\n",
    "        pre_order(tree[node.left_node])\n",
    "    if node.right_node != None:\n",
    "        pre_order(tree[node.right_node])\n",
    "\n",
    "# 중위 순회(Inorder Traversal)\n",
    "def in_order(node):\n",
    "    if node.left_node != None:\n",
    "        in_order(tree[node.left_node])\n",
    "    print(node.data, end=' ')\n",
    "    if node.right_node != None:\n",
    "        in_order(tree[node.right_node])\n",
    "\n",
    "# 후위 순회(Postorder Traversal)\n",
    "def post_order(node):\n",
    "    if node.left_node != None:\n",
    "        post_order(tree[node.left_node])\n",
    "    if node.right_node != None:\n",
    "        post_order(tree[node.right_node])\n",
    "    print(node.data, end=' ')\n",
    "\n",
    "n = int(input())\n",
    "tree = {}\n",
    "\n",
    "for i in range(n):\n",
    "    data, left_node, right_node = input().split()\n",
    "    if left_node == \"None\":\n",
    "        left_node = None\n",
    "    if right_node == \"None\":\n",
    "        right_node = None\n",
    "    tree[data] = Node(data, left_node, right_node)\n",
    "\n",
    "pre_order(tree['A'])\n",
    "print()\n",
    "in_order(tree['A'])\n",
    "print()\n",
    "post_order(tree['A'])\n",
    "\n",
    "'''\n",
    "[예시 입력]\n",
    "7\n",
    "A B C\n",
    "B D E\n",
    "C F G\n",
    "D None None\n",
    "E None None\n",
    "F None None\n",
    "G None None\n",
    "\n",
    "[예시 출력]\n",
    "A B D E C F G \n",
    "D B E A F C G \n",
    "D E B F G C A \n",
    "'''\n"
   ]
  },
  {
   "cell_type": "markdown",
   "id": "01d24c14",
   "metadata": {},
   "source": [
    "## A 02 곱하기 혹은 더하기"
   ]
  },
  {
   "cell_type": "code",
   "execution_count": null,
   "id": "2f6decd3",
   "metadata": {},
   "outputs": [],
   "source": []
  },
  {
   "cell_type": "markdown",
   "id": "5c8671ad",
   "metadata": {},
   "source": [
    "**Solution**"
   ]
  },
  {
   "cell_type": "code",
   "execution_count": null,
   "id": "b2787a3f",
   "metadata": {},
   "outputs": [],
   "source": [
    "import sys\n",
    "import heapq\n",
    "input = sys.stdin.readline\n",
    "\n",
    "def heapsort(iterable):\n",
    "    h = []\n",
    "    result = []\n",
    "    # 모든 원소를 차례대로 힙에 삽입\n",
    "    for value in iterable:\n",
    "        heapq.heappush(h, value)\n",
    "    # 힙에 삽입된 모든 원소를 차례대로 꺼내어 담기\n",
    "    for i in range(len(h)):\n",
    "        result.append(heapq.heappop(h))\n",
    "    return result\n",
    "\n",
    "n = int(input())\n",
    "arr = []\n",
    "\n",
    "for i in range(n):\n",
    "    arr.append(int(input()))\n",
    "\n",
    "res = heapsort(arr)\n",
    "\n",
    "for i in range(n):\n",
    "    print(res[i])\n"
   ]
  },
  {
   "cell_type": "markdown",
   "id": "73336e07",
   "metadata": {},
   "source": [
    "## A 03 문자열 뒤집기"
   ]
  },
  {
   "cell_type": "code",
   "execution_count": null,
   "id": "4c0d4b0f",
   "metadata": {},
   "outputs": [],
   "source": []
  },
  {
   "cell_type": "markdown",
   "id": "4e6874a6",
   "metadata": {},
   "source": [
    "**Solution**"
   ]
  },
  {
   "cell_type": "code",
   "execution_count": null,
   "id": "49490f31",
   "metadata": {},
   "outputs": [],
   "source": [
    "import sys\n",
    "input = sys.stdin.readline\n",
    "\n",
    "# 데이터의 개수(n), 변경 횟수(m), 구간 합 계산 횟수(k)\n",
    "n, m, k = map(int, input().split())\n",
    "\n",
    "# 전체 데이터의 개수는 최대 1,000,000개\n",
    "arr = [0] * (n + 1)\n",
    "tree = [0] * (n + 1)\n",
    "\n",
    "# i번째 수까지의 누적 합을 계산하는 함수\n",
    "def prefix_sum(i):\n",
    "    result = 0\n",
    "    while i > 0:\n",
    "        result += tree[i]\n",
    "        # 0이 아닌 마지막 비트만큼 빼가면서 이동\n",
    "        i -= (i & -i)\n",
    "    return result\n",
    "\n",
    "# i번째 수를 dif만큼 더하는 함수\n",
    "def update(i, dif):\n",
    "    while i <= n:\n",
    "        tree[i] += dif\n",
    "        i += (i & -i)\n",
    "\n",
    "# start부터 end까지의 구간 합을 계산하는 함수\n",
    "def interval_sum(start, end):\n",
    "    return prefix_sum(end) - prefix_sum(start - 1)\n",
    "\n",
    "for i in range(1, n + 1):\n",
    "    x = int(input())\n",
    "    arr[i] = x\n",
    "    update(i, x)\n",
    "\n",
    "for i in range(m + k):\n",
    "    a, b, c = map(int, input().split())\n",
    "    # 업데이트(update) 연산인 경우\n",
    "    if a == 1:\n",
    "        update(b, c - arr[b]) # 바뀐 크기(dif)만큼 적용\n",
    "        arr[b] = c\n",
    "    # 구간 합(interval sum) 연산인 경우\n",
    "    else:\n",
    "        print(interval_sum(b, c))\n"
   ]
  }
 ],
 "metadata": {
  "kernelspec": {
   "display_name": "Python 3 (ipykernel)",
   "language": "python",
   "name": "python3"
  },
  "language_info": {
   "codemirror_mode": {
    "name": "ipython",
    "version": 3
   },
   "file_extension": ".py",
   "mimetype": "text/x-python",
   "name": "python",
   "nbconvert_exporter": "python",
   "pygments_lexer": "ipython3",
   "version": "3.9.6"
  }
 },
 "nbformat": 4,
 "nbformat_minor": 5
}
