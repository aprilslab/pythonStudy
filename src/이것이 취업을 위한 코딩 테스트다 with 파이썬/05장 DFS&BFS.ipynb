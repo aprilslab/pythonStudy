{
 "cells": [
  {
   "cell_type": "markdown",
   "id": "c8d249e9",
   "metadata": {},
   "source": [
    "## 스택 구현 예제"
   ]
  },
  {
   "cell_type": "code",
   "execution_count": null,
   "id": "ae3e1252",
   "metadata": {},
   "outputs": [],
   "source": [
    "# 삽입(5) - 삽입(2) - 삽입(3) - 삽입(7) - 삭제() - 삽입(1) - 삽입(4) - 삭제()\n"
   ]
  },
  {
   "cell_type": "markdown",
   "id": "b2de31d0",
   "metadata": {},
   "source": [
    "**Solution**"
   ]
  },
  {
   "cell_type": "code",
   "execution_count": 1,
   "id": "606755f5",
   "metadata": {},
   "outputs": [
    {
     "name": "stdout",
     "output_type": "stream",
     "text": [
      "[5, 2, 3, 1]\n",
      "[1, 3, 2, 5]\n"
     ]
    }
   ],
   "source": [
    "stack = []\n",
    "\n",
    "# 삽입(5) - 삽입(2) - 삽입(3) - 삽입(7) - 삭제() - 삽입(1) - 삽입(4) - 삭제()\n",
    "stack.append(5)\n",
    "stack.append(2)\n",
    "stack.append(3)\n",
    "stack.append(7)\n",
    "stack.pop()\n",
    "stack.append(1)\n",
    "stack.append(4)\n",
    "stack.pop()\n",
    "\n",
    "print(stack) # 최하단 원소부터 출력\n",
    "print(stack[::-1]) # 최상단 원소부터 출력\n"
   ]
  },
  {
   "cell_type": "markdown",
   "id": "08477fbd",
   "metadata": {},
   "source": [
    "## 큐 구현 예제"
   ]
  },
  {
   "cell_type": "code",
   "execution_count": null,
   "id": "ec3e5671",
   "metadata": {},
   "outputs": [],
   "source": [
    "# 삽입(5) - 삽입(2) - 삽입(3) - 삽입(7) - 삭제() - 삽입(1) - 삽입(4) - 삭제()\n"
   ]
  },
  {
   "cell_type": "markdown",
   "id": "34900572",
   "metadata": {},
   "source": [
    "**Solution**"
   ]
  },
  {
   "cell_type": "code",
   "execution_count": 2,
   "id": "7e6a1fbb",
   "metadata": {},
   "outputs": [
    {
     "name": "stdout",
     "output_type": "stream",
     "text": [
      "deque([3, 7, 1, 4])\n",
      "deque([4, 1, 7, 3])\n"
     ]
    }
   ],
   "source": [
    "from collections import deque \n",
    "\n",
    "# 큐(Queue) 구현을 위해 deque 라이브러리 사용\n",
    "queue = deque()\n",
    "\n",
    "# 삽입(5) - 삽입(2) - 삽입(3) - 삽입(7) - 삭제() - 삽입(1) - 삽입(4) - 삭제()\n",
    "queue.append(5)\n",
    "queue.append(2)\n",
    "queue.append(3)\n",
    "queue.append(7)\n",
    "queue.popleft()\n",
    "queue.append(1)\n",
    "queue.append(4)\n",
    "queue.popleft()\n",
    "\n",
    "print(queue) # 먼저 들어온 순서대로 출력\n",
    "queue.reverse() # 다음 출력을 위해 역순으로 바꾸기\n",
    "print(queue) # 나중에 들어온 원소부터 출력\n"
   ]
  },
  {
   "cell_type": "markdown",
   "id": "2411b3c4",
   "metadata": {},
   "source": [
    "## 무한히 반복되는 재귀함수 예제"
   ]
  },
  {
   "cell_type": "code",
   "execution_count": null,
   "id": "5e167605",
   "metadata": {},
   "outputs": [],
   "source": [
    "def recursive_function():\n",
    "    print('재귀 함수를 호출합니다.')\n",
    "    recursive_function()\n",
    "\n",
    "recursive_function()\n"
   ]
  },
  {
   "cell_type": "markdown",
   "id": "f1ee7500",
   "metadata": {},
   "source": [
    "## 재귀함수의 종료 조건 예제"
   ]
  },
  {
   "cell_type": "code",
   "execution_count": 3,
   "id": "2881c566",
   "metadata": {
    "scrolled": false
   },
   "outputs": [
    {
     "name": "stdout",
     "output_type": "stream",
     "text": [
      "1 번째 재귀함수에서 2 번째 재귀함수를 호출합니다.\n",
      "2 번째 재귀함수에서 3 번째 재귀함수를 호출합니다.\n",
      "3 번째 재귀함수에서 4 번째 재귀함수를 호출합니다.\n",
      "4 번째 재귀함수에서 5 번째 재귀함수를 호출합니다.\n",
      "5 번째 재귀함수에서 6 번째 재귀함수를 호출합니다.\n",
      "6 번째 재귀함수에서 7 번째 재귀함수를 호출합니다.\n",
      "7 번째 재귀함수에서 8 번째 재귀함수를 호출합니다.\n",
      "8 번째 재귀함수에서 9 번째 재귀함수를 호출합니다.\n",
      "9 번째 재귀함수에서 10 번째 재귀함수를 호출합니다.\n",
      "10 번째 재귀함수에서 11 번째 재귀함수를 호출합니다.\n",
      "11 번째 재귀함수에서 12 번째 재귀함수를 호출합니다.\n",
      "12 번째 재귀함수에서 13 번째 재귀함수를 호출합니다.\n",
      "13 번째 재귀함수에서 14 번째 재귀함수를 호출합니다.\n",
      "14 번째 재귀함수에서 15 번째 재귀함수를 호출합니다.\n",
      "15 번째 재귀함수에서 16 번째 재귀함수를 호출합니다.\n",
      "16 번째 재귀함수에서 17 번째 재귀함수를 호출합니다.\n",
      "17 번째 재귀함수에서 18 번째 재귀함수를 호출합니다.\n",
      "18 번째 재귀함수에서 19 번째 재귀함수를 호출합니다.\n",
      "19 번째 재귀함수에서 20 번째 재귀함수를 호출합니다.\n",
      "20 번째 재귀함수에서 21 번째 재귀함수를 호출합니다.\n",
      "21 번째 재귀함수에서 22 번째 재귀함수를 호출합니다.\n",
      "22 번째 재귀함수에서 23 번째 재귀함수를 호출합니다.\n",
      "23 번째 재귀함수에서 24 번째 재귀함수를 호출합니다.\n",
      "24 번째 재귀함수에서 25 번째 재귀함수를 호출합니다.\n",
      "25 번째 재귀함수에서 26 번째 재귀함수를 호출합니다.\n",
      "26 번째 재귀함수에서 27 번째 재귀함수를 호출합니다.\n",
      "27 번째 재귀함수에서 28 번째 재귀함수를 호출합니다.\n",
      "28 번째 재귀함수에서 29 번째 재귀함수를 호출합니다.\n",
      "29 번째 재귀함수에서 30 번째 재귀함수를 호출합니다.\n",
      "30 번째 재귀함수에서 31 번째 재귀함수를 호출합니다.\n",
      "31 번째 재귀함수에서 32 번째 재귀함수를 호출합니다.\n",
      "32 번째 재귀함수에서 33 번째 재귀함수를 호출합니다.\n",
      "33 번째 재귀함수에서 34 번째 재귀함수를 호출합니다.\n",
      "34 번째 재귀함수에서 35 번째 재귀함수를 호출합니다.\n",
      "35 번째 재귀함수에서 36 번째 재귀함수를 호출합니다.\n",
      "36 번째 재귀함수에서 37 번째 재귀함수를 호출합니다.\n",
      "37 번째 재귀함수에서 38 번째 재귀함수를 호출합니다.\n",
      "38 번째 재귀함수에서 39 번째 재귀함수를 호출합니다.\n",
      "39 번째 재귀함수에서 40 번째 재귀함수를 호출합니다.\n",
      "40 번째 재귀함수에서 41 번째 재귀함수를 호출합니다.\n",
      "41 번째 재귀함수에서 42 번째 재귀함수를 호출합니다.\n",
      "42 번째 재귀함수에서 43 번째 재귀함수를 호출합니다.\n",
      "43 번째 재귀함수에서 44 번째 재귀함수를 호출합니다.\n",
      "44 번째 재귀함수에서 45 번째 재귀함수를 호출합니다.\n",
      "45 번째 재귀함수에서 46 번째 재귀함수를 호출합니다.\n",
      "46 번째 재귀함수에서 47 번째 재귀함수를 호출합니다.\n",
      "47 번째 재귀함수에서 48 번째 재귀함수를 호출합니다.\n",
      "48 번째 재귀함수에서 49 번째 재귀함수를 호출합니다.\n",
      "49 번째 재귀함수에서 50 번째 재귀함수를 호출합니다.\n",
      "50 번째 재귀함수에서 51 번째 재귀함수를 호출합니다.\n",
      "51 번째 재귀함수에서 52 번째 재귀함수를 호출합니다.\n",
      "52 번째 재귀함수에서 53 번째 재귀함수를 호출합니다.\n",
      "53 번째 재귀함수에서 54 번째 재귀함수를 호출합니다.\n",
      "54 번째 재귀함수에서 55 번째 재귀함수를 호출합니다.\n",
      "55 번째 재귀함수에서 56 번째 재귀함수를 호출합니다.\n",
      "56 번째 재귀함수에서 57 번째 재귀함수를 호출합니다.\n",
      "57 번째 재귀함수에서 58 번째 재귀함수를 호출합니다.\n",
      "58 번째 재귀함수에서 59 번째 재귀함수를 호출합니다.\n",
      "59 번째 재귀함수에서 60 번째 재귀함수를 호출합니다.\n",
      "60 번째 재귀함수에서 61 번째 재귀함수를 호출합니다.\n",
      "61 번째 재귀함수에서 62 번째 재귀함수를 호출합니다.\n",
      "62 번째 재귀함수에서 63 번째 재귀함수를 호출합니다.\n",
      "63 번째 재귀함수에서 64 번째 재귀함수를 호출합니다.\n",
      "64 번째 재귀함수에서 65 번째 재귀함수를 호출합니다.\n",
      "65 번째 재귀함수에서 66 번째 재귀함수를 호출합니다.\n",
      "66 번째 재귀함수에서 67 번째 재귀함수를 호출합니다.\n",
      "67 번째 재귀함수에서 68 번째 재귀함수를 호출합니다.\n",
      "68 번째 재귀함수에서 69 번째 재귀함수를 호출합니다.\n",
      "69 번째 재귀함수에서 70 번째 재귀함수를 호출합니다.\n",
      "70 번째 재귀함수에서 71 번째 재귀함수를 호출합니다.\n",
      "71 번째 재귀함수에서 72 번째 재귀함수를 호출합니다.\n",
      "72 번째 재귀함수에서 73 번째 재귀함수를 호출합니다.\n",
      "73 번째 재귀함수에서 74 번째 재귀함수를 호출합니다.\n",
      "74 번째 재귀함수에서 75 번째 재귀함수를 호출합니다.\n",
      "75 번째 재귀함수에서 76 번째 재귀함수를 호출합니다.\n",
      "76 번째 재귀함수에서 77 번째 재귀함수를 호출합니다.\n",
      "77 번째 재귀함수에서 78 번째 재귀함수를 호출합니다.\n",
      "78 번째 재귀함수에서 79 번째 재귀함수를 호출합니다.\n",
      "79 번째 재귀함수에서 80 번째 재귀함수를 호출합니다.\n",
      "80 번째 재귀함수에서 81 번째 재귀함수를 호출합니다.\n",
      "81 번째 재귀함수에서 82 번째 재귀함수를 호출합니다.\n",
      "82 번째 재귀함수에서 83 번째 재귀함수를 호출합니다.\n",
      "83 번째 재귀함수에서 84 번째 재귀함수를 호출합니다.\n",
      "84 번째 재귀함수에서 85 번째 재귀함수를 호출합니다.\n",
      "85 번째 재귀함수에서 86 번째 재귀함수를 호출합니다.\n",
      "86 번째 재귀함수에서 87 번째 재귀함수를 호출합니다.\n",
      "87 번째 재귀함수에서 88 번째 재귀함수를 호출합니다.\n",
      "88 번째 재귀함수에서 89 번째 재귀함수를 호출합니다.\n",
      "89 번째 재귀함수에서 90 번째 재귀함수를 호출합니다.\n",
      "90 번째 재귀함수에서 91 번째 재귀함수를 호출합니다.\n",
      "91 번째 재귀함수에서 92 번째 재귀함수를 호출합니다.\n",
      "92 번째 재귀함수에서 93 번째 재귀함수를 호출합니다.\n",
      "93 번째 재귀함수에서 94 번째 재귀함수를 호출합니다.\n",
      "94 번째 재귀함수에서 95 번째 재귀함수를 호출합니다.\n",
      "95 번째 재귀함수에서 96 번째 재귀함수를 호출합니다.\n",
      "96 번째 재귀함수에서 97 번째 재귀함수를 호출합니다.\n",
      "97 번째 재귀함수에서 98 번째 재귀함수를 호출합니다.\n",
      "98 번째 재귀함수에서 99 번째 재귀함수를 호출합니다.\n",
      "99 번째 재귀함수에서 100 번째 재귀함수를 호출합니다.\n",
      "99 번째 재귀함수를 종료합니다.\n",
      "98 번째 재귀함수를 종료합니다.\n",
      "97 번째 재귀함수를 종료합니다.\n",
      "96 번째 재귀함수를 종료합니다.\n",
      "95 번째 재귀함수를 종료합니다.\n",
      "94 번째 재귀함수를 종료합니다.\n",
      "93 번째 재귀함수를 종료합니다.\n",
      "92 번째 재귀함수를 종료합니다.\n",
      "91 번째 재귀함수를 종료합니다.\n",
      "90 번째 재귀함수를 종료합니다.\n",
      "89 번째 재귀함수를 종료합니다.\n",
      "88 번째 재귀함수를 종료합니다.\n",
      "87 번째 재귀함수를 종료합니다.\n",
      "86 번째 재귀함수를 종료합니다.\n",
      "85 번째 재귀함수를 종료합니다.\n",
      "84 번째 재귀함수를 종료합니다.\n",
      "83 번째 재귀함수를 종료합니다.\n",
      "82 번째 재귀함수를 종료합니다.\n",
      "81 번째 재귀함수를 종료합니다.\n",
      "80 번째 재귀함수를 종료합니다.\n",
      "79 번째 재귀함수를 종료합니다.\n",
      "78 번째 재귀함수를 종료합니다.\n",
      "77 번째 재귀함수를 종료합니다.\n",
      "76 번째 재귀함수를 종료합니다.\n",
      "75 번째 재귀함수를 종료합니다.\n",
      "74 번째 재귀함수를 종료합니다.\n",
      "73 번째 재귀함수를 종료합니다.\n",
      "72 번째 재귀함수를 종료합니다.\n",
      "71 번째 재귀함수를 종료합니다.\n",
      "70 번째 재귀함수를 종료합니다.\n",
      "69 번째 재귀함수를 종료합니다.\n",
      "68 번째 재귀함수를 종료합니다.\n",
      "67 번째 재귀함수를 종료합니다.\n",
      "66 번째 재귀함수를 종료합니다.\n",
      "65 번째 재귀함수를 종료합니다.\n",
      "64 번째 재귀함수를 종료합니다.\n",
      "63 번째 재귀함수를 종료합니다.\n",
      "62 번째 재귀함수를 종료합니다.\n",
      "61 번째 재귀함수를 종료합니다.\n",
      "60 번째 재귀함수를 종료합니다.\n",
      "59 번째 재귀함수를 종료합니다.\n",
      "58 번째 재귀함수를 종료합니다.\n",
      "57 번째 재귀함수를 종료합니다.\n",
      "56 번째 재귀함수를 종료합니다.\n",
      "55 번째 재귀함수를 종료합니다.\n",
      "54 번째 재귀함수를 종료합니다.\n",
      "53 번째 재귀함수를 종료합니다.\n",
      "52 번째 재귀함수를 종료합니다.\n",
      "51 번째 재귀함수를 종료합니다.\n",
      "50 번째 재귀함수를 종료합니다.\n",
      "49 번째 재귀함수를 종료합니다.\n",
      "48 번째 재귀함수를 종료합니다.\n",
      "47 번째 재귀함수를 종료합니다.\n",
      "46 번째 재귀함수를 종료합니다.\n",
      "45 번째 재귀함수를 종료합니다.\n",
      "44 번째 재귀함수를 종료합니다.\n",
      "43 번째 재귀함수를 종료합니다.\n",
      "42 번째 재귀함수를 종료합니다.\n",
      "41 번째 재귀함수를 종료합니다.\n",
      "40 번째 재귀함수를 종료합니다.\n",
      "39 번째 재귀함수를 종료합니다.\n",
      "38 번째 재귀함수를 종료합니다.\n",
      "37 번째 재귀함수를 종료합니다.\n",
      "36 번째 재귀함수를 종료합니다.\n",
      "35 번째 재귀함수를 종료합니다.\n",
      "34 번째 재귀함수를 종료합니다.\n",
      "33 번째 재귀함수를 종료합니다.\n",
      "32 번째 재귀함수를 종료합니다.\n",
      "31 번째 재귀함수를 종료합니다.\n",
      "30 번째 재귀함수를 종료합니다.\n",
      "29 번째 재귀함수를 종료합니다.\n",
      "28 번째 재귀함수를 종료합니다.\n",
      "27 번째 재귀함수를 종료합니다.\n",
      "26 번째 재귀함수를 종료합니다.\n",
      "25 번째 재귀함수를 종료합니다.\n",
      "24 번째 재귀함수를 종료합니다.\n",
      "23 번째 재귀함수를 종료합니다.\n",
      "22 번째 재귀함수를 종료합니다.\n",
      "21 번째 재귀함수를 종료합니다.\n",
      "20 번째 재귀함수를 종료합니다.\n",
      "19 번째 재귀함수를 종료합니다.\n",
      "18 번째 재귀함수를 종료합니다.\n",
      "17 번째 재귀함수를 종료합니다.\n",
      "16 번째 재귀함수를 종료합니다.\n",
      "15 번째 재귀함수를 종료합니다.\n",
      "14 번째 재귀함수를 종료합니다.\n",
      "13 번째 재귀함수를 종료합니다.\n",
      "12 번째 재귀함수를 종료합니다.\n",
      "11 번째 재귀함수를 종료합니다.\n",
      "10 번째 재귀함수를 종료합니다.\n",
      "9 번째 재귀함수를 종료합니다.\n",
      "8 번째 재귀함수를 종료합니다.\n",
      "7 번째 재귀함수를 종료합니다.\n",
      "6 번째 재귀함수를 종료합니다.\n",
      "5 번째 재귀함수를 종료합니다.\n",
      "4 번째 재귀함수를 종료합니다.\n",
      "3 번째 재귀함수를 종료합니다.\n",
      "2 번째 재귀함수를 종료합니다.\n",
      "1 번째 재귀함수를 종료합니다.\n"
     ]
    }
   ],
   "source": [
    "def recursive_function(i):\n",
    "    # 100번째 호출을 했을 때 종료되도록 종료 조건 명시\n",
    "    if i == 100:\n",
    "        return\n",
    "    print(i, '번째 재귀함수에서', i + 1, '번째 재귀함수를 호출합니다.')\n",
    "    recursive_function(i + 1)\n",
    "    print(i, '번째 재귀함수를 종료합니다.')\n",
    "\n",
    "recursive_function(1)\n"
   ]
  },
  {
   "cell_type": "markdown",
   "id": "42ede5ac",
   "metadata": {},
   "source": [
    "## 2가지 방식으로 구현한 팩토리얼 예제"
   ]
  },
  {
   "cell_type": "code",
   "execution_count": null,
   "id": "298ead09",
   "metadata": {},
   "outputs": [],
   "source": []
  },
  {
   "cell_type": "markdown",
   "id": "c07c9281",
   "metadata": {},
   "source": [
    "**Solution**"
   ]
  },
  {
   "cell_type": "code",
   "execution_count": 4,
   "id": "d35273bc",
   "metadata": {},
   "outputs": [
    {
     "name": "stdout",
     "output_type": "stream",
     "text": [
      "반복적으로 구현: 120\n",
      "재귀적으로 구현: 120\n"
     ]
    }
   ],
   "source": [
    "# 반복적으로 구현한 n!\n",
    "def factorial_iterative(n):        \n",
    "    result = 1\n",
    "    # 1부터 n까지의 수를 차례대로 곱하기\n",
    "    for i in range(1, n + 1):\n",
    "       result *= i\n",
    "    return result\n",
    "\n",
    "# 재귀적으로 구현한 n!\n",
    "def factorial_recursive(n):        \n",
    "    if n <= 1: # n이 1 이하인 경우 1을 반환\n",
    "        return 1\n",
    "    # n! = n * (n - 1)!를 그대로 코드로 작성하기\n",
    "    return n * factorial_recursive(n - 1)\n",
    "\n",
    "# 각각의 방식으로 구현한 n! 출력(n = 5)\n",
    "print('반복적으로 구현:', factorial_iterative(5))\n",
    "print('재귀적으로 구현:', factorial_recursive(5))\n"
   ]
  },
  {
   "cell_type": "markdown",
   "id": "6cad7de9",
   "metadata": {},
   "source": [
    "## 인접 행렬 예제\n",
    "\n",
    "<img src=\"images/graph0.jpg\" width=\"500\"/>"
   ]
  },
  {
   "cell_type": "code",
   "execution_count": null,
   "id": "70f4fd6c",
   "metadata": {},
   "outputs": [],
   "source": []
  },
  {
   "cell_type": "markdown",
   "id": "59a226fb",
   "metadata": {},
   "source": [
    "**Solution**"
   ]
  },
  {
   "cell_type": "code",
   "execution_count": 4,
   "id": "e6576b21",
   "metadata": {},
   "outputs": [
    {
     "name": "stdout",
     "output_type": "stream",
     "text": [
      "[[0, 7, 5], [7, 0, 999999999], [5, 999999999, 0]]\n"
     ]
    }
   ],
   "source": [
    "INF = 999999999 # 무한의 비용 선언\n",
    "\n",
    "# 2차원 리스트를 이용해 인접 행렬 표현\n",
    "graph = [\n",
    "    [0, 7, 5],\n",
    "    [7, 0, INF],\n",
    "    [5, INF, 0]\n",
    "]\n",
    "\n",
    "print(graph)\n"
   ]
  },
  {
   "cell_type": "markdown",
   "id": "6bf81a7b",
   "metadata": {},
   "source": [
    "## 인접 리스트 예제\n",
    "\n",
    "<img src=\"images/graph1.jpg\" width=\"200\"/>"
   ]
  },
  {
   "cell_type": "code",
   "execution_count": null,
   "id": "00499625",
   "metadata": {},
   "outputs": [],
   "source": []
  },
  {
   "cell_type": "markdown",
   "id": "38701b57",
   "metadata": {},
   "source": [
    "**Solution**"
   ]
  },
  {
   "cell_type": "code",
   "execution_count": 5,
   "id": "65cfb082",
   "metadata": {},
   "outputs": [
    {
     "name": "stdout",
     "output_type": "stream",
     "text": [
      "[[(1, 7), (2, 5)], [(0, 7)], [(0, 5)]]\n"
     ]
    }
   ],
   "source": [
    "# 행(Row)이 3개인 2차원 리스트로 인접 리스트 표현\n",
    "graph = [[] for _ in range(3)]\n",
    "\n",
    "# 노드 0에 연결된 노드 정보 저장 (노드, 거리)\n",
    "graph[0].append((1, 7))\n",
    "graph[0].append((2, 5))\n",
    "\n",
    "# 노드 1에 연결된 노드 정보 저장 (노드, 거리)\n",
    "graph[1].append((0, 7))\n",
    "\n",
    "# 노드 2에 연결된 노드 정보 저장 (노드, 거리)\n",
    "graph[2].append((0, 5))\n",
    "\n",
    "print(graph)\n"
   ]
  },
  {
   "cell_type": "markdown",
   "id": "f3d8bec3",
   "metadata": {},
   "source": [
    "## DFS\n",
    "\n",
    "<img src=\"images/graph2.jpg\" width=\"300\"/>"
   ]
  },
  {
   "cell_type": "code",
   "execution_count": null,
   "id": "024ce07c",
   "metadata": {},
   "outputs": [],
   "source": []
  },
  {
   "cell_type": "markdown",
   "id": "d8670397",
   "metadata": {},
   "source": [
    "**Solution**"
   ]
  },
  {
   "cell_type": "code",
   "execution_count": 6,
   "id": "6fd565b3",
   "metadata": {},
   "outputs": [
    {
     "name": "stdout",
     "output_type": "stream",
     "text": [
      "1 2 7 6 8 3 4 5 "
     ]
    }
   ],
   "source": [
    "# DFS 함수 정의\n",
    "def dfs(graph, v, visited):\n",
    "    # 현재 노드를 방문 처리\n",
    "    visited[v] = True\n",
    "    print(v, end=' ')\n",
    "    # 현재 노드와 연결된 다른 노드를 재귀적으로 방문\n",
    "    for i in graph[v]:\n",
    "        if not visited[i]:\n",
    "            dfs(graph, i, visited)\n",
    "\n",
    "# 각 노드가 연결된 정보를 리스트 자료형으로 표현(2차원 리스트)\n",
    "graph = [\n",
    "  [],\n",
    "  [2, 3, 8],\n",
    "  [1, 7],\n",
    "  [1, 4, 5],\n",
    "  [3, 5],\n",
    "  [3, 4],\n",
    "  [7],\n",
    "  [2, 6, 8],\n",
    "  [1, 7]\n",
    "]\n",
    "\n",
    "# 각 노드가 방문된 정보를 리스트 자료형으로 표현(1차원 리스트)\n",
    "visited = [False] * 9\n",
    "\n",
    "# 정의된 DFS 함수 호출\n",
    "dfs(graph, 1, visited)\n"
   ]
  },
  {
   "cell_type": "markdown",
   "id": "1fa0e93f",
   "metadata": {},
   "source": [
    "## BFS\n",
    "\n",
    "<img src=\"images/graph2.jpg\" width=\"300\"/>"
   ]
  },
  {
   "cell_type": "code",
   "execution_count": null,
   "id": "dee5e4ca",
   "metadata": {},
   "outputs": [],
   "source": []
  },
  {
   "cell_type": "markdown",
   "id": "7a7afb23",
   "metadata": {},
   "source": [
    "**Solution**"
   ]
  },
  {
   "cell_type": "code",
   "execution_count": 7,
   "id": "86ae9466",
   "metadata": {},
   "outputs": [
    {
     "name": "stdout",
     "output_type": "stream",
     "text": [
      "1 2 3 8 7 4 5 6 "
     ]
    }
   ],
   "source": [
    "from collections import deque\n",
    "\n",
    "# BFS 함수 정의\n",
    "def bfs(graph, start, visited):\n",
    "    # 큐(Queue) 구현을 위해 deque 라이브러리 사용\n",
    "    queue = deque([start])\n",
    "    # 현재 노드를 방문 처리\n",
    "    visited[start] = True\n",
    "    # 큐가 빌 때까지 반복\n",
    "    while queue:\n",
    "        # 큐에서 하나의 원소를 뽑아 출력\n",
    "        v = queue.popleft()\n",
    "        print(v, end=' ')\n",
    "        # 해당 원소와 연결된, 아직 방문하지 않은 원소들을 큐에 삽입\n",
    "        for i in graph[v]:\n",
    "            if not visited[i]:\n",
    "                queue.append(i)\n",
    "                visited[i] = True\n",
    "\n",
    "# 각 노드가 연결된 정보를 리스트 자료형으로 표현(2차원 리스트)\n",
    "graph = [\n",
    "  [],\n",
    "  [2, 3, 8],\n",
    "  [1, 7],\n",
    "  [1, 4, 5],\n",
    "  [3, 5],\n",
    "  [3, 4],\n",
    "  [7],\n",
    "  [2, 6, 8],\n",
    "  [1, 7]\n",
    "]\n",
    "\n",
    "# 각 노드가 방문된 정보를 리스트 자료형으로 표현(1차원 리스트)\n",
    "visited = [False] * 9\n",
    "\n",
    "# 정의된 BFS 함수 호출\n",
    "bfs(graph, 1, visited)\n"
   ]
  },
  {
   "cell_type": "markdown",
   "id": "51c65080",
   "metadata": {},
   "source": [
    "---\n",
    "## 음료수 얼려 먹기"
   ]
  },
  {
   "cell_type": "code",
   "execution_count": null,
   "id": "8ea8a8d4",
   "metadata": {},
   "outputs": [],
   "source": [
    "n, m = 15, 14\n",
    "\n",
    "lines = [\n",
    "    \"00000111100000\",\n",
    "    \"11111101111110\",\n",
    "    \"11011101101110\",\n",
    "    \"11011101100000\",\n",
    "    \"11011111111111\",\n",
    "    \"11011111111100\",\n",
    "    \"11000000011111\",\n",
    "    \"01111111111111\",\n",
    "    \"00000000011111\",\n",
    "    \"01111111111000\",\n",
    "    \"00011111111000\",\n",
    "    \"00000001111000\",\n",
    "    \"11111111110011\",\n",
    "    \"11100011111111\",\n",
    "    \"11100011111111\"\n",
    "]\n",
    "\n",
    "# 출력 예시\n",
    "# 8\n"
   ]
  },
  {
   "cell_type": "markdown",
   "id": "e6796e03",
   "metadata": {},
   "source": [
    "**Solution**"
   ]
  },
  {
   "cell_type": "code",
   "execution_count": 9,
   "id": "2afc4d5e",
   "metadata": {},
   "outputs": [
    {
     "name": "stdout",
     "output_type": "stream",
     "text": [
      "15 14\n",
      "00000111100000\n",
      "11111101111110\n",
      "11011101101110\n",
      "11011101100000\n",
      "11011111111111\n",
      "11011111111100\n",
      "11000000011111\n",
      "01111111111111\n",
      "00000000011111\n",
      "01111111111000\n",
      "00011111111000\n",
      "00000001111000\n",
      "11111111110011\n",
      "11100011111111\n",
      "11100011111111\n",
      "8\n"
     ]
    }
   ],
   "source": [
    "# N, M을 공백을 기준으로 구분하여 입력 받기\n",
    "n, m = map(int, input().split())\n",
    "\n",
    "# 2차원 리스트의 맵 정보 입력 받기\n",
    "graph = []\n",
    "for i in range(n):\n",
    "    graph.append(list(map(int, input())))\n",
    "\n",
    "# DFS로 특정한 노드를 방문한 뒤에 연결된 모든 노드들도 방문\n",
    "def dfs(x, y):\n",
    "    # 주어진 범위를 벗어나는 경우에는 즉시 종료\n",
    "    if x <= -1 or x >= n or y <= -1 or y >= m:\n",
    "        return False\n",
    "    # 현재 노드를 아직 방문하지 않았다면\n",
    "    if graph[x][y] == 0:\n",
    "        # 해당 노드 방문 처리\n",
    "        graph[x][y] = 1\n",
    "        # 상, 하, 좌, 우의 위치들도 모두 재귀적으로 호출\n",
    "        dfs(x - 1, y)\n",
    "        dfs(x, y - 1)\n",
    "        dfs(x + 1, y)\n",
    "        dfs(x, y + 1)\n",
    "        return True\n",
    "    return False\n",
    "\n",
    "# 모든 노드(위치)에 대하여 음료수 채우기\n",
    "result = 0\n",
    "for i in range(n):\n",
    "    for j in range(m):\n",
    "        # 현재 위치에서 DFS 수행\n",
    "        if dfs(i, j) == True:\n",
    "            result += 1\n",
    "\n",
    "print(result) # 정답 출력\n",
    "\n",
    "# 입력 예시\n",
    "# 15 14\n",
    "# 00000111100000\n",
    "# 11111101111110\n",
    "# 11011101101110\n",
    "# 11011101100000\n",
    "# 11011111111111\n",
    "# 11011111111100\n",
    "# 11000000011111\n",
    "# 01111111111111\n",
    "# 00000000011111\n",
    "# 01111111111000\n",
    "# 00011111111000\n",
    "# 00000001111000\n",
    "# 11111111110011\n",
    "# 11100011111111\n",
    "# 11100011111111\n",
    "\n",
    "# 출력 예시\n",
    "# 8"
   ]
  },
  {
   "cell_type": "markdown",
   "id": "93df681f",
   "metadata": {},
   "source": [
    "## 미로 탈출"
   ]
  },
  {
   "cell_type": "code",
   "execution_count": null,
   "id": "ef02f0ab",
   "metadata": {},
   "outputs": [],
   "source": [
    "n, m = 5, 6\n",
    "lines = [\n",
    "    \"101010\",\n",
    "    \"111111\",\n",
    "    \"000001\",\n",
    "    \"111111\",\n",
    "    \"111111\"\n",
    "]\n",
    "\n",
    "# 출력 예시\n",
    "# 10\n"
   ]
  },
  {
   "cell_type": "markdown",
   "id": "6d270ab0",
   "metadata": {},
   "source": [
    "**Solution**"
   ]
  },
  {
   "cell_type": "code",
   "execution_count": 9,
   "id": "756a4bf3",
   "metadata": {},
   "outputs": [
    {
     "name": "stdout",
     "output_type": "stream",
     "text": [
      "5 6\n",
      "101010\n",
      "111111\n",
      "000001\n",
      "111111\n",
      "111111\n",
      "10\n"
     ]
    }
   ],
   "source": [
    "from collections import deque\n",
    "\n",
    "# N, M을 공백을 기준으로 구분하여 입력 받기\n",
    "n, m = map(int, input().split())\n",
    "# 2차원 리스트의 맵 정보 입력 받기\n",
    "graph = []\n",
    "for i in range(n):\n",
    "    graph.append(list(map(int, input())))\n",
    "\n",
    "# 이동할 네 가지 방향 정의 (상, 하, 좌, 우)\n",
    "dx = [-1, 1, 0, 0]\n",
    "dy = [0, 0, -1, 1]\n",
    "\n",
    "# BFS 소스코드 구현\n",
    "def bfs(x, y):\n",
    "    # 큐(Queue) 구현을 위해 deque 라이브러리 사용\n",
    "    queue = deque()\n",
    "    queue.append((x, y))\n",
    "    # 큐가 빌 때까지 반복하기\n",
    "    while queue:\n",
    "        x, y = queue.popleft()\n",
    "        # 현재 위치에서 4가지 방향으로의 위치 확인\n",
    "        for i in range(4):\n",
    "            nx = x + dx[i]\n",
    "            ny = y + dy[i]\n",
    "            # 미로 찾기 공간을 벗어난 경우 무시\n",
    "            if nx < 0 or nx >= n or ny < 0 or ny >= m:\n",
    "                continue\n",
    "            # 벽인 경우 무시\n",
    "            if graph[nx][ny] == 0:\n",
    "                continue\n",
    "            # 해당 노드를 처음 방문하는 경우에만 최단 거리 기록\n",
    "            if graph[nx][ny] == 1:\n",
    "                graph[nx][ny] = graph[x][y] + 1\n",
    "                queue.append((nx, ny))\n",
    "    # 가장 오른쪽 아래까지의 최단 거리 반환\n",
    "    return graph[n - 1][m - 1]\n",
    "\n",
    "# BFS를 수행한 결과 출력\n",
    "print(bfs(0, 0))\n",
    "\n",
    "# 입력 예시\n",
    "# 5 6\n",
    "# 101010\n",
    "# 111111\n",
    "# 000001\n",
    "# 111111\n",
    "# 111111\n",
    "\n",
    "# 출력 예시\n",
    "# 10"
   ]
  },
  {
   "cell_type": "markdown",
   "id": "606e5ee3",
   "metadata": {},
   "source": [
    "## Q15. 특정 거리의 도시 찾기"
   ]
  },
  {
   "cell_type": "code",
   "execution_count": null,
   "id": "cfa92643",
   "metadata": {},
   "outputs": [],
   "source": []
  },
  {
   "cell_type": "code",
   "execution_count": null,
   "id": "c0afa773",
   "metadata": {},
   "outputs": [],
   "source": [
    "n, m, k, x = 4, 4, 2, 1\n",
    "lines = [\n",
    "    \"1 2\",\n",
    "    \"1 3\",\n",
    "    \"2 3\",\n",
    "    \"2 4\"\n",
    "]\n",
    "# 출력 예시: 4\n"
   ]
  },
  {
   "cell_type": "code",
   "execution_count": null,
   "id": "b35faabb",
   "metadata": {},
   "outputs": [],
   "source": [
    "n, m, k, x = 4, 3, 2, 1\n",
    "lines = [\n",
    "    \"1 2\",\n",
    "    \"1 3\",\n",
    "    \"1 4\"\n",
    "]\n",
    "# 출력 예시: -1\n"
   ]
  },
  {
   "cell_type": "code",
   "execution_count": null,
   "id": "013049d4",
   "metadata": {},
   "outputs": [],
   "source": [
    "n, m, k, x = 4, 4, 1, 1\n",
    "lines = [\n",
    "    \"1 2\",\n",
    "    \"1 3\",\n",
    "    \"2 3\",\n",
    "    \"2 4\"\n",
    "]\n",
    "# 출력 예시\n",
    "# 2\n",
    "# 3\n"
   ]
  },
  {
   "cell_type": "markdown",
   "id": "e518e497",
   "metadata": {},
   "source": [
    "**Solution**"
   ]
  },
  {
   "cell_type": "code",
   "execution_count": 1,
   "id": "b2b77618",
   "metadata": {},
   "outputs": [
    {
     "name": "stdout",
     "output_type": "stream",
     "text": [
      "4 4 2 1\n",
      "1 2\n",
      "1 3\n",
      "2 3\n",
      "2 4\n",
      "4\n"
     ]
    }
   ],
   "source": [
    "from collections import deque\n",
    "\n",
    "# 도시의 개수, 도로의 개수, 거리 정보, 출발 도시 번호\n",
    "n, m, k, x = map(int, input().split())\n",
    "graph = [[] for _ in range(n + 1)]\n",
    "\n",
    "# 모든 도로 정보 입력 받기\n",
    "for _ in range(m):\n",
    "    a, b = map(int, input().split())\n",
    "    graph[a].append(b)\n",
    "\n",
    "# 모든 도시에 대한 최단 거리 초기화\n",
    "distance = [-1] * (n + 1)\n",
    "distance[x] = 0 # 출발 도시까지의 거리는 0으로 설정\n",
    "\n",
    "# 너비 우선 탐색(BFS) 수행\n",
    "q = deque([x])\n",
    "while q:\n",
    "    now = q.popleft()\n",
    "    # 현재 도시에서 이동할 수 있는 모든 도시를 확인\n",
    "    for next_node in graph[now]:\n",
    "        # 아직 방문하지 않은 도시라면\n",
    "        if distance[next_node] == -1:\n",
    "            # 최단 거리 갱신\n",
    "            distance[next_node] = distance[now] + 1\n",
    "            q.append(next_node)\n",
    "\n",
    "# 최단 거리가 K인 모든 도시의 번호를 오름차순으로 출력\n",
    "check = False\n",
    "for i in range(1, n + 1):\n",
    "    if distance[i] == k:\n",
    "        print(i)\n",
    "        check = True\n",
    "\n",
    "# 만약 최단 거리가 K인 도시가 없다면, -1 출력\n",
    "if check == False:\n",
    "    print(-1)\n"
   ]
  },
  {
   "cell_type": "markdown",
   "id": "998cd01f",
   "metadata": {},
   "source": [
    "## Q16. 연구소"
   ]
  },
  {
   "cell_type": "code",
   "execution_count": null,
   "id": "2106ef89",
   "metadata": {},
   "outputs": [],
   "source": []
  },
  {
   "cell_type": "code",
   "execution_count": null,
   "id": "fbc7e137",
   "metadata": {},
   "outputs": [],
   "source": [
    "n, m = 7, 7\n",
    "lines = [\n",
    "    \"2 0 0 0 1 1 0\",\n",
    "    \"0 0 1 0 1 2 0\",\n",
    "    \"0 1 1 0 1 0 0\",\n",
    "    \"0 1 0 0 0 0 0\",\n",
    "    \"0 0 0 0 0 1 1\",\n",
    "    \"0 1 0 0 0 0 0\",\n",
    "    \"0 1 0 0 0 0 0\"\n",
    "]\n",
    "# 출력 예시: 7\n"
   ]
  },
  {
   "cell_type": "code",
   "execution_count": null,
   "id": "9bdd9bd7",
   "metadata": {},
   "outputs": [],
   "source": [
    "n, m = 4, 6\n",
    "lines = [\n",
    "    \"0 0 0 0 0 0\",\n",
    "    \"1 0 0 0 0 2\",\n",
    "    \"1 1 1 0 0 2\",\n",
    "    \"0 0 0 0 0 2\"\n",
    "]\n",
    "# 출력 예시: 9\n"
   ]
  },
  {
   "cell_type": "code",
   "execution_count": null,
   "id": "6d9e7c2e",
   "metadata": {},
   "outputs": [],
   "source": [
    "n, m = 8, 8\n",
    "lines = [\n",
    "    \"2 0 0 0 0 0 0 2\",\n",
    "    \"2 0 0 0 0 0 0 2\",\n",
    "    \"2 0 0 0 0 0 0 2\",\n",
    "    \"2 0 0 0 0 0 0 2\",\n",
    "    \"2 0 0 0 0 0 0 2\",\n",
    "    \"0 0 0 0 0 0 0 0\",\n",
    "    \"0 0 0 0 0 0 0 0\",\n",
    "    \"0 0 0 0 0 0 0 0\"\n",
    "]\n",
    "# 출력 예시: 3\n"
   ]
  },
  {
   "cell_type": "markdown",
   "id": "7bc5aa72",
   "metadata": {},
   "source": [
    "**Solution**"
   ]
  },
  {
   "cell_type": "code",
   "execution_count": 1,
   "id": "0013c078",
   "metadata": {},
   "outputs": [
    {
     "name": "stdout",
     "output_type": "stream",
     "text": [
      "4 6\n",
      "0 0 0 0 0 0\n",
      "1 0 0 0 0 2\n",
      "1 1 1 0 0 2\n",
      "0 0 0 0 0 2\n",
      "9\n"
     ]
    }
   ],
   "source": [
    "# BOJ에서는 [언어]를 PyPy3로 설정하여 제출해주세요.\n",
    "\n",
    "n, m = map(int, input().split())\n",
    "data = [] # 초기 맵 리스트\n",
    "temp = [[0] * m for _ in range(n)] # 벽을 설치한 뒤의 맵 리스트\n",
    "\n",
    "for _ in range(n):\n",
    "    data.append(list(map(int, input().split())))\n",
    "\n",
    "# 4가지 이동 방향에 대한 리스트\n",
    "dx = [-1, 0, 1, 0]\n",
    "dy = [0, 1, 0, -1]\n",
    "\n",
    "result = 0\n",
    "\n",
    "# 깊이 우선 탐색(DFS)을 이용해 각 바이러스가 사방으로 퍼지도록 하기\n",
    "def virus(x, y):\n",
    "    for i in range(4):\n",
    "        nx = x + dx[i]\n",
    "        ny = y + dy[i]\n",
    "        # 상, 하, 좌, 우 중에서 바이러스가 퍼질 수 있는 경우\n",
    "        if nx >= 0 and nx < n and ny >= 0 and ny < m:\n",
    "            if temp[nx][ny] == 0:\n",
    "                # 해당 위치에 바이러스 배치하고, 다시 재귀적으로 수행\n",
    "                temp[nx][ny] = 2\n",
    "                virus(nx, ny)\n",
    "\n",
    "# 현재 맵에서 안전 영역의 크기 계산하는 메서드\n",
    "def get_score():\n",
    "    score = 0\n",
    "    for i in range(n):\n",
    "        for j in range(m):\n",
    "            if temp[i][j] == 0:\n",
    "                score += 1\n",
    "    return score\n",
    "\n",
    "# 깊이 우선 탐색(DFS)을 이용해 울타리를 설치하면서, 매 번 안전 영역의 크기 계산\n",
    "def dfs(count):\n",
    "    global result\n",
    "    # 울타리가 3개 설치된 경우\n",
    "    if count == 3:\n",
    "        for i in range(n):\n",
    "            for j in range(m):\n",
    "                temp[i][j] = data[i][j]\n",
    "        # 각 바이러스의 위치에서 전파 진행\n",
    "        for i in range(n):\n",
    "            for j in range(m):\n",
    "                if temp[i][j] == 2:\n",
    "                    virus(i, j)\n",
    "        # 안전 영역의 최대값 계산\n",
    "        result = max(result, get_score())\n",
    "        return\n",
    "    # 빈 공간에 울타리를 설치\n",
    "    for i in range(n):\n",
    "        for j in range(m):\n",
    "            if data[i][j] == 0:\n",
    "                data[i][j] = 1\n",
    "                count += 1\n",
    "                dfs(count)\n",
    "                data[i][j] = 0\n",
    "                count -= 1\n",
    "\n",
    "dfs(0)\n",
    "print(result)\n"
   ]
  },
  {
   "cell_type": "markdown",
   "id": "05984ef8",
   "metadata": {},
   "source": [
    "## Q17. 경쟁적 전염"
   ]
  },
  {
   "cell_type": "code",
   "execution_count": null,
   "id": "872d71e0",
   "metadata": {},
   "outputs": [],
   "source": []
  },
  {
   "cell_type": "code",
   "execution_count": null,
   "id": "f79a0e5f",
   "metadata": {},
   "outputs": [],
   "source": [
    "n, k = 3, 3\n",
    "lines = [\n",
    "    \"1 0 2\",\n",
    "    \"0 0 0\",\n",
    "    \"3 0 0\",\n",
    "    \"2 3 2\"\n",
    "]\n",
    "# 출력 예시: 3\n"
   ]
  },
  {
   "cell_type": "code",
   "execution_count": null,
   "id": "76d770a1",
   "metadata": {},
   "outputs": [],
   "source": [
    "n, k = 3, 3\n",
    "lines = [\n",
    "    \"1 0 2\",\n",
    "    \"0 0 0\",\n",
    "    \"3 0 0\",\n",
    "    \"1 2 2\"\n",
    "]\n",
    "# 출력 예시: 0\n"
   ]
  },
  {
   "cell_type": "markdown",
   "id": "c43a41a3",
   "metadata": {},
   "source": [
    "**Solution**"
   ]
  },
  {
   "cell_type": "code",
   "execution_count": 1,
   "id": "c7ef2cbd",
   "metadata": {},
   "outputs": [
    {
     "name": "stdout",
     "output_type": "stream",
     "text": [
      "3 3\n",
      "1 0 2\n",
      "0 0 0\n",
      "3 0 0\n",
      "1 2 2\n",
      "0\n"
     ]
    }
   ],
   "source": [
    "from collections import deque\n",
    "\n",
    "n, k = map(int, input().split())\n",
    "\n",
    "graph = [] # 전체 보드 정보를 담는 리스트\n",
    "data = [] # 바이러스에 대한 정보를 담는 리스트\n",
    "\n",
    "for i in range(n):\n",
    "    # 보드 정보를 한 줄 단위로 입력\n",
    "    graph.append(list(map(int, input().split())))\n",
    "    for j in range(n):\n",
    "        # 해당 위치에 바이러스가 존재하는 경우\n",
    "        if graph[i][j] != 0:\n",
    "            # (바이러스 종류, 시간, 위치 X, 위치 Y) 삽입\n",
    "            data.append((graph[i][j], 0, i, j))\n",
    "\n",
    "# 정렬 이후에 큐로 옮기기 (낮은 번호의 바이러스가 먼저 증식하므로)\n",
    "data.sort()\n",
    "q = deque(data)\n",
    " \n",
    "target_s, target_x, target_y = map(int, input().split())\n",
    " \n",
    "# 바이러스가 퍼져나갈 수 있는 4가지의 위치\n",
    "dx = [-1, 0, 1, 0]\n",
    "dy = [0, 1, 0, -1]\n",
    "\n",
    "# 너비 우선 탐색(BFS) 진행\n",
    "while q:\n",
    "    virus, s, x, y = q.popleft()\n",
    "    # 정확히 s초가 지나거나, 큐가 빌 때까지 반복\n",
    "    if s == target_s:\n",
    "        break\n",
    "    # 현재 노드에서 주변 4가지 위치를 각각 확인\n",
    "    for i in range(4):\n",
    "        nx = x + dx[i]\n",
    "        ny = y + dy[i]\n",
    "        # 해당 위치로 이동할 수 있는 경우\n",
    "        if 0 <= nx and nx < n and 0 <= ny and ny < n:\n",
    "            # 아직 방문하지 않은 위치라면, 그 위치에 바이러스 넣기\n",
    "            if graph[nx][ny] == 0:\n",
    "                graph[nx][ny] = virus\n",
    "                q.append((virus, s + 1, nx, ny))\n",
    "\n",
    "print(graph[target_x - 1][target_y - 1])\n"
   ]
  },
  {
   "cell_type": "markdown",
   "id": "efc638d5",
   "metadata": {},
   "source": [
    "## Q18. 괄호 변환"
   ]
  },
  {
   "cell_type": "code",
   "execution_count": null,
   "id": "8fa2e14a",
   "metadata": {},
   "outputs": [],
   "source": [
    "def solution(p):\n",
    "    \n",
    "    return \"\""
   ]
  },
  {
   "cell_type": "code",
   "execution_count": null,
   "id": "bf1bbf7d",
   "metadata": {},
   "outputs": [],
   "source": [
    "p = \"(()())()\"\n",
    "print(solution(p)) # 출력 예시: (()())()\n",
    "\n",
    "p = \")(\"\n",
    "print(solution(p)) # 출력 예시: ()\n",
    "\n",
    "p = \"()))((()\"\n",
    "print(solution(p)) # 출력 예시: ()(())()"
   ]
  },
  {
   "cell_type": "markdown",
   "id": "117169f9",
   "metadata": {},
   "source": [
    "**Solution**"
   ]
  },
  {
   "cell_type": "code",
   "execution_count": 1,
   "id": "289b530f",
   "metadata": {},
   "outputs": [
    {
     "name": "stdout",
     "output_type": "stream",
     "text": [
      "(()())()\n",
      "()\n",
      "()(())()\n"
     ]
    }
   ],
   "source": [
    "# \"균형잡힌 괄호 문자열\"의 인덱스 반환\n",
    "def balanced_index(p):\n",
    "    count = 0 # 왼쪽 괄호의 개수\n",
    "    for i in range(len(p)):\n",
    "        if p[i] == '(':\n",
    "            count += 1\n",
    "        else:\n",
    "            count -= 1\n",
    "        if count == 0:\n",
    "            return i\n",
    "\n",
    "# \"올바른 괄호 문자열\"인지 판단\n",
    "def check_proper(p):\n",
    "    count = 0 # 왼쪽 괄호의 개수\n",
    "    for i in p:\n",
    "        if i == '(':\n",
    "            count += 1\n",
    "        else:\n",
    "            if count == 0: # 쌍이 맞지 않는 경우에 False 반환\n",
    "                return False\n",
    "            count -= 1\n",
    "    return True # 쌍이 맞는 경우에 True 반환\n",
    "\n",
    "def solution(p):\n",
    "    answer = ''\n",
    "    if p == '':\n",
    "        return answer\n",
    "    index = balanced_index(p)\n",
    "    u = p[:index + 1]\n",
    "    v = p[index + 1:]\n",
    "    # \"올바른 괄호 문자열\"이면, v에 대해 함수를 수행한 결과를 붙여 반환\n",
    "    if check_proper(u):\n",
    "        answer = u + solution(v)\n",
    "    # \"올바른 괄호 문자열\"이 아니라면 아래의 과정을 수행\n",
    "    else:\n",
    "        answer = '('\n",
    "        answer += solution(v)\n",
    "        answer += ')'\n",
    "        u = list(u[1:-1]) # 첫 번째와 마지막 문자를 제거\n",
    "        for i in range(len(u)):\n",
    "            if u[i] == '(':\n",
    "                u[i] = ')'\n",
    "            else:\n",
    "                u[i] = '('\n",
    "        answer += \"\".join(u)\n",
    "    return answer\n",
    "\n",
    "p = \"(()())()\"\n",
    "print(solution(p))\n",
    "p = \")(\"\n",
    "print(solution(p))\n",
    "p = \"()))((()\"\n",
    "print(solution(p))"
   ]
  },
  {
   "cell_type": "markdown",
   "id": "b05eee9f",
   "metadata": {},
   "source": [
    "## Q19. 연산자 끼워넣기"
   ]
  },
  {
   "cell_type": "code",
   "execution_count": null,
   "id": "593d61d9",
   "metadata": {},
   "outputs": [],
   "source": []
  },
  {
   "cell_type": "code",
   "execution_count": null,
   "id": "eea626a2",
   "metadata": {},
   "outputs": [],
   "source": [
    "n = 2\n",
    "lines = [\n",
    "    \"5 6\",\n",
    "    \"0 0 1 0\"\n",
    "]\n",
    "# 출력 예시\n",
    "# 30\n",
    "# 30\n"
   ]
  },
  {
   "cell_type": "code",
   "execution_count": null,
   "id": "24307839",
   "metadata": {},
   "outputs": [],
   "source": [
    "n = 3\n",
    "lines = [\n",
    "    \"3 4 5\",\n",
    "    \"1 0 1 0\"\n",
    "]\n",
    "# 출력 예시\n",
    "# 35\n",
    "# 17\n"
   ]
  },
  {
   "cell_type": "code",
   "execution_count": null,
   "id": "1d44e920",
   "metadata": {},
   "outputs": [],
   "source": [
    "n = 6\n",
    "lines = [\n",
    "    \"1 2 3 4 5 6\",\n",
    "    \"2 1 1 1\"\n",
    "]\n",
    "# 출력 예시\n",
    "# 54\n",
    "# -24\n"
   ]
  },
  {
   "cell_type": "markdown",
   "id": "724f7ce7",
   "metadata": {},
   "source": [
    "**Solution**"
   ]
  },
  {
   "cell_type": "code",
   "execution_count": 1,
   "id": "4e625b54",
   "metadata": {},
   "outputs": [
    {
     "name": "stdout",
     "output_type": "stream",
     "text": [
      "2\n",
      "5 6\n",
      "0 0 1 0\n",
      "30\n",
      "30\n"
     ]
    }
   ],
   "source": [
    "n = int(input())\n",
    "# 연산을 수행하고자 하는 수 리스트\n",
    "data = list(map(int, input().split()))\n",
    "# 더하기, 빼기, 곱하기, 나누기 연산자 개수\n",
    "add, sub, mul, div = map(int, input().split())\n",
    "\n",
    "# 최솟값과 최댓값 초기화\n",
    "min_value = 1e9\n",
    "max_value = -1e9\n",
    "\n",
    "# 깊이 우선 탐색 (DFS) 메서드\n",
    "def dfs(i, now):\n",
    "    global min_value, max_value, add, sub, mul, div\n",
    "    # 모든 연산자를 다 사용한 경우, 최솟값과 최댓값 업데이트\n",
    "    if i == n:\n",
    "        min_value = min(min_value, now)\n",
    "        max_value = max(max_value, now)\n",
    "    else:\n",
    "        # 각 연산자에 대하여 재귀적으로 수행\n",
    "        if add > 0:\n",
    "            add -= 1\n",
    "            dfs(i + 1, now + data[i])\n",
    "            add += 1\n",
    "        if sub > 0:\n",
    "            sub -= 1\n",
    "            dfs(i + 1, now - data[i])\n",
    "            sub += 1\n",
    "        if mul > 0:\n",
    "            mul -= 1\n",
    "            dfs(i + 1, now * data[i])\n",
    "            mul += 1\n",
    "        if div > 0:\n",
    "            div -= 1\n",
    "            dfs(i + 1, int(now / data[i])) # 나눌 때는 나머지를 제거\n",
    "            div += 1\n",
    "\n",
    "# DFS 메서드 호출\n",
    "dfs(1, data[0])\n",
    "\n",
    "# 최댓값과 최솟값 차례대로 출력\n",
    "print(max_value)\n",
    "print(min_value)\n"
   ]
  },
  {
   "cell_type": "markdown",
   "id": "a9ab8a62",
   "metadata": {},
   "source": [
    "## Q20. 감시 피하기"
   ]
  },
  {
   "cell_type": "code",
   "execution_count": null,
   "id": "53031fd0",
   "metadata": {},
   "outputs": [],
   "source": []
  },
  {
   "cell_type": "code",
   "execution_count": null,
   "id": "aee8932d",
   "metadata": {},
   "outputs": [],
   "source": [
    "n = 5\n",
    "lines = [\n",
    "    \"X S X X T\",\n",
    "    \"T X S X X\",\n",
    "    \"X X X X X\",\n",
    "    \"X T X X X\",\n",
    "    \"X X T X X\"\n",
    "]\n",
    "# 출력 예시: YES\n"
   ]
  },
  {
   "cell_type": "code",
   "execution_count": null,
   "id": "c167c876",
   "metadata": {},
   "outputs": [],
   "source": [
    "n = 4\n",
    "lines = [\n",
    "    \"S S S T\",\n",
    "    \"X X X X\",\n",
    "    \"X X X X\",\n",
    "    \"T T T X\"\n",
    "]\n",
    "# 출력 예시: NO\n"
   ]
  },
  {
   "cell_type": "markdown",
   "id": "ca46ae0c",
   "metadata": {},
   "source": [
    "**Solution**"
   ]
  },
  {
   "cell_type": "code",
   "execution_count": 1,
   "id": "5d9ed7d7",
   "metadata": {},
   "outputs": [
    {
     "name": "stdout",
     "output_type": "stream",
     "text": [
      "4\n",
      "S S S T\n",
      "X X X X\n",
      "X X X X\n",
      "T T T X\n",
      "NO\n"
     ]
    }
   ],
   "source": [
    "from itertools import combinations\n",
    "\n",
    "n = int(input()) # 복도의 크기\n",
    "board = [] # 복도 정보 (N x N)\n",
    "teachers = [] # 모든 선생님 위치 정보\n",
    "spaces = [] # 모든 빈 공간 위치 정보\n",
    "\n",
    "for i in range(n):\n",
    "    board.append(list(input().split()))\n",
    "    for j in range(n):\n",
    "        # 선생님이 존재하는 위치 저장\n",
    "        if board[i][j] == 'T':\n",
    "            teachers.append((i, j))\n",
    "        # 장애물을 설치할 수 있는 (빈 공간) 위치 저장\n",
    "        if board[i][j] == 'X':\n",
    "            spaces.append((i, j))\n",
    "\n",
    "# 특정 방향으로 감시를 진행 (학생 발견: True, 학생 미발견: False)\n",
    "def watch(x, y, direction):\n",
    "    # 왼쪽 방향으로 감시\n",
    "    if direction == 0:\n",
    "        while y >= 0:\n",
    "            if board[x][y] == 'S': # 학생이 있는 경우\n",
    "                return True\n",
    "            if board[x][y] == 'O': # 장애물이 있는 경우\n",
    "                return False\n",
    "            y -= 1\n",
    "    # 오른쪽 방향으로 감시\n",
    "    if direction == 1:\n",
    "        while y < n:\n",
    "            if board[x][y] == 'S': # 학생이 있는 경우\n",
    "                return True\n",
    "            if board[x][y] == 'O': # 장애물이 있는 경우\n",
    "                return False\n",
    "            y += 1\n",
    "    # 위쪽 방향으로 감시\n",
    "    if direction == 2:\n",
    "        while x >= 0:\n",
    "            if board[x][y] == 'S': # 학생이 있는 경우\n",
    "                return True\n",
    "            if board[x][y] == 'O': # 장애물이 있는 경우\n",
    "                return False\n",
    "            x -= 1\n",
    "    # 아래쪽 방향으로 감시\n",
    "    if direction == 3:\n",
    "        while x < n:\n",
    "            if board[x][y] == 'S': # 학생이 있는 경우\n",
    "                return True\n",
    "            if board[x][y] == 'O': # 장애물이 있는 경우\n",
    "                return False\n",
    "            x += 1\n",
    "    return False\n",
    "\n",
    "# 장애물 설치 이후에, 한 명이라도 학생이 감지되는지 검사\n",
    "def process():\n",
    "    # 모든 선생의 위치를 하나씩 확인\n",
    "    for x, y in teachers:\n",
    "        # 4가지 방향으로 학생을 감지할 수 있는지 확인\n",
    "        for i in range(4):\n",
    "            if watch(x, y, i):\n",
    "                return True\n",
    "    return False\n",
    "\n",
    "find = False # 학생이 한 명도 감지되지 않도록 설치할 수 있는지의 여부\n",
    "\n",
    "# 빈 공간에서 3개를 뽑는 모든 조합을 확인\n",
    "for data in combinations(spaces, 3):\n",
    "    # 장애물들을 설치해보기\n",
    "    for x, y in data:\n",
    "        board[x][y] = 'O'\n",
    "    # 학생이 한 명도 감지되지 않는 경우\n",
    "    if not process():\n",
    "        # 원하는 경우를 발견한 것임\n",
    "        find = True\n",
    "        break\n",
    "    # 설치된 장애물을 다시 없애기\n",
    "    for x, y in data:\n",
    "        board[x][y] = 'X'\n",
    "\n",
    "if find:\n",
    "    print('YES')\n",
    "else:\n",
    "    print('NO')\n"
   ]
  }
 ],
 "metadata": {
  "kernelspec": {
   "display_name": "Python 3 (ipykernel)",
   "language": "python",
   "name": "python3"
  },
  "language_info": {
   "codemirror_mode": {
    "name": "ipython",
    "version": 3
   },
   "file_extension": ".py",
   "mimetype": "text/x-python",
   "name": "python",
   "nbconvert_exporter": "python",
   "pygments_lexer": "ipython3",
   "version": "3.9.6"
  }
 },
 "nbformat": 4,
 "nbformat_minor": 5
}
