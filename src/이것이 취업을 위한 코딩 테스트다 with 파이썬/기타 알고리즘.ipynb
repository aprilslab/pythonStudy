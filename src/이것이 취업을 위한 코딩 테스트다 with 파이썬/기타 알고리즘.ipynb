{
 "cells": [
  {
   "cell_type": "markdown",
   "id": "da31a09f",
   "metadata": {},
   "source": [
    "## 소수의 판별"
   ]
  },
  {
   "cell_type": "code",
   "execution_count": 1,
   "id": "915f73c3",
   "metadata": {},
   "outputs": [
    {
     "name": "stdout",
     "output_type": "stream",
     "text": [
      "False\n",
      "True\n"
     ]
    }
   ],
   "source": [
    "import math\n",
    "\n",
    "# 소수 판별 함수\n",
    "def is_prime_number(x):\n",
    "    # 2부터 x의 제곱근까지의 모든 수를 확인하며\n",
    "    for i in range(2, int(math.sqrt(x)) + 1):\n",
    "        # x가 해당 수로 나누어떨어진다면\n",
    "        if x % i == 0:\n",
    "            return False # 소수가 아님\n",
    "    return True # 소수임\n",
    "\n",
    "print(is_prime_number(4)) # 4는 소수가 아님\n",
    "print(is_prime_number(7)) # 7은 소수임"
   ]
  },
  {
   "cell_type": "code",
   "execution_count": null,
   "id": "33163811",
   "metadata": {},
   "outputs": [],
   "source": []
  }
 ],
 "metadata": {
  "kernelspec": {
   "display_name": "Python 3 (ipykernel)",
   "language": "python",
   "name": "python3"
  },
  "language_info": {
   "codemirror_mode": {
    "name": "ipython",
    "version": 3
   },
   "file_extension": ".py",
   "mimetype": "text/x-python",
   "name": "python",
   "nbconvert_exporter": "python",
   "pygments_lexer": "ipython3",
   "version": "3.9.6"
  }
 },
 "nbformat": 4,
 "nbformat_minor": 5
}
