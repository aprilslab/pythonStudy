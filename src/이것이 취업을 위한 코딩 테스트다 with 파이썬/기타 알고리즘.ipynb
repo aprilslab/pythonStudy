{
 "cells": [
  {
   "cell_type": "markdown",
   "id": "88ed1689",
   "metadata": {},
   "source": [
    "## 소수의 판별"
   ]
  },
  {
   "cell_type": "code",
   "execution_count": 1,
   "id": "8c897564",
   "metadata": {},
   "outputs": [
    {
     "name": "stdout",
     "output_type": "stream",
     "text": [
      "False\n",
      "True\n"
     ]
    }
   ],
   "source": [
    "import math\n",
    "\n",
    "# 소수 판별 함수\n",
    "def is_prime_number(x):\n",
    "    # 2부터 x의 제곱근까지의 모든 수를 확인하며\n",
    "    for i in range(2, int(math.sqrt(x)) + 1):\n",
    "        # x가 해당 수로 나누어떨어진다면\n",
    "        if x % i == 0:\n",
    "            return False # 소수가 아님\n",
    "    return True # 소수임\n",
    "\n",
    "print(is_prime_number(4)) # 4는 소수가 아님\n",
    "print(is_prime_number(7)) # 7은 소수임"
   ]
  },
  {
   "cell_type": "markdown",
   "id": "59b58f4a",
   "metadata": {},
   "source": [
    "## 에라토스테네스의 체"
   ]
  },
  {
   "cell_type": "code",
   "execution_count": 2,
   "id": "12529e74",
   "metadata": {},
   "outputs": [
    {
     "name": "stdout",
     "output_type": "stream",
     "text": [
      "2 3 5 7 11 13 17 19 23 29 31 37 41 43 47 53 59 61 67 71 73 79 83 89 97 101 103 107 109 113 127 131 137 139 149 151 157 163 167 173 179 181 191 193 197 199 211 223 227 229 233 239 241 251 257 263 269 271 277 281 283 293 307 311 313 317 331 337 347 349 353 359 367 373 379 383 389 397 401 409 419 421 431 433 439 443 449 457 461 463 467 479 487 491 499 503 509 521 523 541 547 557 563 569 571 577 587 593 599 601 607 613 617 619 631 641 643 647 653 659 661 673 677 683 691 701 709 719 727 733 739 743 751 757 761 769 773 787 797 809 811 821 823 827 829 839 853 857 859 863 877 881 883 887 907 911 919 929 937 941 947 953 967 971 977 983 991 997 "
     ]
    }
   ],
   "source": [
    "import math\n",
    "\n",
    "n = 1000 # 2부터 1,000까지의 모든 수에 대하여 소수 판별\n",
    "array = [True for i in range(n + 1)] # 처음엔 모든 수가 소수(True)인 것으로 초기화\n",
    "\n",
    "# 에라토스테네스의 체 알고리즘 \n",
    "for i in range(2, int(math.sqrt(n)) + 1): # 2부터 n의 제곱근까지의 모든 수를 확인하며\n",
    "    if array[i] == True: # i가 소수인 경우 (남은 수인 경우)\n",
    "        # i를 제외한 i의 모든 배수를 지우기\n",
    "        j = 2 \n",
    "        while i * j <= n:\n",
    "            array[i * j] = False\n",
    "            j += 1\n",
    "\n",
    "# 모든 소수 출력\n",
    "for i in range(2, n + 1):\n",
    "    if array[i]:\n",
    "        print(i, end=' ')\n"
   ]
  },
  {
   "cell_type": "markdown",
   "id": "be773aa9",
   "metadata": {},
   "source": [
    "## 투 포인터"
   ]
  },
  {
   "cell_type": "code",
   "execution_count": 3,
   "id": "1e9a8069",
   "metadata": {},
   "outputs": [
    {
     "name": "stdout",
     "output_type": "stream",
     "text": [
      "3\n"
     ]
    }
   ],
   "source": [
    "n = 5 # 데이터의 개수 N\n",
    "m = 5 # 찾고자 하는 부분합 M\n",
    "data = [1, 2, 3, 2, 5] # 전체 수열\n",
    "\n",
    "count = 0\n",
    "interval_sum = 0\n",
    "end = 0\n",
    "\n",
    "# start를 차례대로 증가시키며 반복\n",
    "for start in range(n):\n",
    "    # end를 가능한 만큼 이동시키기\n",
    "    while interval_sum < m and end < n:\n",
    "        interval_sum += data[end]\n",
    "        end += 1\n",
    "    # 부분합이 m일 때 카운트 증가\n",
    "    if interval_sum == m:\n",
    "        count += 1\n",
    "    interval_sum -= data[start]\n",
    "\n",
    "print(count)\n"
   ]
  },
  {
   "cell_type": "markdown",
   "id": "57bf58c8",
   "metadata": {},
   "source": [
    "##### 정렬되어 있는 두 리스트의 합집합"
   ]
  },
  {
   "cell_type": "code",
   "execution_count": 1,
   "id": "6b882d2b",
   "metadata": {},
   "outputs": [
    {
     "name": "stdout",
     "output_type": "stream",
     "text": [
      "1 2 3 4 5 6 8 "
     ]
    }
   ],
   "source": [
    "# 사전에 정렬된 리스트 A와 B 선언\n",
    "n, m = 3, 4\n",
    "a = [1, 3, 5]\n",
    "b = [2, 4, 6, 8]\n",
    "\n",
    "# 리스트 A와 B의 모든 원소를 담을 수 있는 크기의 결과 리스트 초기화\n",
    "result = [0] * (n + m)\n",
    "i = 0\n",
    "j = 0\n",
    "k = 0\n",
    "\n",
    "# 모든 원소가 결과 리스트에 담길 때까지 반복\n",
    "while i < n or j < m:\n",
    "    # 리스트 B의 모든 원소가 처리되었거나, 리스트 A의 원소가 더 작을 때\n",
    "    if j >= m or (i < n and a[i] <= b[j]):\n",
    "        # 리스트 A의 원소를 결과 리스트로 옮기기\n",
    "        result[k] = a[i]\n",
    "        i += 1\n",
    "    # 리스트 A의 모든 원소가 처리되었거나, 리스트 B의 원소가 더 작을 때\n",
    "    else:\n",
    "        # 리스트 B의 원소를 결과 리스트로 옮기기\n",
    "        result[k] = b[j]\n",
    "        j += 1\n",
    "    k += 1\n",
    "\n",
    "# 결과 리스트 출력\n",
    "for i in result:\n",
    "    print(i, end=' ')\n"
   ]
  },
  {
   "cell_type": "code",
   "execution_count": null,
   "id": "1635afe8",
   "metadata": {},
   "outputs": [],
   "source": []
  }
 ],
 "metadata": {
  "kernelspec": {
   "display_name": "Python 3 (ipykernel)",
   "language": "python",
   "name": "python3"
  },
  "language_info": {
   "codemirror_mode": {
    "name": "ipython",
    "version": 3
   },
   "file_extension": ".py",
   "mimetype": "text/x-python",
   "name": "python",
   "nbconvert_exporter": "python",
   "pygments_lexer": "ipython3",
   "version": "3.9.6"
  }
 },
 "nbformat": 4,
 "nbformat_minor": 5
}
