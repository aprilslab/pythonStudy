{
 "cells": [
  {
   "cell_type": "markdown",
   "id": "e6ab8ef6",
   "metadata": {},
   "source": [
    "## 거스름돈 문제"
   ]
  },
  {
   "cell_type": "code",
   "execution_count": null,
   "id": "2d1488a3",
   "metadata": {},
   "outputs": [],
   "source": []
  },
  {
   "cell_type": "markdown",
   "id": "2fe2f820",
   "metadata": {},
   "source": [
    "**Solution**"
   ]
  },
  {
   "cell_type": "code",
   "execution_count": 1,
   "id": "9a52c6bb",
   "metadata": {},
   "outputs": [
    {
     "name": "stdout",
     "output_type": "stream",
     "text": [
      "6\n"
     ]
    }
   ],
   "source": [
    "n = 1260\n",
    "count = 0\n",
    "\n",
    "# 큰 단위의 화폐부터 차례대로 확인하기\n",
    "coin_types = [500, 100, 50, 10]\n",
    "\n",
    "for coin in coin_types:\n",
    "    count += n // coin # 해당 화폐로 거슬러 줄 수 있는 동전의 개수 세기\n",
    "    n %= coin\n",
    "\n",
    "print(count)"
   ]
  },
  {
   "cell_type": "markdown",
   "id": "e814e7de",
   "metadata": {},
   "source": [
    "---\n",
    "## 동빈이의 큰 수의 법칙"
   ]
  },
  {
   "cell_type": "code",
   "execution_count": null,
   "id": "966e3de8",
   "metadata": {},
   "outputs": [],
   "source": [
    "n, m, k = 5, 8, 3\n",
    "line = \"2 4 5 4 6\"\n",
    "\n",
    "# 출력 예시\n",
    "# 46\n"
   ]
  },
  {
   "cell_type": "markdown",
   "id": "554bed3e",
   "metadata": {},
   "source": [
    "**Solution**"
   ]
  },
  {
   "cell_type": "code",
   "execution_count": 2,
   "id": "6ccef054",
   "metadata": {},
   "outputs": [
    {
     "name": "stdout",
     "output_type": "stream",
     "text": [
      "5 8 3\n",
      "2 4 5 4 6\n",
      "46\n"
     ]
    }
   ],
   "source": [
    "# N, M, K를 공백을 기준으로 구분하여 입력 받기\n",
    "n, m, k = map(int, input().split())\n",
    "# N개의 수를 공백을 기준으로 구분하여 입력 받기\n",
    "data = list(map(int, input().split()))\n",
    "\n",
    "data.sort() # 입력 받은 수들 정렬하기\n",
    "first = data[n - 1] # 가장 큰 수\n",
    "second = data[n - 2] # 두 번째로 큰 수\n",
    "\n",
    "# 가장 큰 수가 더해지는 횟수 계산\n",
    "count = int(m / (k + 1)) * k\n",
    "count += m % (k + 1)\n",
    "\n",
    "result = 0\n",
    "result += (count) * first # 가장 큰 수 더하기\n",
    "result += (m - count) * second # 두 번째로 큰 수 더하기\n",
    "\n",
    "print(result) # 최종 답안 출력"
   ]
  },
  {
   "cell_type": "markdown",
   "id": "fd78c62f",
   "metadata": {},
   "source": [
    "## 숫자 카드게임"
   ]
  },
  {
   "cell_type": "code",
   "execution_count": null,
   "id": "881d69b8",
   "metadata": {},
   "outputs": [],
   "source": [
    "n, m = 3, 3\n",
    "lines = [\n",
    "    \"3 1 2\",\n",
    "    \"4 1 4\",\n",
    "    \"2 2 2 \"\n",
    "]\n",
    "\n",
    "# 출력 예시\n",
    "# 2"
   ]
  },
  {
   "cell_type": "code",
   "execution_count": null,
   "id": "340573a4",
   "metadata": {},
   "outputs": [],
   "source": [
    "n, m = 2, 4\n",
    "lines = [\n",
    "    \"7 3 1 8\",\n",
    "    \"3 3 3 4\"\n",
    "]\n",
    "\n",
    "# 출력 예시\n",
    "# 3\n"
   ]
  },
  {
   "cell_type": "markdown",
   "id": "276248d8",
   "metadata": {},
   "source": [
    "**Solution**"
   ]
  },
  {
   "cell_type": "code",
   "execution_count": 3,
   "id": "e038751e",
   "metadata": {},
   "outputs": [
    {
     "name": "stdout",
     "output_type": "stream",
     "text": [
      "3 3\n",
      "3 1 2\n",
      "4 1 4\n",
      "2 2 2\n",
      "2\n"
     ]
    }
   ],
   "source": [
    "# N, M을 공백을 기준으로 구분하여 입력 받기\n",
    "n, m = map(int, input().split())\n",
    "\n",
    "result = 0\n",
    "# 한 줄씩 입력 받아 확인하기\n",
    "for i in range(n):\n",
    "    data = list(map(int, input().split()))\n",
    "    # 현재 줄에서 '가장 작은 수' 찾기\n",
    "    min_value = min(data)\n",
    "    # '가장 작은 수'들 중에서 가장 큰 수 찾기\n",
    "    result = max(result, min_value)\n",
    "\n",
    "print(result) # 최종 답안 출력\n"
   ]
  },
  {
   "cell_type": "code",
   "execution_count": 4,
   "id": "73f65f3c",
   "metadata": {},
   "outputs": [
    {
     "name": "stdout",
     "output_type": "stream",
     "text": [
      "2 4\n",
      "7 3 1 8\n",
      "3 3 3 4\n",
      "3\n"
     ]
    }
   ],
   "source": [
    "# N, M을 공백을 기준으로 구분하여 입력 받기\n",
    "n, m = map(int, input().split())\n",
    "\n",
    "result = 0\n",
    "# 한 줄씩 입력 받아 확인하기\n",
    "for i in range(n):\n",
    "    data = list(map(int, input().split()))\n",
    "    # 현재 줄에서 '가장 작은 수' 찾기\n",
    "    min_value = 10001\n",
    "    for a in data:\n",
    "        min_value = min(min_value, a)\n",
    "    # '가장 작은 수'들 중에서 가장 큰 수 찾기\n",
    "    result = max(result, min_value)\n",
    "\n",
    "print(result) # 최종 답안 출력\n"
   ]
  },
  {
   "cell_type": "markdown",
   "id": "6dccc1cd",
   "metadata": {},
   "source": [
    "## 1이 될 때까지"
   ]
  },
  {
   "cell_type": "code",
   "execution_count": null,
   "id": "33b80a17",
   "metadata": {},
   "outputs": [],
   "source": [
    "n, k = 25, 5\n",
    "\n",
    "# 출력 예시\n",
    "# 2"
   ]
  },
  {
   "cell_type": "markdown",
   "id": "24c69126",
   "metadata": {},
   "source": [
    "**Solution**"
   ]
  },
  {
   "cell_type": "code",
   "execution_count": 6,
   "id": "8d7100dc",
   "metadata": {},
   "outputs": [
    {
     "name": "stdout",
     "output_type": "stream",
     "text": [
      "25 5\n",
      "2\n"
     ]
    }
   ],
   "source": [
    "# N, K을 공백을 기준으로 구분하여 입력 받기\n",
    "n, k = map(int, input().split())\n",
    "result = 0\n",
    "\n",
    "# N이 K 이상이라면 K로 계속 나누기\n",
    "while n >= k:\n",
    "    # N이 K로 나누어 떨어지지 않는다면 N에서 1씩 빼기\n",
    "    while n % k != 0:\n",
    "        n -= 1\n",
    "        result += 1\n",
    "    # K로 나누기\n",
    "    n //= k\n",
    "    result += 1\n",
    "\n",
    "# 마지막으로 남은 수에 대하여 1씩 빼기\n",
    "while n > 1:\n",
    "    n -= 1\n",
    "    result += 1\n",
    "\n",
    "print(result)\n"
   ]
  },
  {
   "cell_type": "code",
   "execution_count": 7,
   "id": "0e60a9d3",
   "metadata": {},
   "outputs": [
    {
     "name": "stdout",
     "output_type": "stream",
     "text": [
      "25 5\n",
      "2\n"
     ]
    }
   ],
   "source": [
    "# N, K공백을 기준으로 구분하여 입력 받기\n",
    "n, k = map(int, input().split())\n",
    "\n",
    "result = 0\n",
    "\n",
    "while True:\n",
    "    # N이 K로 나누어 떨어지는 수가 될 때까지만 1씩 빼기\n",
    "    target = (n // k) * k\n",
    "    result += (n - target)\n",
    "    n = target\n",
    "    # N이 K보다 작을 때 (더 이상 나눌 수 없을 때) 반복문 탈출\n",
    "    if n < k:\n",
    "        break\n",
    "    # K로 나누기\n",
    "    result += 1\n",
    "    n //= k\n",
    "\n",
    "# 마지막으로 남은 수에 대하여 1씩 빼기\n",
    "result += (n - 1)\n",
    "print(result)\n"
   ]
  },
  {
   "cell_type": "markdown",
   "id": "4e6fd82e",
   "metadata": {},
   "source": [
    "---\n",
    "# 기출문제\n",
    "\n",
    "## Q1. 모험가 길드"
   ]
  },
  {
   "cell_type": "code",
   "execution_count": null,
   "id": "ba36b0c7",
   "metadata": {},
   "outputs": [],
   "source": [
    "n = 5\n",
    "line = \"2 3 1 2 2\"\n",
    "\n",
    "# 출력예시\n",
    "# 2"
   ]
  },
  {
   "cell_type": "markdown",
   "id": "c65b182f",
   "metadata": {},
   "source": [
    "**Solution**"
   ]
  },
  {
   "cell_type": "code",
   "execution_count": 1,
   "id": "6404a5e5",
   "metadata": {
    "scrolled": true
   },
   "outputs": [
    {
     "name": "stdout",
     "output_type": "stream",
     "text": [
      "5\n",
      "2 3 1 2 2\n",
      "2\n"
     ]
    }
   ],
   "source": [
    "n = int(input())\n",
    "data = list(map(int, input().split()))\n",
    "data.sort()\n",
    "\n",
    "result = 0 # 총 그룹의 수\n",
    "count = 0 # 현재 그룹에 포함된 모험가의 수\n",
    "\n",
    "for i in data: # 공포도를 낮은 것부터 하나씩 확인하며\n",
    "    count += 1 # 현재 그룹에 해당 모험가를 포함시키기\n",
    "    if count >= i: # 현재 그룹에 포함된 모험가의 수가 현재의 공포도 이상이라면, 그룹 결성\n",
    "        result += 1 # 총 그룹의 수 증가시키기\n",
    "        count = 0 # 현재 그룹에 포함된 모험가의 수 초기화\n",
    "\n",
    "print(result) # 총 그룹의 수 출력"
   ]
  },
  {
   "cell_type": "markdown",
   "id": "2e119898",
   "metadata": {},
   "source": [
    "## Q2. 곱하기 혹은 더하기"
   ]
  },
  {
   "cell_type": "code",
   "execution_count": null,
   "id": "88cc9fee",
   "metadata": {},
   "outputs": [],
   "source": [
    "line1 = \"02984\" #출력예시: 576\n",
    "line2 = \"567\" #출력예시: 210\n"
   ]
  },
  {
   "cell_type": "markdown",
   "id": "dee4a6fe",
   "metadata": {},
   "source": [
    "**Solution**"
   ]
  },
  {
   "cell_type": "code",
   "execution_count": 1,
   "id": "4c38ec2a",
   "metadata": {},
   "outputs": [
    {
     "name": "stdout",
     "output_type": "stream",
     "text": [
      "02984\n",
      "576\n"
     ]
    }
   ],
   "source": [
    "data = input()\n",
    "\n",
    "# 첫 번째 문자를 숫자로 변경하여 대입\n",
    "result = int(data[0])\n",
    "\n",
    "for i in range(1, len(data)):\n",
    "    # 두 수 중에서 하나라도 '0' 혹은 '1'인 경우, 곱하기보다는 더하기 수행\n",
    "    num = int(data[i])\n",
    "    if num <= 1 or result <= 1:\n",
    "        result += num\n",
    "    else:\n",
    "        result *= num\n",
    "\n",
    "print(result)\n"
   ]
  },
  {
   "cell_type": "markdown",
   "id": "80c52c7b",
   "metadata": {},
   "source": [
    "## Q3. 문자열 뒤집기"
   ]
  },
  {
   "cell_type": "code",
   "execution_count": null,
   "id": "cc5796a7",
   "metadata": {},
   "outputs": [],
   "source": [
    "line = \"0001100\" #출력예시: 1\n"
   ]
  },
  {
   "cell_type": "markdown",
   "id": "85a84ec1",
   "metadata": {},
   "source": [
    "**Solution**"
   ]
  },
  {
   "cell_type": "code",
   "execution_count": 1,
   "id": "95f55626",
   "metadata": {},
   "outputs": [
    {
     "name": "stdout",
     "output_type": "stream",
     "text": [
      "0001100\n",
      "1\n"
     ]
    }
   ],
   "source": [
    "data = input()\n",
    "count0 = 0 # 전부 0으로 바꾸는 경우\n",
    "count1 = 0 # 전부 1로 바꾸는 경우\n",
    "\n",
    "# 첫 번째 원소에 대해서 처리\n",
    "if data[0] == '1':\n",
    "    count0 += 1\n",
    "else:\n",
    "    count1 += 1\n",
    "\n",
    "# 두 번째 원소부터 모든 원소를 확인하며\n",
    "for i in range(len(data) - 1):\n",
    "    if data[i] != data[i + 1]:\n",
    "        # 다음 수에서 1로 바뀌는 경우\n",
    "        if data[i + 1] == '1':\n",
    "            count0 += 1\n",
    "        # 다음 수에서 0으로 바뀌는 경우\n",
    "        else:\n",
    "            count1 += 1\n",
    "\n",
    "print(min(count0, count1))"
   ]
  },
  {
   "cell_type": "markdown",
   "id": "d64a20d0",
   "metadata": {},
   "source": [
    "## Q4. 만들 수 없는 금액"
   ]
  },
  {
   "cell_type": "code",
   "execution_count": null,
   "id": "45940c13",
   "metadata": {},
   "outputs": [],
   "source": [
    "n = 5\n",
    "line = \"3 2 1 1 9\" # 출력예시: 8\n"
   ]
  },
  {
   "cell_type": "markdown",
   "id": "34bb1473",
   "metadata": {},
   "source": [
    "**Solution**"
   ]
  },
  {
   "cell_type": "code",
   "execution_count": 1,
   "id": "e2c9f747",
   "metadata": {},
   "outputs": [
    {
     "name": "stdout",
     "output_type": "stream",
     "text": [
      "5\n",
      "3 2 1 1 9\n",
      "8\n"
     ]
    }
   ],
   "source": [
    "n = int(input())\n",
    "data = list(map(int, input().split()))\n",
    "data.sort()\n",
    "\n",
    "target = 1\n",
    "for x in data:\n",
    "    # 만들 수 없는 금액을 찾았을 때 반복 종료\n",
    "    if target < x:\n",
    "        break\n",
    "    target += x\n",
    "\n",
    "# 만들 수 없는 금액 출력\n",
    "print(target)"
   ]
  },
  {
   "cell_type": "markdown",
   "id": "ecff8652",
   "metadata": {},
   "source": [
    "## Q5. 볼링공 고르기"
   ]
  },
  {
   "cell_type": "code",
   "execution_count": null,
   "id": "0fea9014",
   "metadata": {},
   "outputs": [],
   "source": [
    "n1, m1 = 5, 3\n",
    "line1 = \"1 3 2 3 2\" # 출력예시: 8\n",
    "\n",
    "n2, m2 = 8, 5\n",
    "line2 = \"1 5 4 3 2 4 5 2\" # 출력예시: 25"
   ]
  },
  {
   "cell_type": "markdown",
   "id": "08cc0a7c",
   "metadata": {},
   "source": [
    "**Solution**"
   ]
  },
  {
   "cell_type": "code",
   "execution_count": 1,
   "id": "bd3eb795",
   "metadata": {},
   "outputs": [
    {
     "name": "stdout",
     "output_type": "stream",
     "text": [
      "5 3\n",
      "1 3 2 3 2\n",
      "8\n"
     ]
    }
   ],
   "source": [
    "n, m = map(int, input().split())\n",
    "data = list(map(int, input().split()))\n",
    "\n",
    "# 1부터 10까지의 무게를 담을 수 있는 리스트\n",
    "array = [0] * 11\n",
    "\n",
    "for x in data:\n",
    "    # 각 무게에 해당하는 볼링공의 개수 카운트\n",
    "    array[x] += 1\n",
    "\n",
    "result = 0\n",
    "# 1부터 m까지의 각 무게에 대하여 처리\n",
    "for i in range(1, m + 1):\n",
    "    n -= array[i] # 무게가 i인 볼링공의 개수(A가 선택할 수 있는 개수) 제외\n",
    "    result += array[i] * n # B가 선택하는 경우의 수와 곱해주기\n",
    "\n",
    "print(result)"
   ]
  }
 ],
 "metadata": {
  "kernelspec": {
   "display_name": "Python 3 (ipykernel)",
   "language": "python",
   "name": "python3"
  },
  "language_info": {
   "codemirror_mode": {
    "name": "ipython",
    "version": 3
   },
   "file_extension": ".py",
   "mimetype": "text/x-python",
   "name": "python",
   "nbconvert_exporter": "python",
   "pygments_lexer": "ipython3",
   "version": "3.9.6"
  }
 },
 "nbformat": 4,
 "nbformat_minor": 5
}
