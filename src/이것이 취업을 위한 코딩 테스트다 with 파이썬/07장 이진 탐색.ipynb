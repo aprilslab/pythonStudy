{
 "cells": [
  {
   "cell_type": "markdown",
   "id": "992eb5ff",
   "metadata": {},
   "source": [
    "## 순차 탐색"
   ]
  },
  {
   "cell_type": "code",
   "execution_count": null,
   "id": "83675902",
   "metadata": {},
   "outputs": [],
   "source": [
    "lines = [\n",
    "    \"5 Dongbin\",\n",
    "    \"Hanul Jonggu Dongbin Teail Sangwook\" \n",
    "]\n"
   ]
  },
  {
   "cell_type": "markdown",
   "id": "cc82fd56",
   "metadata": {},
   "source": [
    "**Solution**"
   ]
  },
  {
   "cell_type": "code",
   "execution_count": 1,
   "id": "834ce7fe",
   "metadata": {},
   "outputs": [
    {
     "name": "stdout",
     "output_type": "stream",
     "text": [
      "생성할 원소 개수를 입력한 다음 한 칸 띄고 찾을 문자열을 입력하세요.\n",
      "5 Dongbin\n",
      "앞서 적은 원소 개수만큼 문자열을 입력하세요. 구분은 띄어쓰기 한 칸으로 합니다.\n",
      "Hanul Jonggu Dongbin Teail Sangwook\n",
      "3\n"
     ]
    }
   ],
   "source": [
    "# 순차 탐색 소스코드 구현\n",
    "def sequential_search(n, target, array):\n",
    "    # 각 원소를 하나씩 확인하며\n",
    "    for i in range(n):\n",
    "        # 현재의 원소가 찾고자 하는 원소와 동일한 경우\n",
    "        if array[i] == target:\n",
    "            return i + 1 # 현재의 위치 반환 (인덱스는 0부터 시작하므로 1 더하기)\n",
    "    return -1 # 원소를 찾지 못한 경우 -1 반환\n",
    "\n",
    "print(\"생성할 원소 개수를 입력한 다음 한 칸 띄고 찾을 문자열을 입력하세요.\")\n",
    "input_data = input().split()\n",
    "n = int(input_data[0]) # 원소의 개수\n",
    "target = input_data[1] # 찾고자 하는 문자열\n",
    "\n",
    "print(\"앞서 적은 원소 개수만큼 문자열을 입력하세요. 구분은 띄어쓰기 한 칸으로 합니다.\")  \n",
    "array = input().split()\n",
    "\n",
    "# 순차 탐색 수행 결과 출력\n",
    "print(sequential_search(n, target, array))\n",
    "\n",
    "# 입력 예시\n",
    "# 생성할 원소 개수를 입력한 다음 한 칸 띄고 찾을 문자열을 입력하세요.\n",
    "# 5 Dongbin\n",
    "# 앞서 적은 원소 개수만큼 문자열을 입력하세요. 구분은 띄어쓰기 한 칸으로 합니다.\n",
    "# Hanul Jonggu Dongbin Teail Sangwook\n",
    "\n",
    "# 출력 예시\n",
    "# 3\n"
   ]
  },
  {
   "cell_type": "markdown",
   "id": "031ccb7e",
   "metadata": {},
   "source": [
    "## 재귀 함수를 이용한 이진 탐색"
   ]
  },
  {
   "cell_type": "code",
   "execution_count": null,
   "id": "df80811a",
   "metadata": {},
   "outputs": [],
   "source": [
    "lines1 = [\n",
    "    \"10 7\",\n",
    "    \"1 3 5 7 9 11 13 15 17 19\"\n",
    "]\n",
    "\n",
    "lines2 = [\n",
    "    \"10 7\",\n",
    "    \"1 3 5 6 9 11 13 15 17 19\"\n",
    "]\n"
   ]
  },
  {
   "cell_type": "markdown",
   "id": "48e52cad",
   "metadata": {},
   "source": [
    "**Solution**"
   ]
  },
  {
   "cell_type": "code",
   "execution_count": 2,
   "id": "c232b07a",
   "metadata": {},
   "outputs": [
    {
     "name": "stdout",
     "output_type": "stream",
     "text": [
      "10 7\n",
      "1 3 5 7 9 11 13 15 17 19\n",
      "4\n"
     ]
    }
   ],
   "source": [
    "# 이진 탐색 소스코드 구현 (재귀 함수)\n",
    "def binary_search(array, target, start, end):\n",
    "    if start > end:\n",
    "        return None\n",
    "    mid = (start + end) // 2\n",
    "    # 찾은 경우 중간점 인덱스 반환\n",
    "    if array[mid] == target:\n",
    "        return mid\n",
    "    # 중간점의 값보다 찾고자 하는 값이 작은 경우 왼쪽 확인\n",
    "    elif array[mid] > target:\n",
    "        return binary_search(array, target, start, mid - 1)\n",
    "    # 중간점의 값보다 찾고자 하는 값이 큰 경우 오른쪽 확인\n",
    "    else:\n",
    "        return binary_search(array, target, mid + 1, end)\n",
    "\n",
    "# n(원소의 개수)과 target(찾고자 하는 값)을 입력 받기\n",
    "n, target = list(map(int, input().split()))\n",
    "# 전체 원소 입력 받기\n",
    "array = list(map(int, input().split()))\n",
    "\n",
    "# 이진 탐색 수행 결과 출력\n",
    "result = binary_search(array, target, 0, n - 1)\n",
    "if result == None:\n",
    "    print(\"원소가 존재하지 않습니다.\")\n",
    "else:\n",
    "    print(result + 1)\n",
    "\n",
    "# 입력 예시 1\n",
    "# 10 7\n",
    "# 1 3 5 7 9 11 13 15 17 19\n",
    "#\n",
    "# 출력 예시 1\n",
    "# 4\n",
    "\n",
    "# 입력 예시 2\n",
    "# 10 7\n",
    "# 1 3 5 6 9 11 13 15 17 19\n",
    "#\n",
    "# 출력 예시 2\n",
    "# 원소가 존재하지 않습니다.\n"
   ]
  },
  {
   "cell_type": "markdown",
   "id": "76fe93b2",
   "metadata": {},
   "source": [
    "## 반복문을 이용한 이진 탐색"
   ]
  },
  {
   "cell_type": "code",
   "execution_count": null,
   "id": "0cfa64c7",
   "metadata": {},
   "outputs": [],
   "source": [
    "lines1 = [\n",
    "    \"10 7\",\n",
    "    \"1 3 5 7 9 11 13 15 17 19\"\n",
    "]\n",
    "\n",
    "lines2 = [\n",
    "    \"10 7\",\n",
    "    \"1 3 5 6 9 11 13 15 17 19\"\n",
    "]\n"
   ]
  },
  {
   "cell_type": "markdown",
   "id": "fb52dfa2",
   "metadata": {},
   "source": [
    "**Solution**"
   ]
  },
  {
   "cell_type": "code",
   "execution_count": 3,
   "id": "aee1427d",
   "metadata": {},
   "outputs": [
    {
     "name": "stdout",
     "output_type": "stream",
     "text": [
      "10 7\n",
      "1 3 5 6 9 11 13 15 17 19\n",
      "원소가 존재하지 않습니다.\n"
     ]
    }
   ],
   "source": [
    "# 이진 탐색 소스코드 구현 (반복문)\n",
    "def binary_search(array, target, start, end):\n",
    "    while start <= end:\n",
    "        mid = (start + end) // 2\n",
    "        # 찾은 경우 중간점 인덱스 반환\n",
    "        if array[mid] == target:\n",
    "            return mid\n",
    "        # 중간점의 값보다 찾고자 하는 값이 작은 경우 왼쪽 확인\n",
    "        elif array[mid] > target:\n",
    "            end = mid - 1\n",
    "        # 중간점의 값보다 찾고자 하는 값이 큰 경우 오른쪽 확인\n",
    "        else:\n",
    "            start = mid + 1\n",
    "    return None\n",
    "\n",
    "# n(원소의 개수)과 target(찾고자 하는 값)을 입력 받기\n",
    "n, target = list(map(int, input().split()))\n",
    "# 전체 원소 입력 받기\n",
    "array = list(map(int, input().split()))\n",
    "\n",
    "# 이진 탐색 수행 결과 출력\n",
    "result = binary_search(array, target, 0, n - 1)\n",
    "if result == None:\n",
    "    print(\"원소가 존재하지 않습니다.\")\n",
    "else:\n",
    "    print(result + 1)\n"
   ]
  },
  {
   "cell_type": "markdown",
   "id": "eea5ab4d",
   "metadata": {},
   "source": [
    "## 파이썬에서 빠르게 입력 받기"
   ]
  },
  {
   "cell_type": "code",
   "execution_count": 4,
   "id": "452bd593",
   "metadata": {},
   "outputs": [
    {
     "name": "stdout",
     "output_type": "stream",
     "text": [
      "\n"
     ]
    }
   ],
   "source": [
    "import sys\n",
    "\n",
    "# 하나의 문자열 데이터 입력 받기\n",
    "input_data = sys.stdin.readline().rstrip()\n",
    "# 입력 받은 문자열 그대로 출력하기\n",
    "print(input_data)\n",
    "\n",
    "# 입력 예시\n",
    "# Hello, Coding Test!\n",
    "# 출력 예시\n",
    "# Hello, Coding Test!"
   ]
  },
  {
   "cell_type": "markdown",
   "id": "89d35e8f",
   "metadata": {},
   "source": [
    "---\n",
    "## 부품 찾기\n",
    "\n",
    "#### 이진 탐색으로 해결"
   ]
  },
  {
   "cell_type": "code",
   "execution_count": null,
   "id": "9c7851f5",
   "metadata": {},
   "outputs": [],
   "source": [
    "lines = [\n",
    "    \"5\",\n",
    "    \"8 3 7 9 2\",\n",
    "    \"3\",\n",
    "    \"5 7 9\"\n",
    "]\n"
   ]
  },
  {
   "cell_type": "markdown",
   "id": "935326e2",
   "metadata": {},
   "source": [
    "**Solution**"
   ]
  },
  {
   "cell_type": "code",
   "execution_count": 5,
   "id": "d3fedff1",
   "metadata": {},
   "outputs": [
    {
     "name": "stdout",
     "output_type": "stream",
     "text": [
      "5\n",
      "8 3 7 9 2\n",
      "3\n",
      "5 7 9\n",
      "no yes yes "
     ]
    }
   ],
   "source": [
    "# 이진 탐색 소스코드 구현 (반복문)\n",
    "def binary_search(array, target, start, end):\n",
    "    while start <= end:\n",
    "        mid = (start + end) // 2\n",
    "        # 찾은 경우 중간점 인덱스 반환\n",
    "        if array[mid] == target:\n",
    "            return mid\n",
    "        # 중간점의 값보다 찾고자 하는 값이 작은 경우 왼쪽 확인\n",
    "        elif array[mid] > target:\n",
    "            end = mid - 1\n",
    "        # 중간점의 값보다 찾고자 하는 값이 작은 경우 오른쪽 확인\n",
    "        else:\n",
    "            start = mid + 1\n",
    "    return None\n",
    "\n",
    "# N(가게의 부품 개수) 입력\n",
    "n = int(input())\n",
    "# 가게에 있는 전체 부품 번호를 공백을 기준으로 구분하여 입력\n",
    "array = list(map(int, input().split()))\n",
    "array.sort() # 이진 탐색을 수행하기 위해 사전에 정렬 수행\n",
    "# M(손님이 확인 요청한 부품 개수) 입력\n",
    "m = int(input())\n",
    "# 손님이 확인 요청한 전체 부품 번호를 공백을 기준으로 구분하여 입력\n",
    "x = list(map(int, input().split()))\n",
    "\n",
    "# 손님이 확인 요청한 부품 번호를 하나씩 확인\n",
    "for i in x:\n",
    "    # 해당 부품이 존재하는지 확인\n",
    "    result = binary_search(array, i, 0, n - 1)\n",
    "    if result != None:\n",
    "        print('yes', end=' ')\n",
    "    else:\n",
    "        print('no', end=' ')\n"
   ]
  },
  {
   "cell_type": "markdown",
   "id": "9f40921d",
   "metadata": {},
   "source": [
    "#### 계수 정렬로 해결"
   ]
  },
  {
   "cell_type": "code",
   "execution_count": null,
   "id": "08e60e5e",
   "metadata": {},
   "outputs": [],
   "source": [
    "lines = [\n",
    "    \"5\",\n",
    "    \"8 3 7 9 2\",\n",
    "    \"3\",\n",
    "    \"5 7 9\"\n",
    "]\n"
   ]
  },
  {
   "cell_type": "markdown",
   "id": "c6466655",
   "metadata": {},
   "source": [
    "**Solution**"
   ]
  },
  {
   "cell_type": "code",
   "execution_count": 6,
   "id": "e969f5ae",
   "metadata": {},
   "outputs": [
    {
     "name": "stdout",
     "output_type": "stream",
     "text": [
      "5\n",
      "8 3 7 9 2\n",
      "3\n",
      "5 7 9\n",
      "no yes yes "
     ]
    }
   ],
   "source": [
    "# N(가게의 부품 개수) 입력\n",
    "n = int(input())\n",
    "array = [0] * 1000001\n",
    "\n",
    "# 가게에 있는 전체 부품 번호를 입력 받아서 기록\n",
    "for i in input().split():\n",
    "    array[int(i)] = 1\n",
    "\n",
    "# M(손님이 확인 요청한 부품 개수) 입력\n",
    "m = int(input())\n",
    "# 손님이 확인 요청한 전체 부품 번호를 공백을 기준으로 구분하여 입력\n",
    "x = list(map(int, input().split()))\n",
    "\n",
    "# 손님이 확인 요청한 부품 번호를 하나씩 확인\n",
    "for i in x:\n",
    "    # 해당 부품이 존재하는지 확인\n",
    "    if array[i] == 1:\n",
    "        print('yes', end=' ')\n",
    "    else:\n",
    "        print('no', end=' ')\n"
   ]
  },
  {
   "cell_type": "markdown",
   "id": "11a1fa0c",
   "metadata": {},
   "source": [
    "#### 집합(Set) 자료형으로 해결"
   ]
  },
  {
   "cell_type": "code",
   "execution_count": null,
   "id": "724ac083",
   "metadata": {},
   "outputs": [],
   "source": [
    "lines = [\n",
    "    \"5\",\n",
    "    \"8 3 7 9 2\",\n",
    "    \"3\",\n",
    "    \"5 7 9\"\n",
    "]\n"
   ]
  },
  {
   "cell_type": "markdown",
   "id": "75e26691",
   "metadata": {},
   "source": [
    "**Solution**"
   ]
  },
  {
   "cell_type": "code",
   "execution_count": 7,
   "id": "5cb37abe",
   "metadata": {},
   "outputs": [
    {
     "name": "stdout",
     "output_type": "stream",
     "text": [
      "5\n",
      "8 3 7 9 2\n",
      "3\n",
      "5 7 9\n",
      "no yes yes "
     ]
    }
   ],
   "source": [
    "# N(가게의 부품 개수) 입력\n",
    "n = int(input())\n",
    "# 가게에 있는 전체 부품 번호를 입력 받아서 집합(Set) 자료형에 기록\n",
    "array = set(map(int, input().split()))\n",
    "\n",
    "# M(손님이 확인 요청한 부품 개수) 입력\n",
    "m = int(input())\n",
    "# 손님이 확인 요청한 전체 부품 번호를 공백을 기준으로 구분하여 입력\n",
    "x = list(map(int, input().split()))\n",
    "\n",
    "# 손님이 확인 요청한 부품 번호를 하나씩 확인\n",
    "for i in x:\n",
    "    # 해당 부품이 존재하는지 확인\n",
    "    if i in array:\n",
    "        print('yes', end=' ')\n",
    "    else:\n",
    "        print('no', end=' ')\n"
   ]
  },
  {
   "cell_type": "markdown",
   "id": "4b4e27c5",
   "metadata": {},
   "source": [
    "## 떡볶이 떡 만들기"
   ]
  },
  {
   "cell_type": "code",
   "execution_count": null,
   "id": "c561b886",
   "metadata": {},
   "outputs": [],
   "source": [
    "lines = [\n",
    "    \"4 6\",\n",
    "    \"19 15 10 17\"\n",
    "]\n"
   ]
  },
  {
   "cell_type": "markdown",
   "id": "ecb1eba5",
   "metadata": {},
   "source": [
    "**Solution**"
   ]
  },
  {
   "cell_type": "code",
   "execution_count": 8,
   "id": "927a71d4",
   "metadata": {},
   "outputs": [
    {
     "name": "stdout",
     "output_type": "stream",
     "text": [
      "4 6\n",
      "19 15 10 17\n",
      "15\n"
     ]
    }
   ],
   "source": [
    "# 떡의 개수(N)와 요청한 떡의 길이(M)을 입력\n",
    "n, m = list(map(int, input().split(' ')))\n",
    "# 각 떡의 개별 높이 정보를 입력\n",
    "array = list(map(int, input().split()))\n",
    "\n",
    "# 이진 탐색을 위한 시작점과 끝점 설정\n",
    "start = 0\n",
    "end = max(array)\n",
    "\n",
    "# 이진 탐색 수행 (반복적)\n",
    "result = 0\n",
    "while(start <= end):\n",
    "    total = 0\n",
    "    mid = (start + end) // 2\n",
    "    for x in array:\n",
    "        # 잘랐을 때의 떡볶이 양 계산\n",
    "        if x > mid:\n",
    "            total += x - mid\n",
    "    # 떡볶이 양이 부족한 경우 더 많이 자르기 (오른쪽 부분 탐색)\n",
    "    if total < m:\n",
    "        end = mid - 1\n",
    "    # 떡볶이 양이 충분한 경우 덜 자르기 (왼쪽 부분 탐색)\n",
    "    else:\n",
    "        result = mid # 최대한 덜 잘랐을 때가 정답이므로, 여기에서 result에 기록\n",
    "        start = mid + 1\n",
    "\n",
    "# 정답 출력\n",
    "print(result)\n",
    "\n",
    "# 입력 예시\n",
    "# 4 6\n",
    "# 19 15 10 17\n",
    "\n",
    "# 출력 예시\n",
    "# 15\n"
   ]
  },
  {
   "cell_type": "markdown",
   "id": "e2cdcdc8",
   "metadata": {},
   "source": [
    "---\n",
    "## Q27. 정렬된 배열에서 특정 수의 개수 구하기"
   ]
  },
  {
   "cell_type": "code",
   "execution_count": null,
   "id": "02a61b0d",
   "metadata": {},
   "outputs": [],
   "source": []
  },
  {
   "cell_type": "code",
   "execution_count": null,
   "id": "0352bae7",
   "metadata": {},
   "outputs": [],
   "source": [
    "n, x = 7, 2\n",
    "line = \"1 1 2 2 2 2 3\"\n",
    "# 출력 예시: 4\n"
   ]
  },
  {
   "cell_type": "code",
   "execution_count": null,
   "id": "8d835141",
   "metadata": {},
   "outputs": [],
   "source": [
    "n, x = 7, 4\n",
    "line = \"1 1 2 2 2 2 3\"\n",
    "# 출력 예시: -1\n"
   ]
  },
  {
   "cell_type": "markdown",
   "id": "bc5a61e9",
   "metadata": {},
   "source": [
    "**Solution**"
   ]
  },
  {
   "cell_type": "code",
   "execution_count": 1,
   "id": "60993676",
   "metadata": {
    "scrolled": true
   },
   "outputs": [
    {
     "name": "stdout",
     "output_type": "stream",
     "text": [
      "7 2\n",
      "1 1 2 2 2 2 3\n",
      "4\n"
     ]
    }
   ],
   "source": [
    "from bisect import bisect_left, bisect_right\n",
    "\n",
    "# 값이 [left_value, right_value]인 데이터의 개수를 반환하는 함수\n",
    "def count_by_range(array, left_value, right_value):\n",
    "    right_index = bisect_right(array, right_value)\n",
    "    left_index = bisect_left(array, left_value)\n",
    "    return right_index - left_index\n",
    "\n",
    "n, x = map(int, input().split()) # 데이터의 개수 N, 찾고자 하는 값 x 입력 받기\n",
    "array = list(map(int, input().split())) # 전체 데이터 입력 받기\n",
    "\n",
    "# 값이 [x, x] 범위에 있는 데이터의 개수 계산\n",
    "count = count_by_range(array, x, x)\n",
    "\n",
    "# 값이 x인 원소가 존재하지 않는다면\n",
    "if count == 0:\n",
    "    print(-1)\n",
    "# 값이 x인 원소가 존재한다면\n",
    "else:\n",
    "    print(count)\n"
   ]
  },
  {
   "cell_type": "markdown",
   "id": "6ab15ce9",
   "metadata": {},
   "source": [
    "## Q28. 고정점 찾기"
   ]
  },
  {
   "cell_type": "code",
   "execution_count": null,
   "id": "fe3c7b40",
   "metadata": {},
   "outputs": [],
   "source": []
  },
  {
   "cell_type": "code",
   "execution_count": null,
   "id": "f2541af4",
   "metadata": {},
   "outputs": [],
   "source": [
    "n = 5\n",
    "line = \"-15 -6 1 3 7\"\n",
    "# 출력 예시: 3\n"
   ]
  },
  {
   "cell_type": "code",
   "execution_count": null,
   "id": "2d2f0671",
   "metadata": {},
   "outputs": [],
   "source": [
    "n = 7\n",
    "line = \"-15 -4 2 8 9 13 15\"\n",
    "# 출력 예시: 2\n"
   ]
  },
  {
   "cell_type": "code",
   "execution_count": null,
   "id": "bdcd3048",
   "metadata": {},
   "outputs": [],
   "source": [
    "n = 7\n",
    "line = \"-15 -4 3 8 9 13 15\"\n",
    "# 출력 예시: -1\n"
   ]
  },
  {
   "cell_type": "markdown",
   "id": "460d2f91",
   "metadata": {},
   "source": [
    "**Solution**"
   ]
  },
  {
   "cell_type": "code",
   "execution_count": 3,
   "id": "0bf1d641",
   "metadata": {},
   "outputs": [
    {
     "name": "stdout",
     "output_type": "stream",
     "text": [
      "5\n",
      "-15 -6 1 3 7\n",
      "3\n"
     ]
    }
   ],
   "source": [
    "# 이진 탐색 소스코드 구현(재귀 함수)\n",
    "def binary_search(array, start, end):\n",
    "    if start > end:\n",
    "        return None\n",
    "    mid = (start + end) // 2\n",
    "    # 고정점을 찾은 경우 인덱스 반환\n",
    "    if array[mid] == mid:\n",
    "        return mid\n",
    "    # 중간점이 가리키는 값보다 중간점이 작은 경우 왼쪽 확인\n",
    "    elif array[mid] > mid:\n",
    "        return binary_search(array, start, mid - 1)\n",
    "    # 중간점이 가리키는 값보다 중간점이 큰 경우 오른쪽 확인\n",
    "    else:\n",
    "        return binary_search(array, mid + 1, end)\n",
    "\n",
    "n = int(input())\n",
    "array = list(map(int, input().split()))\n",
    "\n",
    "# 이진 탐색(Binary Search) 수행\n",
    "index = binary_search(array, 0, n - 1)\n",
    "\n",
    "# 고정점이 없는 경우 -1 출력\n",
    "if index == None:\n",
    "    print(-1)\n",
    "# 고정점이 있는 경우 해당 인덱스 출력\n",
    "else:\n",
    "    print(index)\n"
   ]
  }
 ],
 "metadata": {
  "kernelspec": {
   "display_name": "Python 3 (ipykernel)",
   "language": "python",
   "name": "python3"
  },
  "language_info": {
   "codemirror_mode": {
    "name": "ipython",
    "version": 3
   },
   "file_extension": ".py",
   "mimetype": "text/x-python",
   "name": "python",
   "nbconvert_exporter": "python",
   "pygments_lexer": "ipython3",
   "version": "3.9.6"
  }
 },
 "nbformat": 4,
 "nbformat_minor": 5
}
