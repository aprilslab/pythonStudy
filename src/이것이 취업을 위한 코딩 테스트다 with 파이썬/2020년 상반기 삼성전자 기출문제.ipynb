{
 "cells": [
  {
   "cell_type": "markdown",
   "id": "0152826c",
   "metadata": {},
   "source": [
    "## Q46. 아기 상어"
   ]
  },
  {
   "cell_type": "code",
   "execution_count": null,
   "id": "09b7dd4f",
   "metadata": {},
   "outputs": [],
   "source": [
    "def solution(n, lines):\n",
    "    result = 0\n",
    "    print(result)"
   ]
  },
  {
   "cell_type": "code",
   "execution_count": null,
   "id": "e66db330",
   "metadata": {},
   "outputs": [],
   "source": [
    "n = 3\n",
    "lines = [\n",
    "    \"0 0 0\",\n",
    "    \"0 0 0\",\n",
    "    \"0 9 0\" \n",
    "]\n",
    "solution(n, lines) # 출력 예시: 0"
   ]
  },
  {
   "cell_type": "code",
   "execution_count": null,
   "id": "229d4b5d",
   "metadata": {},
   "outputs": [],
   "source": [
    "n = 3\n",
    "lines = [\n",
    "    \"0 0 1\",\n",
    "    \"0 0 0\",\n",
    "    \"0 9 0\" \n",
    "]\n",
    "solution(n, lines) # 출력 예시: 3"
   ]
  },
  {
   "cell_type": "code",
   "execution_count": null,
   "id": "674daffe",
   "metadata": {},
   "outputs": [],
   "source": [
    "n = 4\n",
    "lines = [\n",
    "    \"4 3 2 1\",\n",
    "    \"0 0 0 0\",\n",
    "    \"0 0 9 0\",\n",
    "    \"1 2 3 4\"\n",
    "]\n",
    "solution(n, lines) # 출력 예시: 14"
   ]
  },
  {
   "cell_type": "markdown",
   "id": "eb0ac49a",
   "metadata": {},
   "source": [
    "**Solution**"
   ]
  },
  {
   "cell_type": "code",
   "execution_count": 1,
   "id": "4c47ce6a",
   "metadata": {},
   "outputs": [
    {
     "name": "stdout",
     "output_type": "stream",
     "text": [
      "3\n",
      "0 0 0\n",
      "0 0 0\n",
      "0 9 0\n",
      "0\n"
     ]
    }
   ],
   "source": [
    "from collections import deque\n",
    "INF = 1e9 # 무한을 의미하는 값으로 10억을 설정\n",
    "\n",
    "# 맵의 크기 N 입력\n",
    "n = int(input())\n",
    "\n",
    "# 전체 모든 칸에 대한 정보 입력\n",
    "array = []\n",
    "for i in range(n):\n",
    "    array.append(list(map(int, input().split())))\n",
    "\n",
    "# 아기 상어의 현재 크기 변수와 현재 위치 변수\n",
    "now_size = 2\n",
    "now_x, now_y = 0, 0\n",
    "\n",
    "# 아기 상어의 시작 위치를 찾은 뒤에 그 위치엔 아무것도 없다고 처리\n",
    "for i in range(n):\n",
    "    for j in range(n):\n",
    "        if array[i][j] == 9:\n",
    "            now_x, now_y = i, j\n",
    "            array[now_x][now_y] = 0\n",
    "\n",
    "dx = [-1, 0, 1, 0]\n",
    "dy = [0, 1, 0, -1]\n",
    "\n",
    "# 모든 위치까지의 '최단 거리만' 계산하는 BFS 함수\n",
    "def bfs():\n",
    "    # 값이 -1이라면 도달할 수 없다는 의미 (초기화)\n",
    "    dist = [[-1] * n for _ in range(n)]\n",
    "    # 시작 위치는 도달이 가능하다고 보며 거리는 0\n",
    "    q = deque([(now_x, now_y)])\n",
    "    dist[now_x][now_y] = 0\n",
    "    while q:\n",
    "        x, y = q.popleft()\n",
    "        for i in range(4):\n",
    "            nx = x + dx[i]\n",
    "            ny = y + dy[i]\n",
    "            if 0 <= nx and nx < n and 0 <= ny and ny < n:\n",
    "                # 자신의 크기보다 작거나 같은 경우에 지나갈 수 있음\n",
    "                if dist[nx][ny] == -1 and array[nx][ny] <= now_size:\n",
    "                    dist[nx][ny] = dist[x][y] + 1\n",
    "                    q.append((nx, ny))\n",
    "    # 모든 위치까지의 최단 거리 테이블 반환\n",
    "    return dist\n",
    "\n",
    "# 최단 거리 테이블이 주어졌을 때, 먹을 물고기를 찾는 함수\n",
    "def find(dist):\n",
    "    x, y = 0, 0\n",
    "    min_dist = INF\n",
    "    for i in range(n):\n",
    "        for j in range(n):\n",
    "            # 도달이 가능하면서 먹을 수 있는 물고기일 때\n",
    "            if dist[i][j] != -1 and 1 <= array[i][j] and array[i][j] < now_size:\n",
    "                # 가장 가까운 물고기 한 마리만 선택\n",
    "                if dist[i][j] < min_dist:\n",
    "                    x, y = i, j\n",
    "                    min_dist = dist[i][j]\n",
    "    if min_dist == INF: # 먹을 수 있는 물고기가 없는 경우\n",
    "        return None\n",
    "    else:\n",
    "        return x, y, min_dist # 먹을 물고기의 위치와 최단 거리\n",
    "\n",
    "result = 0 # 최종 답안\n",
    "ate = 0 # 현재 크기에서 먹은 양\n",
    "\n",
    "while True:\n",
    "    # 먹을 수 있는 물고기의 위치 찾기\n",
    "    value = find(bfs())\n",
    "    # 먹을 수 있는 물고기가 없는 경우, 현재까지 움직인 거리 출력\n",
    "    if value == None:\n",
    "        print(result)\n",
    "        break\n",
    "    else:\n",
    "        # 현재 위치 갱신 및 이동 거리 변경\n",
    "        now_x, now_y = value[0], value[1]\n",
    "        result += value[2]\n",
    "        # 먹은 위치에는 이제 아무것도 없도록 처리\n",
    "        array[now_x][now_y] = 0\n",
    "        ate += 1\n",
    "        # 자신의 현재 크기 이상으로 먹은 경우, 크기 증가\n",
    "        if ate >= now_size:\n",
    "            now_size += 1\n",
    "            ate = 0\n"
   ]
  },
  {
   "cell_type": "markdown",
   "id": "54554eaa",
   "metadata": {},
   "source": [
    "## Q47. 청소년 상어"
   ]
  },
  {
   "cell_type": "code",
   "execution_count": null,
   "id": "89a20113",
   "metadata": {},
   "outputs": [],
   "source": [
    "def solution(lines):\n",
    "    result = 0\n",
    "    print(result)"
   ]
  },
  {
   "cell_type": "code",
   "execution_count": null,
   "id": "5ce391df",
   "metadata": {},
   "outputs": [],
   "source": [
    "lines = [\n",
    "    \"7 6 2 3 15 6 9 8\",\n",
    "    \"3 1 1 8 14 7 10 1\",\n",
    "    \"6 1 13 6 4 3 11 4\",\n",
    "    \"16 1 8 7 5 2 12 2\"   \n",
    "]\n",
    "solution(lines) # 출력 예시: 33"
   ]
  },
  {
   "cell_type": "code",
   "execution_count": null,
   "id": "045eb0fa",
   "metadata": {},
   "outputs": [],
   "source": [
    "lines = [\n",
    "    \"16 7 1 4 4 3 12 8\",\n",
    "    \"14 7 7 6 3 4 10 2\",\n",
    "    \"5 2 15 2 8 3 6 4\",\n",
    "    \"11 8 2 4 13 5 9 4\"\n",
    "]\n",
    "solution(lines) # 출력 예시: 43"
   ]
  },
  {
   "cell_type": "code",
   "execution_count": null,
   "id": "c07bf643",
   "metadata": {},
   "outputs": [],
   "source": [
    "lines = [\n",
    "    \"12 6 14 5 4 5 6 7\",\n",
    "    \"15 1 11 7 3 7 7 5\",\n",
    "    \"10 3 8 3 16 6 1 1\",\n",
    "    \"5 8 2 7 13 6 9 2\"\n",
    "]\n",
    "solution(lines) # 출력 예시: 76"
   ]
  },
  {
   "cell_type": "markdown",
   "id": "d96cfb6b",
   "metadata": {},
   "source": [
    "**Solution**"
   ]
  },
  {
   "cell_type": "code",
   "execution_count": 1,
   "id": "2ec5bbbf",
   "metadata": {},
   "outputs": [
    {
     "name": "stdout",
     "output_type": "stream",
     "text": [
      "7 6 2 3 15 6 9 8\n",
      "3 1 1 8 14 7 10 1\n",
      "6 1 13 6 4 3 11 4\n",
      "16 1 8 7 5 2 12 2\n",
      "33\n"
     ]
    }
   ],
   "source": [
    "import copy\n",
    "\n",
    "# 4 X 4 크기 격자에 존재하는 각 물고기의 번호(없으면 -1)와 방향 값을 담는 테이블\n",
    "array = [[None] * 4 for _ in range(4)]\n",
    "\n",
    "for i in range(4):\n",
    "    data = list(map(int, input().split()))\n",
    "    # 매 줄마다 4마리의 물고기를 하나씩 확인하며\n",
    "    for j in range(4):\n",
    "        # 각 위치마다 [물고기의 번호, 방향]을 저장\n",
    "        array[i][j] = [data[j * 2], data[j * 2 + 1] - 1]\n",
    "\n",
    "# 8가지 방향에 대한 정의\n",
    "dx = [-1, -1, 0, 1, 1, 1, 0, -1]\n",
    "dy = [0, -1, -1, -1, 0, 1, 1, 1]\n",
    "\n",
    "# 현재 위치에서 왼쪽으로 회전된 결과 반환\n",
    "def turn_left(direction):\n",
    "    return (direction + 1) % 8\n",
    "\n",
    "result = 0 # 최종 결과\n",
    "\n",
    "# 현재 배열에서 특정한 번호의 물고기 위치 찾기\n",
    "def find_fish(array, index):\n",
    "    for i in range(4):\n",
    "        for j in range(4):\n",
    "            if array[i][j][0] == index:\n",
    "                return (i, j)\n",
    "    return None\n",
    "\n",
    "# 모든 물고기를 회전 및 이동시키는 함수\n",
    "def move_all_fishes(array, now_x, now_y):\n",
    "    # 1번부터 16번까지의 물고기를 차례대로 (낮은 번호부터) 확인\n",
    "    for i in range(1, 17):\n",
    "        # 해당 물고기의 위치를 찾기\n",
    "        position = find_fish(array, i)\n",
    "        if position != None:\n",
    "            x, y = position[0], position[1]\n",
    "            direction = array[x][y][1]\n",
    "            # 해당 물고기의 방향을 왼쪽으로 계속 회전시키며 이동이 가능한지 확인\n",
    "            for j in range(8):\n",
    "                nx = x + dx[direction]\n",
    "                ny = y + dy[direction]\n",
    "                # 해당 방향으로 이동이 가능하다면 이동 시키기\n",
    "                if 0 <= nx and nx < 4 and 0 <= ny and ny < 4:\n",
    "                    if not (nx == now_x and ny == now_y):\n",
    "                        array[x][y][1] = direction\n",
    "                        array[x][y], array[nx][ny] = array[nx][ny], array[x][y]\n",
    "                        break\n",
    "                direction = turn_left(direction)\n",
    "        \n",
    "# 상어가 현재 위치에서 먹을 수 있는 모든 물고기의 위치 반환\n",
    "def get_possible_positions(array, now_x, now_y):\n",
    "    positions = []\n",
    "    direction = array[now_x][now_y][1]\n",
    "    # 현재의 방향으로 쭉 이동하기\n",
    "    for i in range(4):\n",
    "        now_x += dx[direction]\n",
    "        now_y += dy[direction]\n",
    "        # 범위를 벗어나지 않는지 확인하며\n",
    "        if 0 <= now_x and now_x < 4 and 0 <= now_y and now_y < 4:\n",
    "            # 물고기가 존재하는 경우\n",
    "            if array[now_x][now_y][0] != -1:\n",
    "                positions.append((now_x, now_y))\n",
    "    return positions\n",
    "\n",
    "# 모든 경우를 탐색하기 위한 DFS 함수\n",
    "def dfs(array, now_x, now_y, total):\n",
    "    global result\n",
    "    array = copy.deepcopy(array) # 리스트를 통째로 복사\n",
    "    \n",
    "    total += array[now_x][now_y][0] # 현재 위치의 물고기 먹기\n",
    "    array[now_x][now_y][0] = -1 # 물고기를 먹었으므로 번호 값을 -1로 변환\n",
    "    \n",
    "    move_all_fishes(array, now_x, now_y) # 전체 물고기 이동 시키기\n",
    "\n",
    "    # 이제 다시 상어가 이동할 차례이므로, 이동 가능한 위치 찾기\n",
    "    positions = get_possible_positions(array, now_x, now_y)\n",
    "    # 이동할 수 있는 위치가 하나도 없다면 종료\n",
    "    if len(positions) == 0:\n",
    "        result = max(result, total) # 최댓값 저장\n",
    "        return \n",
    "    # 모든 이동할 수 있는 위치로 재귀적으로 수행\n",
    "    for next_x, next_y in positions:\n",
    "        dfs(array, next_x, next_y, total)\n",
    "\n",
    "# 청소년 상어의 시작 위치(0, 0)에서부터 재귀적으로 모든 경우 탐색\n",
    "dfs(array, 0, 0, 0)\n",
    "print(result)\n"
   ]
  },
  {
   "cell_type": "code",
   "execution_count": null,
   "id": "6b9e5bb8",
   "metadata": {},
   "outputs": [],
   "source": []
  }
 ],
 "metadata": {
  "kernelspec": {
   "display_name": "Python 3 (ipykernel)",
   "language": "python",
   "name": "python3"
  },
  "language_info": {
   "codemirror_mode": {
    "name": "ipython",
    "version": 3
   },
   "file_extension": ".py",
   "mimetype": "text/x-python",
   "name": "python",
   "nbconvert_exporter": "python",
   "pygments_lexer": "ipython3",
   "version": "3.9.6"
  }
 },
 "nbformat": 4,
 "nbformat_minor": 5
}
