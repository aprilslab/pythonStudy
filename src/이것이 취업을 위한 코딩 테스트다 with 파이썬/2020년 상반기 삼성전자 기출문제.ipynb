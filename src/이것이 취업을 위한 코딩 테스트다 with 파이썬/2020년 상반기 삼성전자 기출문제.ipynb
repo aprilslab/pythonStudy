{
 "cells": [
  {
   "cell_type": "markdown",
   "id": "0152826c",
   "metadata": {},
   "source": [
    "## Q46. 아기 상어"
   ]
  },
  {
   "cell_type": "code",
   "execution_count": null,
   "id": "09b7dd4f",
   "metadata": {},
   "outputs": [],
   "source": [
    "def solution(n, lines):\n",
    "    result = 0\n",
    "    print(result)"
   ]
  },
  {
   "cell_type": "code",
   "execution_count": null,
   "id": "e66db330",
   "metadata": {},
   "outputs": [],
   "source": [
    "n = 3\n",
    "lines = [\n",
    "    \"0 0 0\",\n",
    "    \"0 0 0\",\n",
    "    \"0 9 0\" \n",
    "]\n",
    "solution(n, lines) # 출력 예시: 0"
   ]
  },
  {
   "cell_type": "code",
   "execution_count": null,
   "id": "229d4b5d",
   "metadata": {},
   "outputs": [],
   "source": [
    "n = 3\n",
    "lines = [\n",
    "    \"0 0 1\",\n",
    "    \"0 0 0\",\n",
    "    \"0 9 0\" \n",
    "]\n",
    "solution(n, lines) # 출력 예시: 3"
   ]
  },
  {
   "cell_type": "code",
   "execution_count": null,
   "id": "674daffe",
   "metadata": {},
   "outputs": [],
   "source": [
    "n = 4\n",
    "lines = [\n",
    "    \"4 3 2 1\",\n",
    "    \"0 0 0 0\",\n",
    "    \"0 0 9 0\",\n",
    "    \"1 2 3 4\"\n",
    "]\n",
    "solution(n, lines) # 출력 예시: 14"
   ]
  },
  {
   "cell_type": "markdown",
   "id": "eb0ac49a",
   "metadata": {},
   "source": [
    "**Solution**"
   ]
  },
  {
   "cell_type": "code",
   "execution_count": 1,
   "id": "4c47ce6a",
   "metadata": {},
   "outputs": [
    {
     "name": "stdout",
     "output_type": "stream",
     "text": [
      "3\n",
      "0 0 0\n",
      "0 0 0\n",
      "0 9 0\n",
      "0\n"
     ]
    }
   ],
   "source": [
    "from collections import deque\n",
    "INF = 1e9 # 무한을 의미하는 값으로 10억을 설정\n",
    "\n",
    "# 맵의 크기 N 입력\n",
    "n = int(input())\n",
    "\n",
    "# 전체 모든 칸에 대한 정보 입력\n",
    "array = []\n",
    "for i in range(n):\n",
    "    array.append(list(map(int, input().split())))\n",
    "\n",
    "# 아기 상어의 현재 크기 변수와 현재 위치 변수\n",
    "now_size = 2\n",
    "now_x, now_y = 0, 0\n",
    "\n",
    "# 아기 상어의 시작 위치를 찾은 뒤에 그 위치엔 아무것도 없다고 처리\n",
    "for i in range(n):\n",
    "    for j in range(n):\n",
    "        if array[i][j] == 9:\n",
    "            now_x, now_y = i, j\n",
    "            array[now_x][now_y] = 0\n",
    "\n",
    "dx = [-1, 0, 1, 0]\n",
    "dy = [0, 1, 0, -1]\n",
    "\n",
    "# 모든 위치까지의 '최단 거리만' 계산하는 BFS 함수\n",
    "def bfs():\n",
    "    # 값이 -1이라면 도달할 수 없다는 의미 (초기화)\n",
    "    dist = [[-1] * n for _ in range(n)]\n",
    "    # 시작 위치는 도달이 가능하다고 보며 거리는 0\n",
    "    q = deque([(now_x, now_y)])\n",
    "    dist[now_x][now_y] = 0\n",
    "    while q:\n",
    "        x, y = q.popleft()\n",
    "        for i in range(4):\n",
    "            nx = x + dx[i]\n",
    "            ny = y + dy[i]\n",
    "            if 0 <= nx and nx < n and 0 <= ny and ny < n:\n",
    "                # 자신의 크기보다 작거나 같은 경우에 지나갈 수 있음\n",
    "                if dist[nx][ny] == -1 and array[nx][ny] <= now_size:\n",
    "                    dist[nx][ny] = dist[x][y] + 1\n",
    "                    q.append((nx, ny))\n",
    "    # 모든 위치까지의 최단 거리 테이블 반환\n",
    "    return dist\n",
    "\n",
    "# 최단 거리 테이블이 주어졌을 때, 먹을 물고기를 찾는 함수\n",
    "def find(dist):\n",
    "    x, y = 0, 0\n",
    "    min_dist = INF\n",
    "    for i in range(n):\n",
    "        for j in range(n):\n",
    "            # 도달이 가능하면서 먹을 수 있는 물고기일 때\n",
    "            if dist[i][j] != -1 and 1 <= array[i][j] and array[i][j] < now_size:\n",
    "                # 가장 가까운 물고기 한 마리만 선택\n",
    "                if dist[i][j] < min_dist:\n",
    "                    x, y = i, j\n",
    "                    min_dist = dist[i][j]\n",
    "    if min_dist == INF: # 먹을 수 있는 물고기가 없는 경우\n",
    "        return None\n",
    "    else:\n",
    "        return x, y, min_dist # 먹을 물고기의 위치와 최단 거리\n",
    "\n",
    "result = 0 # 최종 답안\n",
    "ate = 0 # 현재 크기에서 먹은 양\n",
    "\n",
    "while True:\n",
    "    # 먹을 수 있는 물고기의 위치 찾기\n",
    "    value = find(bfs())\n",
    "    # 먹을 수 있는 물고기가 없는 경우, 현재까지 움직인 거리 출력\n",
    "    if value == None:\n",
    "        print(result)\n",
    "        break\n",
    "    else:\n",
    "        # 현재 위치 갱신 및 이동 거리 변경\n",
    "        now_x, now_y = value[0], value[1]\n",
    "        result += value[2]\n",
    "        # 먹은 위치에는 이제 아무것도 없도록 처리\n",
    "        array[now_x][now_y] = 0\n",
    "        ate += 1\n",
    "        # 자신의 현재 크기 이상으로 먹은 경우, 크기 증가\n",
    "        if ate >= now_size:\n",
    "            now_size += 1\n",
    "            ate = 0\n"
   ]
  },
  {
   "cell_type": "code",
   "execution_count": null,
   "id": "e13e88c6",
   "metadata": {},
   "outputs": [],
   "source": []
  }
 ],
 "metadata": {
  "kernelspec": {
   "display_name": "Python 3 (ipykernel)",
   "language": "python",
   "name": "python3"
  },
  "language_info": {
   "codemirror_mode": {
    "name": "ipython",
    "version": 3
   },
   "file_extension": ".py",
   "mimetype": "text/x-python",
   "name": "python",
   "nbconvert_exporter": "python",
   "pygments_lexer": "ipython3",
   "version": "3.9.6"
  }
 },
 "nbformat": 4,
 "nbformat_minor": 5
}
