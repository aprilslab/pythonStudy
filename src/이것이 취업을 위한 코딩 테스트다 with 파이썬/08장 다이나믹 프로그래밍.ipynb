{
 "cells": [
  {
   "cell_type": "markdown",
   "id": "0a611b18",
   "metadata": {},
   "source": [
    "## 비효율적인 피보나치 수열 구현"
   ]
  },
  {
   "cell_type": "code",
   "execution_count": null,
   "id": "6cd1d863",
   "metadata": {},
   "outputs": [],
   "source": []
  },
  {
   "cell_type": "markdown",
   "id": "c11b9ea3",
   "metadata": {},
   "source": [
    "**Solution**"
   ]
  },
  {
   "cell_type": "code",
   "execution_count": 1,
   "id": "43b60b10",
   "metadata": {},
   "outputs": [
    {
     "name": "stdout",
     "output_type": "stream",
     "text": [
      "3\n"
     ]
    }
   ],
   "source": [
    "# 피보나치 함수(Fibonacci Function)을 재귀함수로 구현\n",
    "def fibo(x):\n",
    "    if x == 1 or x == 2:\n",
    "        return 1\n",
    "    return fibo(x - 1) + fibo(x - 2)\n",
    "\n",
    "print(fibo(4))\n"
   ]
  },
  {
   "cell_type": "markdown",
   "id": "08f3fa8c",
   "metadata": {},
   "source": [
    "## 피보나치 수열 (Top-bottom)\n",
    "재귀적"
   ]
  },
  {
   "cell_type": "code",
   "execution_count": null,
   "id": "25127f05",
   "metadata": {},
   "outputs": [],
   "source": [
    "# 한 번 계산된 결과를 메모이제이션(Memoization)하기 위한 리스트 초기화\n",
    "d = [0] * 100\n",
    "\n",
    "# 피보나치 함수(Fibonacci Function)를 재귀함수로 구현 (탑다운 다이나믹 프로그래밍)\n"
   ]
  },
  {
   "cell_type": "markdown",
   "id": "65e7db30",
   "metadata": {},
   "source": [
    "**Solution**"
   ]
  },
  {
   "cell_type": "code",
   "execution_count": 2,
   "id": "a7a8d0b3",
   "metadata": {},
   "outputs": [
    {
     "name": "stdout",
     "output_type": "stream",
     "text": [
      "218922995834555169026\n"
     ]
    }
   ],
   "source": [
    "# 한 번 계산된 결과를 메모이제이션(Memoization)하기 위한 리스트 초기화\n",
    "d = [0] * 100\n",
    "\n",
    "# 피보나치 함수(Fibonacci Function)를 재귀함수로 구현 (탑다운 다이나믹 프로그래밍)\n",
    "def fibo(x):\n",
    "    # 종료 조건(1 혹은 2일 때 1을 반환)\n",
    "    if x == 1 or x == 2:\n",
    "        return 1\n",
    "    # 이미 계산한 적 있는 문제라면 그대로 반환\n",
    "    if d[x] != 0:\n",
    "        return d[x]\n",
    "    # 아직 계산하지 않은 문제라면 점화식에 따라서 피보나치 결과 반환\n",
    "    d[x] = fibo(x - 1) + fibo(x - 2)\n",
    "    return d[x]\n",
    "\n",
    "print(fibo(99))\n"
   ]
  },
  {
   "cell_type": "code",
   "execution_count": 3,
   "id": "995c92e1",
   "metadata": {},
   "outputs": [
    {
     "name": "stdout",
     "output_type": "stream",
     "text": [
      "f(6) f(5) f(4) f(3) f(2) f(1) f(2) f(3) f(4) "
     ]
    },
    {
     "data": {
      "text/plain": [
       "8"
      ]
     },
     "execution_count": 3,
     "metadata": {},
     "output_type": "execute_result"
    }
   ],
   "source": [
    "d = [0] * 100\n",
    "\n",
    "def fibo(x):\n",
    "    print('f(' + str(x) + ')', end=' ')\n",
    "    if x == 1 or x == 2:\n",
    "        return 1\n",
    "    if d[x] != 0:\n",
    "        return d[x]\n",
    "    d[x] = fibo(x - 1) + fibo(x - 2)\n",
    "    return d[x]\n",
    "\n",
    "fibo(6)\n"
   ]
  },
  {
   "cell_type": "markdown",
   "id": "c8302eda",
   "metadata": {},
   "source": [
    "## 피보나치 수열 (Bottom-top)\n",
    "반복문"
   ]
  },
  {
   "cell_type": "code",
   "execution_count": null,
   "id": "d462cdf7",
   "metadata": {},
   "outputs": [],
   "source": [
    "# 앞서 계산된 결과를 저장하기 위한 DP 테이블 초기화\n",
    "d = [0] * 100\n",
    "\n",
    "# 첫 번째 피보나치 수와 두 번째 피보나치 수는 1\n",
    "d[1] = 1\n",
    "d[2] = 1\n",
    "n = 99\n",
    "\n",
    "# 피보나치 함수(Fibonacci Function) 반복문으로 구현(보텀업 다이나믹 프로그래밍)\n"
   ]
  },
  {
   "cell_type": "markdown",
   "id": "4f3fa379",
   "metadata": {},
   "source": [
    "**Solution**"
   ]
  },
  {
   "cell_type": "code",
   "execution_count": 4,
   "id": "d7835a5d",
   "metadata": {},
   "outputs": [
    {
     "name": "stdout",
     "output_type": "stream",
     "text": [
      "218922995834555169026\n"
     ]
    }
   ],
   "source": [
    "# 앞서 계산된 결과를 저장하기 위한 DP 테이블 초기화\n",
    "d = [0] * 100\n",
    "\n",
    "# 첫 번째 피보나치 수와 두 번째 피보나치 수는 1\n",
    "d[1] = 1\n",
    "d[2] = 1\n",
    "n = 99\n",
    "\n",
    "# 피보나치 함수(Fibonacci Function) 반복문으로 구현(보텀업 다이나믹 프로그래밍)\n",
    "for i in range(3, n + 1):\n",
    "    d[i] = d[i - 1] + d[i - 2]\n",
    "\n",
    "print(d[n])\n"
   ]
  },
  {
   "cell_type": "markdown",
   "id": "c40f5a32",
   "metadata": {},
   "source": [
    "---\n",
    "## 1로 만들기"
   ]
  },
  {
   "cell_type": "code",
   "execution_count": null,
   "id": "fc178637",
   "metadata": {},
   "outputs": [],
   "source": [
    "x = 26\n",
    "\n",
    "# 앞서 계산된 결과를 저장하기 위한 DP 테이블 초기화\n",
    "d = [0] * 1000001\n",
    "\n",
    "# 다이나믹 프로그래밍(Dynamic Programming) 진행(보텀업)\n",
    "\n",
    "\n",
    "\n",
    "print(d[x])"
   ]
  },
  {
   "cell_type": "markdown",
   "id": "874c2250",
   "metadata": {},
   "source": [
    "**Solution**"
   ]
  },
  {
   "cell_type": "code",
   "execution_count": 5,
   "id": "3f592d4c",
   "metadata": {},
   "outputs": [
    {
     "name": "stdout",
     "output_type": "stream",
     "text": [
      "26\n",
      "3\n"
     ]
    }
   ],
   "source": [
    "# 정수 X를 입력 받기\n",
    "x = int(input())\n",
    "\n",
    "# 앞서 계산된 결과를 저장하기 위한 DP 테이블 초기화\n",
    "d = [0] * 1000001\n",
    "\n",
    "# 다이나믹 프로그래밍(Dynamic Programming) 진행(보텀업)\n",
    "for i in range(2, x + 1):\n",
    "    # 현재의 수에서 1을 빼는 경우\n",
    "    d[i] = d[i - 1] + 1\n",
    "    # 현재의 수가 2로 나누어 떨어지는 경우\n",
    "    if i % 2 == 0:\n",
    "        d[i] = min(d[i], d[i // 2] + 1)\n",
    "    # 현재의 수가 3으로 나누어 떨어지는 경우\n",
    "    if i % 3 == 0:\n",
    "        d[i] = min(d[i], d[i // 3] + 1)\n",
    "    # 현재의 수가 5로 나누어 떨어지는 경우\n",
    "    if i % 5 == 0:\n",
    "        d[i] = min(d[i], d[i // 5] + 1)\n",
    "\n",
    "print(d[x])\n",
    "\n",
    "# 입력 예시\n",
    "# 26\n",
    "\n",
    "# 출력 예시\n",
    "# 3"
   ]
  },
  {
   "cell_type": "markdown",
   "id": "4821618f",
   "metadata": {},
   "source": [
    "## 개미 전사"
   ]
  },
  {
   "cell_type": "code",
   "execution_count": null,
   "id": "b827e8a8",
   "metadata": {},
   "outputs": [],
   "source": [
    "n = 4\n",
    "array = [1, 3, 1, 5]\n",
    "\n",
    "# 앞서 계산된 결과를 저장하기 위한 DP 테이블 초기화\n",
    "d = [0] * 100\n",
    "\n",
    "# 다이나믹 프로그래밍(Dynamic Programming) 진행 (보텀업)\n",
    "\n",
    "\n",
    "\n",
    "# 계산된 결과 출력\n",
    "print(d[n - 1])"
   ]
  },
  {
   "cell_type": "markdown",
   "id": "a8ca7a91",
   "metadata": {},
   "source": [
    "**Solution**"
   ]
  },
  {
   "cell_type": "code",
   "execution_count": 6,
   "id": "1ef86cd3",
   "metadata": {},
   "outputs": [
    {
     "name": "stdout",
     "output_type": "stream",
     "text": [
      "4\n",
      "1 3 1 5\n",
      "8\n"
     ]
    }
   ],
   "source": [
    "# 정수 N을 입력 받기\n",
    "n = int(input())\n",
    "# 모든 식량 정보 입력 받기\n",
    "array = list(map(int, input().split()))\n",
    "\n",
    "# 앞서 계산된 결과를 저장하기 위한 DP 테이블 초기화\n",
    "d = [0] * 100\n",
    "\n",
    "# 다이나믹 프로그래밍(Dynamic Programming) 진행 (보텀업)\n",
    "d[0] = array[0]\n",
    "d[1] = max(array[0], array[1]) \n",
    "for i in range(2, n):\n",
    "    d[i] = max(d[i - 1], d[i - 2] + array[i])\n",
    "\n",
    "# 계산된 결과 출력\n",
    "print(d[n - 1])\n",
    "\n",
    "# 입력 예시\n",
    "# 4\n",
    "# 1 3 1 5\n",
    "\n",
    "# 출력 예시\n",
    "# 8"
   ]
  },
  {
   "cell_type": "markdown",
   "id": "3e9c8c3e",
   "metadata": {},
   "source": [
    "## 바닥 공사"
   ]
  },
  {
   "cell_type": "code",
   "execution_count": null,
   "id": "8b97bf47",
   "metadata": {},
   "outputs": [],
   "source": [
    "n = 3\n",
    "\n",
    "# 앞서 계산된 결과를 저장하기 위한 DP 테이블 초기화\n",
    "d = [0] * 1001\n",
    "\n",
    "# 다이나믹 프로그래밍(Dynamic Programming) 진행 (보텀업)\n",
    "\n",
    "\n",
    "\n",
    "# 계산된 결과 출력\n",
    "print(d[n])"
   ]
  },
  {
   "cell_type": "markdown",
   "id": "6b9cda2b",
   "metadata": {},
   "source": [
    "**Solution**"
   ]
  },
  {
   "cell_type": "code",
   "execution_count": 7,
   "id": "76cd74e0",
   "metadata": {},
   "outputs": [
    {
     "name": "stdout",
     "output_type": "stream",
     "text": [
      "3\n",
      "5\n"
     ]
    }
   ],
   "source": [
    "# 정수 N을 입력 받기\n",
    "n = int(input())\n",
    "\n",
    "# 앞서 계산된 결과를 저장하기 위한 DP 테이블 초기화\n",
    "d = [0] * 1001\n",
    "\n",
    "# 다이나믹 프로그래밍(Dynamic Programming) 진행 (보텀업)\n",
    "d[1] = 1\n",
    "d[2] = 3\n",
    "for i in range(3, n + 1):\n",
    "    d[i] = (d[i - 1] + 2 * d[i - 2]) % 796796\n",
    "\n",
    "# 계산된 결과 출력\n",
    "print(d[n])\n"
   ]
  },
  {
   "cell_type": "markdown",
   "id": "6823d013",
   "metadata": {},
   "source": [
    "## 효율적인 화폐 구성"
   ]
  },
  {
   "cell_type": "code",
   "execution_count": null,
   "id": "799ccd70",
   "metadata": {},
   "outputs": [],
   "source": [
    "n, m = 2, 15\n",
    "array = [2, 3]"
   ]
  },
  {
   "cell_type": "code",
   "execution_count": null,
   "id": "4c38d3b5",
   "metadata": {},
   "outputs": [],
   "source": [
    "n, m = 3, 4\n",
    "array = [3, 5, 7]"
   ]
  },
  {
   "cell_type": "code",
   "execution_count": null,
   "id": "729a04d8",
   "metadata": {},
   "outputs": [],
   "source": []
  },
  {
   "cell_type": "markdown",
   "id": "3bc154e9",
   "metadata": {},
   "source": [
    "**Solution**"
   ]
  },
  {
   "cell_type": "code",
   "execution_count": 8,
   "id": "dc1747ba",
   "metadata": {},
   "outputs": [
    {
     "name": "stdout",
     "output_type": "stream",
     "text": [
      "2 15\n",
      "2\n",
      "3\n",
      "5\n"
     ]
    }
   ],
   "source": [
    "# 정수 N, M을 입력 받기\n",
    "n, m = map(int, input().split())\n",
    "# N개의 화폐 단위 정보를 입력 받기\n",
    "array = []\n",
    "for i in range(n):\n",
    "    array.append(int(input()))\n",
    "\n",
    "# 한 번 계산된 결과를 저장하기 위한 DP 테이블 초기화\n",
    "d = [10001] * (m + 1)\n",
    "\n",
    "# 다이나믹 프로그래밍(Dynamic Programming) 진행(보텀업)\n",
    "d[0] = 0\n",
    "for i in range(n):\n",
    "    for j in range(array[i], m + 1):\n",
    "        if d[j - array[i]] != 10001: # (i - k)원을 만드는 방법이 존재하는 경우\n",
    "            d[j] = min(d[j], d[j - array[i]] + 1)\n",
    "\n",
    "# 계산된 결과 출력\n",
    "if d[m] == 10001: # 최종적으로 M원을 만드는 방법이 없는 경우\n",
    "    print(-1)\n",
    "else:\n",
    "    print(d[m])\n",
    "\n",
    "# 입력 예시1\n",
    "# 2 15\n",
    "# 2\n",
    "# 3\n",
    "#\n",
    "# 출력 예시1\n",
    "# 5\n",
    "\n",
    "# 입력 예시2\n",
    "# 3 4\n",
    "# 3\n",
    "# 5\n",
    "# 7\n",
    "#\n",
    "# 출력 예시2\n",
    "# -1"
   ]
  },
  {
   "cell_type": "markdown",
   "id": "bdb0d65a",
   "metadata": {},
   "source": [
    "---\n",
    "## Q31. 금광"
   ]
  },
  {
   "cell_type": "code",
   "execution_count": null,
   "id": "bd26b73f",
   "metadata": {},
   "outputs": [],
   "source": [
    "line1 = [\"3 4\", \"1 3 3 2 2 1 4 1 0 6 4 7\"] #출력 예시: 19\n",
    "line2 = [\"4 4\", \"1 3 1 5 2 2 4 1 5 0 2 3 0 6 1 2\"] #출력 예시: 16\n",
    "\n",
    "for line in [line1, line2]:\n",
    "    n, m = map(int, line[0].split())\n",
    "    array = list(map(int, line[1].split()))\n",
    "    "
   ]
  },
  {
   "cell_type": "markdown",
   "id": "ee880aac",
   "metadata": {},
   "source": [
    "**Solution**"
   ]
  },
  {
   "cell_type": "code",
   "execution_count": 1,
   "id": "6d08a7c3",
   "metadata": {},
   "outputs": [
    {
     "name": "stdout",
     "output_type": "stream",
     "text": [
      "2\n",
      "3 4\n",
      "1 3 3 2 2 1 4 1 0 6 4 7\n",
      "19\n",
      "4 4\n",
      "1 3 1 5 2 2 4 1 5 0 2 3 0 6 1 2\n",
      "16\n"
     ]
    }
   ],
   "source": [
    "# 테스트 케이스(Test Case) 입력\n",
    "for tc in range(int(input())):\n",
    "    # 금광 정보 입력\n",
    "    n, m = map(int, input().split())\n",
    "    array = list(map(int, input().split()))\n",
    "\n",
    "    # 다이나믹 프로그래밍을 위한 2차원 DP 테이블 초기화\n",
    "    dp = []\n",
    "    index = 0\n",
    "    for i in range(n):\n",
    "        dp.append(array[index:index + m])\n",
    "        index += m\n",
    "\n",
    "    # 다이나믹 프로그래밍 진행\n",
    "    for j in range(1, m):\n",
    "        for i in range(n):\n",
    "            # 왼쪽 위에서 오는 경우\n",
    "            if i == 0:\n",
    "                left_up = 0\n",
    "            else:\n",
    "                left_up = dp[i - 1][j - 1]\n",
    "            # 왼쪽 아래에서 오는 경우\n",
    "            if i == n - 1:\n",
    "                left_down = 0\n",
    "            else:\n",
    "                left_down = dp[i + 1][j - 1]\n",
    "            # 왼쪽에서 오는 경우\n",
    "            left = dp[i][j - 1]\n",
    "            dp[i][j] = dp[i][j] + max(left_up, left_down, left)\n",
    "\n",
    "    result = 0\n",
    "    for i in range(n):\n",
    "        result = max(result, dp[i][m - 1])\n",
    "\n",
    "    print(result)\n"
   ]
  },
  {
   "cell_type": "markdown",
   "id": "1094c6b8",
   "metadata": {},
   "source": [
    "## Q32. 정수 삼각형"
   ]
  },
  {
   "cell_type": "code",
   "execution_count": null,
   "id": "2d04302d",
   "metadata": {},
   "outputs": [],
   "source": [
    "n = 5\n",
    "lines = [\n",
    "    \"7\",\n",
    "    \"3 8\",\n",
    "    \"8 1 0\",\n",
    "    \"2 7 4 4\",\n",
    "    \"4 5 2 6 5\"\n",
    "]\n",
    "#출력 예시: 30\n"
   ]
  },
  {
   "cell_type": "markdown",
   "id": "c152bcb0",
   "metadata": {},
   "source": [
    "**Solution**"
   ]
  },
  {
   "cell_type": "code",
   "execution_count": 2,
   "id": "e6dcf2e9",
   "metadata": {},
   "outputs": [
    {
     "name": "stdout",
     "output_type": "stream",
     "text": [
      "5\n",
      "7\n",
      "3 8\n",
      "8 1 0\n",
      "2 7 4 4\n",
      "4 5 2 6 5\n",
      "30\n"
     ]
    }
   ],
   "source": [
    "n = int(input())\n",
    "dp = [] # 다이나믹 프로그래밍을 위한 DP 테이블 초기화\n",
    "\n",
    "for _ in range(n):\n",
    "    dp.append(list(map(int, input().split())))\n",
    "\n",
    "# 다이나믹 프로그래밍으로 2번째 줄부터 내려가면서 확인\n",
    "for i in range(1, n):\n",
    "    for j in range(i + 1):\n",
    "        # 왼쪽 위에서 내려오는 경우\n",
    "        if j == 0:\n",
    "            up_left = 0\n",
    "        else:\n",
    "            up_left = dp[i - 1][j - 1]\n",
    "        # 바로 위에서 내려오는 경우\n",
    "        if j == i:\n",
    "            up = 0\n",
    "        else:\n",
    "            up = dp[i - 1][j]\n",
    "        # 최대 합을 저장\n",
    "        dp[i][j] = dp[i][j] + max(up_left, up)\n",
    "\n",
    "print(max(dp[n - 1]))\n"
   ]
  },
  {
   "cell_type": "markdown",
   "id": "ff02230d",
   "metadata": {},
   "source": [
    "## Q33. 퇴사"
   ]
  },
  {
   "cell_type": "code",
   "execution_count": null,
   "id": "7a70369b",
   "metadata": {},
   "outputs": [],
   "source": []
  },
  {
   "cell_type": "code",
   "execution_count": null,
   "id": "96ae3b40",
   "metadata": {},
   "outputs": [],
   "source": [
    "n = 7\n",
    "lines = [\n",
    "    \"3 10\",\n",
    "    \"5 20\",\n",
    "    \"1 10\",\n",
    "    \"1 20\",\n",
    "    \"2 15\",\n",
    "    \"4 40\",\n",
    "    \"2 200\"\n",
    "]\n",
    "# 출력 예시: 45\n"
   ]
  },
  {
   "cell_type": "code",
   "execution_count": null,
   "id": "c360b507",
   "metadata": {},
   "outputs": [],
   "source": [
    "n = 10\n",
    "lines = [\n",
    "    \"1 1\",\n",
    "    \"1 2\",\n",
    "    \"1 3\",\n",
    "    \"1 4\",\n",
    "    \"1 5\",\n",
    "    \"1 6\",\n",
    "    \"1 7\",\n",
    "    \"1 8\",\n",
    "    \"1 9\",\n",
    "    \"1 10\"\n",
    "]\n",
    "# 출력 예시: 55\n"
   ]
  },
  {
   "cell_type": "code",
   "execution_count": null,
   "id": "fb15c295",
   "metadata": {},
   "outputs": [],
   "source": [
    "n = 10\n",
    "lines = [\n",
    "    \"5 10\",\n",
    "    \"5 9\",\n",
    "    \"5 8\",\n",
    "    \"5 7\",\n",
    "    \"5 6\",\n",
    "    \"5 10\",\n",
    "    \"5 9\",\n",
    "    \"5 8\",\n",
    "    \"5 7\",\n",
    "    \"5 6\"\n",
    "]\n",
    "# 출력 예시: 20\n"
   ]
  },
  {
   "cell_type": "code",
   "execution_count": null,
   "id": "01e27357",
   "metadata": {},
   "outputs": [],
   "source": [
    "n = 10\n",
    "lines = [\n",
    "    \"5 50\",\n",
    "    \"4 40\",\n",
    "    \"3 30\",\n",
    "    \"2 20\",\n",
    "    \"1 10\",\n",
    "    \"1 10\",\n",
    "    \"2 20\",\n",
    "    \"3 30\",\n",
    "    \"4 40\",\n",
    "    \"5 50\"\n",
    "]\n",
    "# 출력 예시: 90\n"
   ]
  },
  {
   "cell_type": "markdown",
   "id": "0cf8157c",
   "metadata": {},
   "source": [
    "**Solution**"
   ]
  },
  {
   "cell_type": "code",
   "execution_count": 1,
   "id": "436e845b",
   "metadata": {},
   "outputs": [
    {
     "name": "stdout",
     "output_type": "stream",
     "text": [
      "7\n",
      "3 10\n",
      "5 20\n",
      "1 10\n",
      "1 20\n",
      "2 15\n",
      "4 40\n",
      "2 200\n",
      "45\n"
     ]
    }
   ],
   "source": [
    "n = int(input()) # 전체 상담 개수\n",
    "t = [] # 각 상담을 완료하는데 걸리는 기간\n",
    "p = [] # 각 상담을 완료했을 때 받을 수 있는 금액\n",
    "dp = [0] * (n + 1) # 다이나믹 프로그래밍을 위한 1차원 DP 테이블 초기화\n",
    "max_value = 0\n",
    "\n",
    "for _ in range(n):\n",
    "    x, y = map(int, input().split())\n",
    "    t.append(x)\n",
    "    p.append(y)\n",
    "\n",
    "# 리스트를 뒤에서부터 거꾸로 확인\n",
    "for i in range(n - 1, -1, -1):\n",
    "    time = t[i] + i\n",
    "    # 상담이 기간 안에 끝나는 경우\n",
    "    if time <= n:\n",
    "        # 점화식에 맞게, 현재까지의 최고 이익 계산\n",
    "        dp[i] = max(p[i] + dp[time], max_value)\n",
    "        max_value = dp[i]\n",
    "    # 상담이 기간을 벗어나는 경우\n",
    "    else:\n",
    "        dp[i] = max_value\n",
    "\n",
    "print(max_value)\n"
   ]
  },
  {
   "cell_type": "markdown",
   "id": "f459b51f",
   "metadata": {},
   "source": [
    "## Q34. 병사 배치하기"
   ]
  },
  {
   "cell_type": "code",
   "execution_count": null,
   "id": "68ffc8ef",
   "metadata": {},
   "outputs": [],
   "source": [
    "n = 7\n",
    "line = \"15 11 4 8 5 2 4\"\n",
    "#출력 예시: 2\n"
   ]
  },
  {
   "cell_type": "markdown",
   "id": "028fe7e5",
   "metadata": {},
   "source": [
    "**Solution**"
   ]
  },
  {
   "cell_type": "code",
   "execution_count": 1,
   "id": "f9c30c41",
   "metadata": {},
   "outputs": [
    {
     "name": "stdout",
     "output_type": "stream",
     "text": [
      "7\n",
      "15 11 4 8 5 2 4\n",
      "2\n"
     ]
    }
   ],
   "source": [
    "n = int(input())\n",
    "array = list(map(int, input().split()))\n",
    "# 순서를 뒤집어 '최장 증가 부분 수열' 문제로 변환\n",
    "array.reverse()\n",
    "\n",
    "# 다이나믹 프로그래밍을 위한 1차원 DP 테이블 초기화\n",
    "dp = [1] * n\n",
    "\n",
    "# 가장 긴 증가하는 부분 수열(LIS) 알고리즘 수행\n",
    "for i in range(1, n):\n",
    "    for j in range(0, i):\n",
    "        if array[j] < array[i]:\n",
    "            dp[i] = max(dp[i], dp[j] + 1)\n",
    "\n",
    "# 열외해야 하는 병사의 최소 수를 출력\n",
    "print(n - max(dp))"
   ]
  },
  {
   "cell_type": "markdown",
   "id": "a4856756",
   "metadata": {},
   "source": [
    "## 35. 못생긴 수"
   ]
  },
  {
   "cell_type": "code",
   "execution_count": null,
   "id": "c75914eb",
   "metadata": {},
   "outputs": [],
   "source": [
    "def solution(n):\n",
    "    #TODO"
   ]
  },
  {
   "cell_type": "code",
   "execution_count": null,
   "id": "7b66b653",
   "metadata": {},
   "outputs": [],
   "source": [
    "n = 10\n",
    "solution(n) #출력 예시: 12"
   ]
  },
  {
   "cell_type": "code",
   "execution_count": null,
   "id": "260a148b",
   "metadata": {},
   "outputs": [],
   "source": [
    "n = 4\n",
    "solution(n) #출력 예시: 4"
   ]
  },
  {
   "cell_type": "markdown",
   "id": "24dac9ca",
   "metadata": {},
   "source": [
    "**Solution**"
   ]
  },
  {
   "cell_type": "code",
   "execution_count": 2,
   "id": "4f17f611",
   "metadata": {},
   "outputs": [
    {
     "name": "stdout",
     "output_type": "stream",
     "text": [
      "10\n",
      "12\n"
     ]
    }
   ],
   "source": [
    "n = int(input())\n",
    "\n",
    "ugly = [0] * n # 못생긴 수를 담기 위한 테이블 (1차원 DP 테이블)\n",
    "ugly[0] = 1 # 첫 번째 못생긴 수는 1\n",
    "\n",
    "# 2배, 3배, 5배를 위한 인덱스\n",
    "i2 = i3 = i5 = 0\n",
    "# 처음에 곱셈 값을 초기화\n",
    "next2, next3, next5 = 2, 3, 5\n",
    "\n",
    "# 1부터 n까지의 못생긴 수들을 찾기\n",
    "for l in range(1, n):\n",
    "    # 가능한 곱셈 결과 중에서 가장 작은 수를 선택\n",
    "    ugly[l] = min(next2, next3, next5)\n",
    "    # 인덱스에 따라서 곱셈 결과를 증가\n",
    "    if ugly[l] == next2:\n",
    "        i2 += 1\n",
    "        next2 = ugly[i2] * 2\n",
    "    if ugly[l] == next3:\n",
    "        i3 += 1\n",
    "        next3 = ugly[i3] * 3\n",
    "    if ugly[l] == next5:\n",
    "        i5 += 1\n",
    "        next5 = ugly[i5] * 5\n",
    "\n",
    "# n번째 못생긴 수를 출력\n",
    "print(ugly[n - 1])\n"
   ]
  }
 ],
 "metadata": {
  "kernelspec": {
   "display_name": "Python 3 (ipykernel)",
   "language": "python",
   "name": "python3"
  },
  "language_info": {
   "codemirror_mode": {
    "name": "ipython",
    "version": 3
   },
   "file_extension": ".py",
   "mimetype": "text/x-python",
   "name": "python",
   "nbconvert_exporter": "python",
   "pygments_lexer": "ipython3",
   "version": "3.9.6"
  }
 },
 "nbformat": 4,
 "nbformat_minor": 5
}
