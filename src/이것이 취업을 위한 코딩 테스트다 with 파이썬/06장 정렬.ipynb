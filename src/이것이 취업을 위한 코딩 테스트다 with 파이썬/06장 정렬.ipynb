{
 "cells": [
  {
   "cell_type": "markdown",
   "id": "ffa18f64",
   "metadata": {},
   "source": [
    "## 선택 정렬"
   ]
  },
  {
   "cell_type": "code",
   "execution_count": null,
   "id": "92747caf",
   "metadata": {},
   "outputs": [],
   "source": [
    "array = [7, 5, 9, 0, 3, 1, 6, 2, 4, 8]\n"
   ]
  },
  {
   "cell_type": "markdown",
   "id": "58b069c6",
   "metadata": {},
   "source": [
    "**Solution**"
   ]
  },
  {
   "cell_type": "code",
   "execution_count": 1,
   "id": "15441b23",
   "metadata": {},
   "outputs": [
    {
     "name": "stdout",
     "output_type": "stream",
     "text": [
      "[0, 1, 2, 3, 4, 5, 6, 7, 8, 9]\n"
     ]
    }
   ],
   "source": [
    "array = [7, 5, 9, 0, 3, 1, 6, 2, 4, 8]\n",
    "\n",
    "for i in range(len(array)):\n",
    "    min_index = i # 가장 작은 원소의 인덱스\n",
    "    for j in range(i + 1, len(array)):\n",
    "        if array[min_index] > array[j]:\n",
    "            min_index = j\n",
    "    array[i], array[min_index] = array[min_index], array[i] # 스와프\n",
    "\n",
    "print(array)\n"
   ]
  },
  {
   "cell_type": "markdown",
   "id": "d7e972c2",
   "metadata": {},
   "source": [
    "## 스와프(Swap)"
   ]
  },
  {
   "cell_type": "code",
   "execution_count": null,
   "id": "bb41354f",
   "metadata": {},
   "outputs": [],
   "source": [
    "array = [3, 5]\n"
   ]
  },
  {
   "cell_type": "markdown",
   "id": "bf615585",
   "metadata": {},
   "source": [
    "**Solution**"
   ]
  },
  {
   "cell_type": "code",
   "execution_count": 2,
   "id": "8b61f3fa",
   "metadata": {},
   "outputs": [
    {
     "name": "stdout",
     "output_type": "stream",
     "text": [
      "[5, 3]\n"
     ]
    }
   ],
   "source": [
    "# 0 인덱스와 1 인덱스의 원소 교체하기\n",
    "array = [3, 5]\n",
    "array[0], array[1] = array[1], array[0]\n",
    "\n",
    "print(array)\n"
   ]
  },
  {
   "cell_type": "markdown",
   "id": "c6544086",
   "metadata": {},
   "source": [
    "## 삽입 정렬"
   ]
  },
  {
   "cell_type": "code",
   "execution_count": null,
   "id": "466922c3",
   "metadata": {},
   "outputs": [],
   "source": [
    "array = [7, 5, 9, 0, 3, 1, 6, 2, 4, 8]\n"
   ]
  },
  {
   "cell_type": "markdown",
   "id": "c7af6438",
   "metadata": {},
   "source": [
    "**Solution**"
   ]
  },
  {
   "cell_type": "code",
   "execution_count": 3,
   "id": "867af812",
   "metadata": {},
   "outputs": [
    {
     "name": "stdout",
     "output_type": "stream",
     "text": [
      "[0, 1, 2, 3, 4, 5, 6, 7, 8, 9]\n"
     ]
    }
   ],
   "source": [
    "array = [7, 5, 9, 0, 3, 1, 6, 2, 4, 8]\n",
    "\n",
    "for i in range(1, len(array)):\n",
    "    for j in range(i, 0, -1): # 인덱스 i부터 1까지 1씩 감소하며 반복하는 문법\n",
    "        if array[j] < array[j - 1]: # 한 칸씩 왼쪽으로 이동\n",
    "            array[j], array[j - 1] = array[j - 1], array[j]\n",
    "        else: # 자기보다 작은 데이터를 만나면 그 위치에서 멈춤\n",
    "            break\n",
    "\n",
    "print(array)\n"
   ]
  },
  {
   "cell_type": "markdown",
   "id": "bee90a5b",
   "metadata": {},
   "source": [
    "## 퀵 정렬"
   ]
  },
  {
   "cell_type": "code",
   "execution_count": null,
   "id": "7d356308",
   "metadata": {},
   "outputs": [],
   "source": [
    "array = [5, 7, 9, 0, 3, 1, 6, 2, 4, 8]\n"
   ]
  },
  {
   "cell_type": "markdown",
   "id": "97ce8fbd",
   "metadata": {},
   "source": [
    "**Solution**"
   ]
  },
  {
   "cell_type": "code",
   "execution_count": 4,
   "id": "957573b2",
   "metadata": {},
   "outputs": [
    {
     "name": "stdout",
     "output_type": "stream",
     "text": [
      "[0, 1, 2, 3, 4, 5, 6, 7, 8, 9]\n"
     ]
    }
   ],
   "source": [
    "array = [5, 7, 9, 0, 3, 1, 6, 2, 4, 8]\n",
    "\n",
    "def quick_sort(array, start, end):\n",
    "    if start >= end: # 원소가 1개인 경우 종료\n",
    "        return\n",
    "    pivot = start # 피벗은 첫 번째 원소\n",
    "    left = start + 1\n",
    "    right = end\n",
    "    while(left <= right):\n",
    "        # 피벗보다 큰 데이터를 찾을 때까지 반복 \n",
    "        while(left <= end and array[left] <= array[pivot]):\n",
    "            left += 1\n",
    "        # 피벗보다 작은 데이터를 찾을 때까지 반복\n",
    "        while(right > start and array[right] >= array[pivot]):\n",
    "            right -= 1\n",
    "        if(left > right): # 엇갈렸다면 작은 데이터와 피벗을 교체\n",
    "            array[right], array[pivot] = array[pivot], array[right]\n",
    "        else: # 엇갈리지 않았다면 작은 데이터와 큰 데이터를 교체\n",
    "            array[left], array[right] = array[right], array[left]\n",
    "    # 분할 이후 왼쪽 부분과 오른쪽 부분에서 각각 정렬 수행\n",
    "    quick_sort(array, start, right - 1)\n",
    "    quick_sort(array, right + 1, end)\n",
    "\n",
    "quick_sort(array, 0, len(array) - 1)\n",
    "print(array)\n"
   ]
  },
  {
   "cell_type": "markdown",
   "id": "edd31faa",
   "metadata": {},
   "source": [
    "## 파이썬의 장점을 살린 퀵 정렬"
   ]
  },
  {
   "cell_type": "code",
   "execution_count": null,
   "id": "d7ab8bc5",
   "metadata": {},
   "outputs": [],
   "source": [
    "array = [5, 7, 9, 0, 3, 1, 6, 2, 4, 8]\n"
   ]
  },
  {
   "cell_type": "markdown",
   "id": "a0b9b15a",
   "metadata": {},
   "source": [
    "**Solution**"
   ]
  },
  {
   "cell_type": "code",
   "execution_count": 5,
   "id": "8fe548d5",
   "metadata": {},
   "outputs": [
    {
     "name": "stdout",
     "output_type": "stream",
     "text": [
      "[0, 1, 2, 3, 4, 5, 6, 7, 8, 9]\n"
     ]
    }
   ],
   "source": [
    "array = [5, 7, 9, 0, 3, 1, 6, 2, 4, 8]\n",
    "\n",
    "def quick_sort(array):\n",
    "    # 리스트가 하나 이하의 원소만을 담고 있다면 종료\n",
    "    if len(array) <= 1:\n",
    "        return array\n",
    "\n",
    "    pivot = array[0] # 피벗은 첫 번째 원소\n",
    "    tail = array[1:] # 피벗을 제외한 리스트\n",
    "\n",
    "    left_side = [x for x in tail if x <= pivot] # 분할된 왼쪽 부분\n",
    "    right_side = [x for x in tail if x > pivot] # 분할된 오른쪽 부분\n",
    "\n",
    "    # 분할 이후 왼쪽 부분과 오른쪽 부분에서 각각 정렬을 수행하고, 전체 리스트를 반환\n",
    "    return quick_sort(left_side) + [pivot] + quick_sort(right_side)\n",
    "\n",
    "print(quick_sort(array))\n"
   ]
  },
  {
   "cell_type": "markdown",
   "id": "8ebd6b86",
   "metadata": {},
   "source": [
    "## 계수 정렬"
   ]
  },
  {
   "cell_type": "code",
   "execution_count": null,
   "id": "be251d0d",
   "metadata": {},
   "outputs": [],
   "source": [
    "array = [7, 5, 9, 0, 3, 1, 6, 2, 9, 1, 4, 8, 0, 5, 2]\n"
   ]
  },
  {
   "cell_type": "markdown",
   "id": "fc104778",
   "metadata": {},
   "source": [
    "**Solution**"
   ]
  },
  {
   "cell_type": "code",
   "execution_count": 6,
   "id": "07c098e3",
   "metadata": {},
   "outputs": [
    {
     "name": "stdout",
     "output_type": "stream",
     "text": [
      "0 0 1 1 2 2 3 4 5 5 6 7 8 9 9 "
     ]
    }
   ],
   "source": [
    "# 모든 원소의 값이 0보다 크거나 같다고 가정\n",
    "array = [7, 5, 9, 0, 3, 1, 6, 2, 9, 1, 4, 8, 0, 5, 2]\n",
    "# 모든 범위를 포함하는 리스트 선언 (모든 값은 0으로 초기화)\n",
    "count = [0] * (max(array) + 1)\n",
    "\n",
    "for i in range(len(array)):\n",
    "    count[array[i]] += 1 # 각 데이터에 해당하는 인덱스의 값 증가\n",
    "\n",
    "for i in range(len(count)): # 리스트에 기록된 정렬 정보 확인\n",
    "    for j in range(count[i]):\n",
    "        print(i, end=' ') # 띄어쓰기를 구분으로 등장한 횟수만큼 인덱스 출력\n"
   ]
  },
  {
   "cell_type": "markdown",
   "id": "5033aa0a",
   "metadata": {},
   "source": [
    "## 정렬 라이브러리 기본 예제"
   ]
  },
  {
   "cell_type": "code",
   "execution_count": null,
   "id": "75179df6",
   "metadata": {},
   "outputs": [],
   "source": [
    "array = [7, 5, 9, 0, 3, 1, 6, 2, 4, 8]\n"
   ]
  },
  {
   "cell_type": "markdown",
   "id": "bd2ff26a",
   "metadata": {},
   "source": [
    "**Solution1**"
   ]
  },
  {
   "cell_type": "code",
   "execution_count": 7,
   "id": "6096446e",
   "metadata": {},
   "outputs": [
    {
     "name": "stdout",
     "output_type": "stream",
     "text": [
      "[0, 1, 2, 3, 4, 5, 6, 7, 8, 9]\n"
     ]
    }
   ],
   "source": [
    "array = [7, 5, 9, 0, 3, 1, 6, 2, 4, 8]\n",
    "\n",
    "result = sorted(array)\n",
    "print(result)\n"
   ]
  },
  {
   "cell_type": "markdown",
   "id": "78dbfceb",
   "metadata": {},
   "source": [
    "**Solution2**"
   ]
  },
  {
   "cell_type": "code",
   "execution_count": 8,
   "id": "8b204247",
   "metadata": {},
   "outputs": [
    {
     "name": "stdout",
     "output_type": "stream",
     "text": [
      "[0, 1, 2, 3, 4, 5, 6, 7, 8, 9]\n"
     ]
    }
   ],
   "source": [
    "array = [7, 5, 9, 0, 3, 1, 6, 2, 4, 8]\n",
    "\n",
    "array.sort()\n",
    "print(array)\n"
   ]
  },
  {
   "cell_type": "markdown",
   "id": "f3c7e154",
   "metadata": {},
   "source": [
    "## 정렬 라이브러리 키(Key) 기준 정렬 예제"
   ]
  },
  {
   "cell_type": "code",
   "execution_count": null,
   "id": "f0fbe7ab",
   "metadata": {},
   "outputs": [],
   "source": [
    "array = [('바나나', 2), ('사과', 5), ('당근', 3)]\n"
   ]
  },
  {
   "cell_type": "markdown",
   "id": "17687a10",
   "metadata": {},
   "source": [
    "**Solution**"
   ]
  },
  {
   "cell_type": "code",
   "execution_count": 9,
   "id": "9d17079e",
   "metadata": {},
   "outputs": [
    {
     "name": "stdout",
     "output_type": "stream",
     "text": [
      "[('바나나', 2), ('당근', 3), ('사과', 5)]\n"
     ]
    }
   ],
   "source": [
    "array = [('바나나', 2), ('사과', 5), ('당근', 3)]\n",
    "\n",
    "def setting(data):\n",
    "    return data[1]\n",
    "\n",
    "result = sorted(array, key=setting)\n",
    "print(result)\n"
   ]
  },
  {
   "cell_type": "markdown",
   "id": "3a1d283b",
   "metadata": {},
   "source": [
    "---\n",
    "## 위에서 아래로"
   ]
  },
  {
   "cell_type": "code",
   "execution_count": null,
   "id": "6253b964",
   "metadata": {},
   "outputs": [],
   "source": [
    "lines = [\n",
    "    \"3\",\n",
    "    \"15\",\n",
    "    \"27\",\n",
    "    \"12\"\n",
    "]\n"
   ]
  },
  {
   "cell_type": "markdown",
   "id": "206c001c",
   "metadata": {},
   "source": [
    "**Solution**"
   ]
  },
  {
   "cell_type": "code",
   "execution_count": 10,
   "id": "b222c1cb",
   "metadata": {},
   "outputs": [
    {
     "name": "stdout",
     "output_type": "stream",
     "text": [
      "3\n",
      "15\n",
      "27\n",
      "12\n",
      "27 15 12 "
     ]
    }
   ],
   "source": [
    "# N 입력 받기\n",
    "n = int(input())\n",
    "\n",
    "# N개의 정수를 입력 받아 리스트에 저장\n",
    "array = []\n",
    "for i in range(n):\n",
    "    array.append(int(input()))\n",
    "\n",
    "# 파이썬 정렬 라이브러리를 이용하여 내림차순 정렬 수행\n",
    "array = sorted(array, reverse=True)\n",
    "\n",
    "# 정렬이 수행된 결과를 출력\n",
    "for i in array:\n",
    "    print(i, end=' ')\n",
    "\n",
    "# 입력 예시\n",
    "# 3\n",
    "# 15\n",
    "# 27\n",
    "# 12\n",
    "\n",
    "# 출력 예시\n",
    "# 27 15 12 "
   ]
  },
  {
   "cell_type": "markdown",
   "id": "1689ff9d",
   "metadata": {},
   "source": [
    "## 성적이 낮은 순서대로 학생 출력하기"
   ]
  },
  {
   "cell_type": "code",
   "execution_count": null,
   "id": "c5e8e91f",
   "metadata": {},
   "outputs": [],
   "source": [
    "lines = [\n",
    "    \"2\",\n",
    "    \"홍길동 95\",\n",
    "    \"이순신 77\"\n",
    "]\n"
   ]
  },
  {
   "cell_type": "markdown",
   "id": "61b9b5c9",
   "metadata": {},
   "source": [
    "**Solution**"
   ]
  },
  {
   "cell_type": "code",
   "execution_count": 11,
   "id": "5f6f41d0",
   "metadata": {},
   "outputs": [
    {
     "name": "stdout",
     "output_type": "stream",
     "text": [
      "2\n",
      "홍길동 95\n",
      "이순신 77\n",
      "이순신 홍길동 "
     ]
    }
   ],
   "source": [
    "# N 입력 받기\n",
    "n = int(input())\n",
    "\n",
    "# N명의 학생 정보를 입력 받아 리스트에 저장\n",
    "array = []\n",
    "for i in range(n):\n",
    "    input_data = input().split()\n",
    "    # 이름은 문자열 그대로, 점수는 정수형으로 변환하여 저장\n",
    "    array.append((input_data[0], int(input_data[1])))\n",
    "\n",
    "# 키(Key)를 이용하여, 점수를 기준으로 정렬\n",
    "array = sorted(array, key=lambda student: student[1])\n",
    "\n",
    "# 정렬이 수행된 결과를 출력\n",
    "for student in array:\n",
    "    print(student[0], end=' ')\n",
    "\n",
    "# 입력 예시\n",
    "# 2\n",
    "# 홍길동 95\n",
    "# 이순신 77\n",
    "\n",
    "# 출력 예시\n",
    "# 이순신 홍길동 "
   ]
  },
  {
   "cell_type": "markdown",
   "id": "e9492f37",
   "metadata": {},
   "source": [
    "## 두 배열의 원소 교체"
   ]
  },
  {
   "cell_type": "code",
   "execution_count": null,
   "id": "62c07f07",
   "metadata": {},
   "outputs": [],
   "source": [
    "lines = [\n",
    "    \"5 3\",\n",
    "    \"1 2 5 4 3\",\n",
    "    \"5 5 6 6 5\"\n",
    "]\n"
   ]
  },
  {
   "cell_type": "markdown",
   "id": "491d974b",
   "metadata": {},
   "source": [
    "**Solution**"
   ]
  },
  {
   "cell_type": "code",
   "execution_count": 12,
   "id": "6e73b298",
   "metadata": {},
   "outputs": [
    {
     "name": "stdout",
     "output_type": "stream",
     "text": [
      "5 3\n",
      "1 2 5 4 3\n",
      "5 5 6 6 5\n",
      "26\n"
     ]
    }
   ],
   "source": [
    "n, k = map(int, input().split()) # N과 K를 입력 받기\n",
    "a = list(map(int, input().split())) # 배열 A의 모든 원소를 입력받기\n",
    "b = list(map(int, input().split())) # 배열 B의 모든 원소를 입력받기\n",
    "\n",
    "a.sort() # 배열 A는 오름차순 정렬 수행\n",
    "b.sort(reverse=True) # 배열 B는 내림차순 정렬 수행\n",
    "\n",
    "# 첫 번째 인덱스부터 확인하며, 두 배열의 원소를 최대 K번 비교\n",
    "for i in range(k):\n",
    "    # A의 원소가 B의 원소보다 작은 경우\n",
    "    if a[i] < b[i]:\n",
    "        # 두 원소를 교체\n",
    "        a[i], b[i] = b[i], a[i]\n",
    "    else: # A의 원소가 B의 원소보다 크거나 같을 때, 반복문을 탈출\n",
    "        break\n",
    "\n",
    "print(sum(a)) # 배열 A의 모든 원소의 합을 출력\n",
    "\n",
    "# 입력 예시\n",
    "# 5 3\n",
    "# 1 2 5 4 3\n",
    "# 5 5 6 6 5\n",
    "\n",
    "# 출력 예시\n",
    "# 26"
   ]
  },
  {
   "cell_type": "markdown",
   "id": "ffe72c1b",
   "metadata": {},
   "source": [
    "---\n",
    "# Q23. 국영수"
   ]
  },
  {
   "cell_type": "code",
   "execution_count": null,
   "id": "21bf69a3",
   "metadata": {},
   "outputs": [],
   "source": [
    "n = 12\n",
    "lines = [\n",
    "    \"Junkyu 50 60 100\",\n",
    "    \"Sangkeun 80 60 50\",\n",
    "    \"Sunyoung 80 70 100\",\n",
    "    \"Soong 50 60 90\",\n",
    "    \"Haebin 50 60 100\",\n",
    "    \"Kangsoo 60 80 100\",\n",
    "    \"Donghyuk 80 60 100\",\n",
    "    \"Sei 70 70 70\",\n",
    "    \"Wonseob 70 70 90\",\n",
    "    \"Sanghyun 70 70 80\",\n",
    "    \"nsj 80 80 80\",\n",
    "    \"Taehan 50 60 90\"\n",
    "]\n",
    "\n",
    "# 출력 예시\n",
    "# Donghyuk\n",
    "# Sangkeun\n",
    "# Sunyoung\n",
    "# nsj\n",
    "# Wonseob\n",
    "# Sanghyun\n",
    "# Sei\n",
    "# Kangsoo\n",
    "# Haebin\n",
    "# Junkyu\n",
    "# Soong\n",
    "# Taehan\n"
   ]
  },
  {
   "cell_type": "markdown",
   "id": "866adcbb",
   "metadata": {},
   "source": [
    "**Solution**"
   ]
  },
  {
   "cell_type": "code",
   "execution_count": 1,
   "id": "8910c089",
   "metadata": {
    "scrolled": true
   },
   "outputs": [
    {
     "name": "stdout",
     "output_type": "stream",
     "text": [
      "12\n",
      "Junkyu 50 60 100\n",
      "Sangkeun 80 60 50\n",
      "Sunyoung 80 70 100\n",
      "Soong 50 60 90\n",
      "Haebin 50 60 100\n",
      "Kangsoo 60 80 100\n",
      "Donghyuk 80 60 100\n",
      "Sei 70 70 70\n",
      "Wonseob 70 70 90\n",
      "Sanghyun 70 70 80\n",
      "nsj 80 80 80\n",
      "Taehan 50 60 90\n",
      "Donghyuk\n",
      "Sangkeun\n",
      "Sunyoung\n",
      "nsj\n",
      "Wonseob\n",
      "Sanghyun\n",
      "Sei\n",
      "Kangsoo\n",
      "Haebin\n",
      "Junkyu\n",
      "Soong\n",
      "Taehan\n"
     ]
    }
   ],
   "source": [
    "n = int(input())\n",
    "students = [] # 학생 정보를 담을 리스트\n",
    "\n",
    "# 모든 학생 정보를 입력 받기\n",
    "for _ in range(n):\n",
    "    students.append(input().split())\n",
    "\n",
    "'''\n",
    "[ 정렬 기준 ]\n",
    "1) 두 번째 원소를 기준으로 내림차순 정렬\n",
    "2) 두 번째 원소가 같은 경우, 세 번째 원소를 기준으로 오름차순 정렬\n",
    "3) 세 번째 원소가 같은 경우, 네 번째 원소를 기준으로 내림차순 정렬\n",
    "4) 네 번째 원소가 같은 경우, 첫 번째 원소를 기준으로 오름차순 정렬\n",
    "'''\n",
    "students.sort(key=lambda x: (-int(x[1]), int(x[2]), -int(x[3]), x[0]))\n",
    "\n",
    "# 정렬된 학생 정보에서 이름만 출력\n",
    "for student in students:\n",
    "    print(student[0])\n"
   ]
  },
  {
   "cell_type": "markdown",
   "id": "bf18da3a",
   "metadata": {},
   "source": [
    "## Q24. 안테나"
   ]
  },
  {
   "cell_type": "code",
   "execution_count": null,
   "id": "dfb962ff",
   "metadata": {},
   "outputs": [],
   "source": [
    "n = 4\n",
    "line = \"5 1 7 9\"\n",
    "# 출력 예시: 5"
   ]
  },
  {
   "cell_type": "markdown",
   "id": "7b5cb768",
   "metadata": {},
   "source": [
    "**Solution**"
   ]
  },
  {
   "cell_type": "code",
   "execution_count": 1,
   "id": "7b9452b5",
   "metadata": {},
   "outputs": [
    {
     "name": "stdout",
     "output_type": "stream",
     "text": [
      "4\n",
      "5 1 7 9\n",
      "5\n"
     ]
    }
   ],
   "source": [
    "n = int(input())\n",
    "a = list(map(int, input().split()))\n",
    "a.sort()\n",
    "\n",
    "# 중간값(median)을 출력\n",
    "print(a[(n - 1) // 2])\n"
   ]
  },
  {
   "cell_type": "markdown",
   "id": "9e0d17e6",
   "metadata": {},
   "source": [
    "## Q25. 실패율"
   ]
  },
  {
   "cell_type": "code",
   "execution_count": null,
   "id": "b5917b7e",
   "metadata": {},
   "outputs": [],
   "source": [
    "def solution(N, stages):\n",
    "    "
   ]
  },
  {
   "cell_type": "code",
   "execution_count": null,
   "id": "4fa82fd9",
   "metadata": {},
   "outputs": [],
   "source": [
    "n = 5\n",
    "stages = [2, 1, 2, 6, 2, 4, 3, 3]\n",
    "# 출력 예시: [3, 4, 2, 1, 5]\n",
    "solution(n, stages)"
   ]
  },
  {
   "cell_type": "code",
   "execution_count": null,
   "id": "f52e9b09",
   "metadata": {},
   "outputs": [],
   "source": [
    "n = 4\n",
    "stages = [4, 4, 4, 4, 4]\n",
    "# 출력 예시: [4, 1, 2, 3]\n",
    "solution(n, stages)"
   ]
  },
  {
   "cell_type": "markdown",
   "id": "b1a513ef",
   "metadata": {},
   "source": [
    "**Solution**"
   ]
  },
  {
   "cell_type": "code",
   "execution_count": 1,
   "id": "3a7fa5f1",
   "metadata": {},
   "outputs": [
    {
     "data": {
      "text/plain": [
       "[3, 4, 2, 1, 5]"
      ]
     },
     "execution_count": 1,
     "metadata": {},
     "output_type": "execute_result"
    }
   ],
   "source": [
    "def solution(N, stages):\n",
    "    answer = []\n",
    "    length = len(stages)\n",
    "\n",
    "    # 스테이지 번호를 1부터 N까지 증가시키며\n",
    "    for i in range(1, N + 1):\n",
    "        # 해당 스테이지에 머물러 있는 사람의 수 계산\n",
    "        count = stages.count(i)\n",
    "        \n",
    "        # 실패율 계산\n",
    "        if length == 0:\n",
    "            fail = 0\n",
    "        else:\n",
    "            fail = count / length\n",
    "        \n",
    "        # 리스트에 (스테이지 번호, 실패율) 원소 삽입\n",
    "        answer.append((i, fail))\n",
    "        length -= count\n",
    "\n",
    "    # 실패율을 기준으로 각 스테이지를 내림차순 정렬\n",
    "    answer = sorted(answer, key=lambda t: t[1], reverse=True)\n",
    "    \n",
    "    # 정렬된 스테이지 번호 반환\n",
    "    answer = [i[0] for i in answer]\n",
    "    return answer\n",
    "\n",
    "n = 5\n",
    "stages = [2, 1, 2, 6, 2, 4, 3, 3]\n",
    "solution(n, stages)"
   ]
  }
 ],
 "metadata": {
  "kernelspec": {
   "display_name": "Python 3 (ipykernel)",
   "language": "python",
   "name": "python3"
  },
  "language_info": {
   "codemirror_mode": {
    "name": "ipython",
    "version": 3
   },
   "file_extension": ".py",
   "mimetype": "text/x-python",
   "name": "python",
   "nbconvert_exporter": "python",
   "pygments_lexer": "ipython3",
   "version": "3.9.6"
  }
 },
 "nbformat": 4,
 "nbformat_minor": 5
}
