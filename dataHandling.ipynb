{
 "cells": [
  {
   "cell_type": "markdown",
   "metadata": {
    "id": "M8a62YpVkqE5"
   },
   "source": [
    "## DataFrame 선언하기\n",
    "\n",
    "list, dictionary, ndarrayrhk와 같이 다양한 데이터 타입의 객체를 DataFrame으로 선언할 수 있다.\n",
    "Series객체는 하나의 열을 가진 DataFrame으로 변환할 수 있다.\n",
    "2 ~ 3번 째줄과 4 ~ 5번 째 줄은 같은 의미이다."
   ]
  },
  {
   "cell_type": "code",
   "execution_count": 2,
   "metadata": {
    "colab": {
     "base_uri": "https://localhost:8080/",
     "height": 339
    },
    "executionInfo": {
     "elapsed": 4,
     "status": "error",
     "timestamp": 1653689465465,
     "user": {
      "displayName": "YeongJu Kim",
      "userId": "03302338766165507289"
     },
     "user_tz": -540
    },
    "id": "S8HYUAEPkdvw",
    "outputId": "1400ec14-9195-4cfd-ee7e-6a07051dbe3b"
   },
   "outputs": [
    {
     "data": {
      "text/html": [
       "<div>\n",
       "<style scoped>\n",
       "    .dataframe tbody tr th:only-of-type {\n",
       "        vertical-align: middle;\n",
       "    }\n",
       "\n",
       "    .dataframe tbody tr th {\n",
       "        vertical-align: top;\n",
       "    }\n",
       "\n",
       "    .dataframe thead th {\n",
       "        text-align: right;\n",
       "    }\n",
       "</style>\n",
       "<table border=\"1\" class=\"dataframe\">\n",
       "  <thead>\n",
       "    <tr style=\"text-align: right;\">\n",
       "      <th></th>\n",
       "      <th>class</th>\n",
       "      <th>score</th>\n",
       "    </tr>\n",
       "  </thead>\n",
       "  <tbody>\n",
       "    <tr>\n",
       "      <th>0</th>\n",
       "      <td>kor</td>\n",
       "      <td>70</td>\n",
       "    </tr>\n",
       "    <tr>\n",
       "      <th>1</th>\n",
       "      <td>math</td>\n",
       "      <td>80</td>\n",
       "    </tr>\n",
       "  </tbody>\n",
       "</table>\n",
       "</div>"
      ],
      "text/plain": [
       "  class  score\n",
       "0   kor     70\n",
       "1  math     80"
      ]
     },
     "execution_count": 2,
     "metadata": {},
     "output_type": "execute_result"
    }
   ],
   "source": [
    "import numpy as np\n",
    "import pandas as pd\n",
    "\n",
    "dataset = np.array([['kor', 70], ['math', 80]])\n",
    "df = pd.DataFrame(dataset, columns=['class', 'score'])\n",
    "df = pd.DataFrame(data=[['kor', 70], ['math', 80]], columns=['class', 'score'])\n",
    "df = pd.DataFrame({'class': ['kor', 'math'], 'score': [70, 80]})\n",
    "df"
   ]
  },
  {
   "cell_type": "markdown",
   "metadata": {},
   "source": [
    "Series 선언하기"
   ]
  },
  {
   "cell_type": "code",
   "execution_count": 4,
   "metadata": {},
   "outputs": [
    {
     "data": {
      "text/plain": [
       "idx 1     kor\n",
       "idx2     math\n",
       "Name: class, dtype: object"
      ]
     },
     "execution_count": 4,
     "metadata": {},
     "output_type": "execute_result"
    }
   ],
   "source": [
    "pd.Series({'idx 1': 'kor', 'idx2': 'math'}, name='class')"
   ]
  },
  {
   "cell_type": "markdown",
   "metadata": {},
   "source": [
    "## DataFrame 읽고 저장하기"
   ]
  },
  {
   "cell_type": "code",
   "execution_count": 5,
   "metadata": {},
   "outputs": [
    {
     "data": {
      "text/plain": [
       "'/home/runner/pythonStudy'"
      ]
     },
     "execution_count": 5,
     "metadata": {},
     "output_type": "execute_result"
    }
   ],
   "source": [
    "pwd"
   ]
  },
  {
   "cell_type": "code",
   "execution_count": null,
   "metadata": {},
   "outputs": [],
   "source": []
  }
 ],
 "metadata": {
  "colab": {
   "authorship_tag": "ABX9TyPBNzZ4NEHrXrxH3aq/x8oa",
   "collapsed_sections": [],
   "name": "dataHandling.ipynb",
   "provenance": []
  },
  "kernelspec": {
   "display_name": "Python 3 (ipykernel)",
   "language": "python",
   "name": "python3"
  },
  "language_info": {
   "codemirror_mode": {
    "name": "ipython",
    "version": 3
   },
   "file_extension": ".py",
   "mimetype": "text/x-python",
   "name": "python",
   "nbconvert_exporter": "python",
   "pygments_lexer": "ipython3",
   "version": "3.8.12"
  }
 },
 "nbformat": 4,
 "nbformat_minor": 1
}
