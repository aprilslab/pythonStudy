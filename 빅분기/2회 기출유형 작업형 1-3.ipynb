{
 "cells": [
  {
   "cell_type": "markdown",
   "id": "dcc933d7",
   "metadata": {},
   "source": [
    "## 문제\n",
    "\n",
    "* 데이터셋(basic1.csv)의 'age'컬럼의 이상치를 더하시오!\n",
    "* 단, 평균으로부터 '표준편차*1.5'를 벗어나는 영역을 이상치라고 판단함"
   ]
  },
  {
   "cell_type": "code",
   "execution_count": 1,
   "id": "341e0b0c",
   "metadata": {},
   "outputs": [
    {
     "data": {
      "text/plain": [
       "id       0\n",
       "age      0\n",
       "city     0\n",
       "f1      31\n",
       "f2       0\n",
       "f3      95\n",
       "f4       0\n",
       "f5       0\n",
       "dtype: int64"
      ]
     },
     "execution_count": 1,
     "metadata": {},
     "output_type": "execute_result"
    }
   ],
   "source": [
    "import pandas as pd\n",
    "\n",
    "df = pd.read_csv('../dataset/basic1.csv')\n",
    "df.isnull().sum()"
   ]
  },
  {
   "cell_type": "code",
   "execution_count": 2,
   "id": "61670914",
   "metadata": {},
   "outputs": [
    {
     "data": {
      "text/plain": [
       "45.664137783883035"
      ]
     },
     "execution_count": 2,
     "metadata": {},
     "output_type": "execute_result"
    }
   ],
   "source": [
    "std = df['age'].std() * 1.5\n",
    "std"
   ]
  },
  {
   "cell_type": "code",
   "execution_count": 3,
   "id": "e8625880",
   "metadata": {},
   "outputs": [
    {
     "data": {
      "text/plain": [
       "50.963"
      ]
     },
     "execution_count": 3,
     "metadata": {},
     "output_type": "execute_result"
    }
   ],
   "source": [
    "mean = df['age'].mean()\n",
    "mean"
   ]
  },
  {
   "cell_type": "code",
   "execution_count": 4,
   "id": "63935b46",
   "metadata": {},
   "outputs": [
    {
     "name": "stdout",
     "output_type": "stream",
     "text": [
      "5.298862216116966 96.62713778388303\n"
     ]
    }
   ],
   "source": [
    "min_out = mean - std\n",
    "max_out = mean + std\n",
    "print(min_out, max_out)"
   ]
  },
  {
   "cell_type": "code",
   "execution_count": 5,
   "id": "0460cd9a",
   "metadata": {},
   "outputs": [
    {
     "name": "stdout",
     "output_type": "stream",
     "text": [
      "<class 'pandas.core.frame.DataFrame'>\n",
      "Int64Index: 14 entries, 0 to 98\n",
      "Data columns (total 8 columns):\n",
      " #   Column  Non-Null Count  Dtype  \n",
      "---  ------  --------------  -----  \n",
      " 0   id      14 non-null     object \n",
      " 1   age     14 non-null     float64\n",
      " 2   city    14 non-null     object \n",
      " 3   f1      10 non-null     float64\n",
      " 4   f2      14 non-null     int64  \n",
      " 5   f3      0 non-null      object \n",
      " 6   f4      14 non-null     object \n",
      " 7   f5      14 non-null     float64\n",
      "dtypes: float64(3), int64(1), object(4)\n",
      "memory usage: 1008.0+ bytes\n"
     ]
    }
   ],
   "source": [
    "outlier = df[(df['age']<min_out)|(df['age']>max_out)]\n",
    "outlier.info()"
   ]
  },
  {
   "cell_type": "code",
   "execution_count": 6,
   "id": "eb190ca9",
   "metadata": {},
   "outputs": [
    {
     "data": {
      "text/plain": [
       "473.5"
      ]
     },
     "execution_count": 6,
     "metadata": {},
     "output_type": "execute_result"
    }
   ],
   "source": [
    "outlier['age'].sum()"
   ]
  }
 ],
 "metadata": {
  "kernelspec": {
   "display_name": "Python 3 (ipykernel)",
   "language": "python",
   "name": "python3"
  },
  "language_info": {
   "codemirror_mode": {
    "name": "ipython",
    "version": 3
   },
   "file_extension": ".py",
   "mimetype": "text/x-python",
   "name": "python",
   "nbconvert_exporter": "python",
   "pygments_lexer": "ipython3",
   "version": "3.8.12"
  }
 },
 "nbformat": 4,
 "nbformat_minor": 5
}
