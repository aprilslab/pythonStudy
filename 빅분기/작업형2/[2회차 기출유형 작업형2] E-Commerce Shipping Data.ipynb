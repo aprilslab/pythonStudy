{
 "cells": [
  {
   "cell_type": "markdown",
   "id": "f55fa713",
   "metadata": {},
   "source": [
    "## 전자상거래 배송 데이터\n",
    "**제품 배송 시간에 맞춰 배송되었는지 예측모델 만들기**\n",
    "\n",
    "학습용 데이터 (X_train, y_train)을 이용하여 배송 예측 모형을 만든 후, 이를 평가용 데이터(X_test)에 적용하여 얻은 예측값을 다음과 같은 형식의 CSV파일로 생성하시오(제출한 모델의 성능은 ROC-AUC 평가지표에 따라 채점)\n",
    "\n",
    "![](data:image/png;base64,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)\n",
    "\n",
    "[시험용 데이터셋 만들기] 코드는 예시문제와 동일한 형태의 X_train, y_train, X_test 데이터를 만들기 위함임\n",
    "\n",
    "(유의사항)\n",
    "\n",
    "- 성능이 우수한 예측모형을 구축하기 위해서는 적절한 데이터 전처리, 피처엔지니어링, 분류알고리즘, 하이퍼파라미터 튜닝, 모형 앙상블 등이 수반되어야 한다.\n",
    "- 수험번호.csv파일이 만들어지도록 코드를 제출한다.\n",
    "- 제출한 모델의 성능은 ROC-AUC형태로 읽어드린다.\n",
    "\n",
    "**[참고]작업형2 문구**\n",
    "- 출력을 원하실 경우 print() 함수 활용\n",
    "- 예시) print(df.head())\n",
    "- getcwd(), chdir() 등 작업 폴더 설정 불필요\n",
    "- 파일 경로 상 내부 드라이브 경로(C: 등) 접근 불가\n",
    "\n",
    "**데이터 파일 읽기 예제**\n",
    "- import pandas as pd\n",
    "- X_test = pd.read_csv(\"data/X_test.csv\")\n",
    "- X_train = pd.read_csv(\"data/X_train.csv\")\n",
    "- y_train = pd.read_csv(\"data/y_train.csv\")\n",
    "\n",
    "**사용자 코딩**\n",
    "\n",
    "**답안 제출 참고**\n",
    "- 아래 코드 예측변수와 수험번호를 개인별로 변경하여 활용\n",
    "- pd.DataFrame({'cust_id': X_test.cust_id, 'gender': pred}).to_csv('003000000.csv', index=False)"
   ]
  },
  {
   "cell_type": "code",
   "execution_count": 1,
   "id": "45625e73",
   "metadata": {},
   "outputs": [
    {
     "data": {
      "text/plain": [
       "((8799, 11), (2200, 11), (8799, 2), (2200, 2))"
      ]
     },
     "execution_count": 1,
     "metadata": {},
     "output_type": "execute_result"
    }
   ],
   "source": [
    "# 시험환경 세팅 (코드 변경 X)\n",
    "import pandas as pd\n",
    "import numpy as np\n",
    "from sklearn.model_selection import train_test_split\n",
    "\n",
    "def exam_data_load(df, target, id_name=\"\", null_name=\"\"):\n",
    "    if id_name == \"\":\n",
    "        df = df.reset_index().rename(columns={\"index\": \"id\"})\n",
    "        id_name = 'id'\n",
    "    else:\n",
    "        id_name = id_name\n",
    "    \n",
    "    if null_name != \"\":\n",
    "        df[df == null_name] = np.nan\n",
    "    \n",
    "    X_train, X_test = train_test_split(df, test_size=0.2, random_state=2021)\n",
    "    \n",
    "    y_train = X_train[[id_name, target]]\n",
    "    X_train = X_train.drop(columns=[target])\n",
    "\n",
    "    \n",
    "    y_test = X_test[[id_name, target]]\n",
    "    X_test = X_test.drop(columns=[target])\n",
    "    return X_train, X_test, y_train, y_test \n",
    "    \n",
    "df = pd.read_csv(\"../../dataset/e-commerce-shipping-data/Train.csv\")\n",
    "X_train, X_test, y_train, y_test = exam_data_load(df, target='Reached.on.Time_Y.N', id_name='ID')\n",
    "\n",
    "X_train.shape, X_test.shape, y_train.shape, y_test.shape"
   ]
  },
  {
   "cell_type": "markdown",
   "id": "f84dbf73",
   "metadata": {},
   "source": [
    "---\n",
    "## My Code"
   ]
  },
  {
   "cell_type": "code",
   "execution_count": null,
   "id": "c99e9376",
   "metadata": {},
   "outputs": [],
   "source": []
  },
  {
   "cell_type": "code",
   "execution_count": null,
   "id": "69d7031c",
   "metadata": {},
   "outputs": [],
   "source": []
  },
  {
   "cell_type": "code",
   "execution_count": null,
   "id": "985dfec5",
   "metadata": {},
   "outputs": [],
   "source": []
  },
  {
   "cell_type": "code",
   "execution_count": null,
   "id": "324e6051",
   "metadata": {},
   "outputs": [],
   "source": []
  },
  {
   "cell_type": "code",
   "execution_count": null,
   "id": "8e028432",
   "metadata": {},
   "outputs": [],
   "source": []
  },
  {
   "cell_type": "code",
   "execution_count": null,
   "id": "86d1685e",
   "metadata": {},
   "outputs": [],
   "source": []
  },
  {
   "cell_type": "code",
   "execution_count": null,
   "id": "84fae6cd",
   "metadata": {},
   "outputs": [],
   "source": []
  },
  {
   "cell_type": "code",
   "execution_count": null,
   "id": "53c165b1",
   "metadata": {},
   "outputs": [],
   "source": []
  },
  {
   "cell_type": "code",
   "execution_count": null,
   "id": "e3127d98",
   "metadata": {},
   "outputs": [],
   "source": []
  },
  {
   "cell_type": "code",
   "execution_count": null,
   "id": "176bf89a",
   "metadata": {},
   "outputs": [],
   "source": []
  },
  {
   "cell_type": "code",
   "execution_count": null,
   "id": "c23be4bf",
   "metadata": {},
   "outputs": [],
   "source": []
  },
  {
   "cell_type": "code",
   "execution_count": null,
   "id": "7c373fe5",
   "metadata": {},
   "outputs": [],
   "source": []
  },
  {
   "cell_type": "code",
   "execution_count": null,
   "id": "fd257e49",
   "metadata": {},
   "outputs": [],
   "source": []
  },
  {
   "cell_type": "code",
   "execution_count": null,
   "id": "d70c41ac",
   "metadata": {},
   "outputs": [],
   "source": []
  },
  {
   "cell_type": "code",
   "execution_count": null,
   "id": "d59b856d",
   "metadata": {},
   "outputs": [],
   "source": []
  },
  {
   "cell_type": "code",
   "execution_count": null,
   "id": "e1e97d77",
   "metadata": {},
   "outputs": [],
   "source": []
  },
  {
   "cell_type": "code",
   "execution_count": null,
   "id": "3c209784",
   "metadata": {},
   "outputs": [],
   "source": []
  },
  {
   "cell_type": "code",
   "execution_count": null,
   "id": "a73cb9b9",
   "metadata": {},
   "outputs": [],
   "source": []
  },
  {
   "cell_type": "code",
   "execution_count": null,
   "id": "f4841790",
   "metadata": {},
   "outputs": [],
   "source": []
  },
  {
   "cell_type": "code",
   "execution_count": null,
   "id": "d241b826",
   "metadata": {},
   "outputs": [],
   "source": []
  },
  {
   "cell_type": "markdown",
   "id": "a07b577f",
   "metadata": {},
   "source": [
    "---\n",
    "## 풀이(Baseline)\n",
    "\n",
    "##### EDA"
   ]
  },
  {
   "cell_type": "code",
   "execution_count": 2,
   "id": "29cbcf6b",
   "metadata": {},
   "outputs": [
    {
     "data": {
      "text/plain": [
       "((8799, 11), (2200, 11), (8799, 2))"
      ]
     },
     "execution_count": 2,
     "metadata": {},
     "output_type": "execute_result"
    }
   ],
   "source": [
    "# 제공된 3개 데이터 (y_test데이터 활용X)\n",
    "X_train.shape, X_test.shape, y_train.shape"
   ]
  },
  {
   "cell_type": "code",
   "execution_count": 3,
   "id": "6c40c744",
   "metadata": {},
   "outputs": [
    {
     "data": {
      "text/html": [
       "<div>\n",
       "<style scoped>\n",
       "    .dataframe tbody tr th:only-of-type {\n",
       "        vertical-align: middle;\n",
       "    }\n",
       "\n",
       "    .dataframe tbody tr th {\n",
       "        vertical-align: top;\n",
       "    }\n",
       "\n",
       "    .dataframe thead th {\n",
       "        text-align: right;\n",
       "    }\n",
       "</style>\n",
       "<table border=\"1\" class=\"dataframe\">\n",
       "  <thead>\n",
       "    <tr style=\"text-align: right;\">\n",
       "      <th></th>\n",
       "      <th>ID</th>\n",
       "      <th>Warehouse_block</th>\n",
       "      <th>Mode_of_Shipment</th>\n",
       "      <th>Customer_care_calls</th>\n",
       "      <th>Customer_rating</th>\n",
       "      <th>Cost_of_the_Product</th>\n",
       "      <th>Prior_purchases</th>\n",
       "      <th>Product_importance</th>\n",
       "      <th>Gender</th>\n",
       "      <th>Discount_offered</th>\n",
       "      <th>Weight_in_gms</th>\n",
       "    </tr>\n",
       "  </thead>\n",
       "  <tbody>\n",
       "    <tr>\n",
       "      <th>3999</th>\n",
       "      <td>4000</td>\n",
       "      <td>B</td>\n",
       "      <td>Ship</td>\n",
       "      <td>3</td>\n",
       "      <td>4</td>\n",
       "      <td>134</td>\n",
       "      <td>3</td>\n",
       "      <td>high</td>\n",
       "      <td>F</td>\n",
       "      <td>6</td>\n",
       "      <td>5680</td>\n",
       "    </tr>\n",
       "    <tr>\n",
       "      <th>9559</th>\n",
       "      <td>9560</td>\n",
       "      <td>F</td>\n",
       "      <td>Ship</td>\n",
       "      <td>4</td>\n",
       "      <td>3</td>\n",
       "      <td>173</td>\n",
       "      <td>3</td>\n",
       "      <td>medium</td>\n",
       "      <td>M</td>\n",
       "      <td>5</td>\n",
       "      <td>5331</td>\n",
       "    </tr>\n",
       "    <tr>\n",
       "      <th>2649</th>\n",
       "      <td>2650</td>\n",
       "      <td>B</td>\n",
       "      <td>Ship</td>\n",
       "      <td>2</td>\n",
       "      <td>1</td>\n",
       "      <td>192</td>\n",
       "      <td>3</td>\n",
       "      <td>high</td>\n",
       "      <td>M</td>\n",
       "      <td>46</td>\n",
       "      <td>3206</td>\n",
       "    </tr>\n",
       "    <tr>\n",
       "      <th>4843</th>\n",
       "      <td>4844</td>\n",
       "      <td>F</td>\n",
       "      <td>Ship</td>\n",
       "      <td>6</td>\n",
       "      <td>5</td>\n",
       "      <td>284</td>\n",
       "      <td>4</td>\n",
       "      <td>medium</td>\n",
       "      <td>M</td>\n",
       "      <td>8</td>\n",
       "      <td>5346</td>\n",
       "    </tr>\n",
       "    <tr>\n",
       "      <th>9601</th>\n",
       "      <td>9602</td>\n",
       "      <td>F</td>\n",
       "      <td>Flight</td>\n",
       "      <td>3</td>\n",
       "      <td>1</td>\n",
       "      <td>246</td>\n",
       "      <td>3</td>\n",
       "      <td>low</td>\n",
       "      <td>F</td>\n",
       "      <td>10</td>\n",
       "      <td>4707</td>\n",
       "    </tr>\n",
       "  </tbody>\n",
       "</table>\n",
       "</div>"
      ],
      "text/plain": [
       "        ID Warehouse_block Mode_of_Shipment  Customer_care_calls  \\\n",
       "3999  4000               B             Ship                    3   \n",
       "9559  9560               F             Ship                    4   \n",
       "2649  2650               B             Ship                    2   \n",
       "4843  4844               F             Ship                    6   \n",
       "9601  9602               F           Flight                    3   \n",
       "\n",
       "      Customer_rating  Cost_of_the_Product  Prior_purchases  \\\n",
       "3999                4                  134                3   \n",
       "9559                3                  173                3   \n",
       "2649                1                  192                3   \n",
       "4843                5                  284                4   \n",
       "9601                1                  246                3   \n",
       "\n",
       "     Product_importance Gender  Discount_offered  Weight_in_gms  \n",
       "3999               high      F                 6           5680  \n",
       "9559             medium      M                 5           5331  \n",
       "2649               high      M                46           3206  \n",
       "4843             medium      M                 8           5346  \n",
       "9601                low      F                10           4707  "
      ]
     },
     "execution_count": 3,
     "metadata": {},
     "output_type": "execute_result"
    }
   ],
   "source": [
    "X_train.head()"
   ]
  },
  {
   "cell_type": "code",
   "execution_count": 4,
   "id": "7acb26f4",
   "metadata": {},
   "outputs": [
    {
     "data": {
      "text/html": [
       "<div>\n",
       "<style scoped>\n",
       "    .dataframe tbody tr th:only-of-type {\n",
       "        vertical-align: middle;\n",
       "    }\n",
       "\n",
       "    .dataframe tbody tr th {\n",
       "        vertical-align: top;\n",
       "    }\n",
       "\n",
       "    .dataframe thead th {\n",
       "        text-align: right;\n",
       "    }\n",
       "</style>\n",
       "<table border=\"1\" class=\"dataframe\">\n",
       "  <thead>\n",
       "    <tr style=\"text-align: right;\">\n",
       "      <th></th>\n",
       "      <th>ID</th>\n",
       "      <th>Reached.on.Time_Y.N</th>\n",
       "    </tr>\n",
       "  </thead>\n",
       "  <tbody>\n",
       "    <tr>\n",
       "      <th>3999</th>\n",
       "      <td>4000</td>\n",
       "      <td>0</td>\n",
       "    </tr>\n",
       "    <tr>\n",
       "      <th>9559</th>\n",
       "      <td>9560</td>\n",
       "      <td>1</td>\n",
       "    </tr>\n",
       "    <tr>\n",
       "      <th>2649</th>\n",
       "      <td>2650</td>\n",
       "      <td>1</td>\n",
       "    </tr>\n",
       "    <tr>\n",
       "      <th>4843</th>\n",
       "      <td>4844</td>\n",
       "      <td>1</td>\n",
       "    </tr>\n",
       "    <tr>\n",
       "      <th>9601</th>\n",
       "      <td>9602</td>\n",
       "      <td>1</td>\n",
       "    </tr>\n",
       "    <tr>\n",
       "      <th>...</th>\n",
       "      <td>...</td>\n",
       "      <td>...</td>\n",
       "    </tr>\n",
       "    <tr>\n",
       "      <th>3934</th>\n",
       "      <td>3935</td>\n",
       "      <td>0</td>\n",
       "    </tr>\n",
       "    <tr>\n",
       "      <th>2669</th>\n",
       "      <td>2670</td>\n",
       "      <td>1</td>\n",
       "    </tr>\n",
       "    <tr>\n",
       "      <th>1152</th>\n",
       "      <td>1153</td>\n",
       "      <td>1</td>\n",
       "    </tr>\n",
       "    <tr>\n",
       "      <th>6201</th>\n",
       "      <td>6202</td>\n",
       "      <td>0</td>\n",
       "    </tr>\n",
       "    <tr>\n",
       "      <th>9332</th>\n",
       "      <td>9333</td>\n",
       "      <td>0</td>\n",
       "    </tr>\n",
       "  </tbody>\n",
       "</table>\n",
       "<p>8799 rows × 2 columns</p>\n",
       "</div>"
      ],
      "text/plain": [
       "        ID  Reached.on.Time_Y.N\n",
       "3999  4000                    0\n",
       "9559  9560                    1\n",
       "2649  2650                    1\n",
       "4843  4844                    1\n",
       "9601  9602                    1\n",
       "...    ...                  ...\n",
       "3934  3935                    0\n",
       "2669  2670                    1\n",
       "1152  1153                    1\n",
       "6201  6202                    0\n",
       "9332  9333                    0\n",
       "\n",
       "[8799 rows x 2 columns]"
      ]
     },
     "execution_count": 4,
     "metadata": {},
     "output_type": "execute_result"
    }
   ],
   "source": [
    "y_train"
   ]
  },
  {
   "cell_type": "code",
   "execution_count": 5,
   "id": "5505ac03",
   "metadata": {},
   "outputs": [
    {
     "data": {
      "text/plain": [
       "1    5251\n",
       "0    3548\n",
       "Name: Reached.on.Time_Y.N, dtype: int64"
      ]
     },
     "execution_count": 5,
     "metadata": {},
     "output_type": "execute_result"
    }
   ],
   "source": [
    "# 레이블(타겟) 확인\n",
    "y_train['Reached.on.Time_Y.N'].value_counts()"
   ]
  },
  {
   "cell_type": "code",
   "execution_count": 6,
   "id": "136970ad",
   "metadata": {},
   "outputs": [
    {
     "data": {
      "text/plain": [
       "ID                     0\n",
       "Warehouse_block        0\n",
       "Mode_of_Shipment       0\n",
       "Customer_care_calls    0\n",
       "Customer_rating        0\n",
       "Cost_of_the_Product    0\n",
       "Prior_purchases        0\n",
       "Product_importance     0\n",
       "Gender                 0\n",
       "Discount_offered       0\n",
       "Weight_in_gms          0\n",
       "dtype: int64"
      ]
     },
     "execution_count": 6,
     "metadata": {},
     "output_type": "execute_result"
    }
   ],
   "source": [
    "# X_train 결측치 확인\n",
    "X_train.isnull().sum()"
   ]
  },
  {
   "cell_type": "code",
   "execution_count": 7,
   "id": "372d1667",
   "metadata": {},
   "outputs": [
    {
     "name": "stdout",
     "output_type": "stream",
     "text": [
      "<class 'pandas.core.frame.DataFrame'>\n",
      "Int64Index: 8799 entries, 3999 to 9332\n",
      "Data columns (total 11 columns):\n",
      " #   Column               Non-Null Count  Dtype \n",
      "---  ------               --------------  ----- \n",
      " 0   ID                   8799 non-null   int64 \n",
      " 1   Warehouse_block      8799 non-null   object\n",
      " 2   Mode_of_Shipment     8799 non-null   object\n",
      " 3   Customer_care_calls  8799 non-null   int64 \n",
      " 4   Customer_rating      8799 non-null   int64 \n",
      " 5   Cost_of_the_Product  8799 non-null   int64 \n",
      " 6   Prior_purchases      8799 non-null   int64 \n",
      " 7   Product_importance   8799 non-null   object\n",
      " 8   Gender               8799 non-null   object\n",
      " 9   Discount_offered     8799 non-null   int64 \n",
      " 10  Weight_in_gms        8799 non-null   int64 \n",
      "dtypes: int64(7), object(4)\n",
      "memory usage: 824.9+ KB\n"
     ]
    }
   ],
   "source": [
    "# 데이터 타입 확인\n",
    "X_train.info()"
   ]
  },
  {
   "cell_type": "code",
   "execution_count": 8,
   "id": "044f5d8d",
   "metadata": {},
   "outputs": [
    {
     "data": {
      "text/plain": [
       "Warehouse_block       5\n",
       "Mode_of_Shipment      3\n",
       "Product_importance    3\n",
       "Gender                2\n",
       "dtype: int64"
      ]
     },
     "execution_count": 8,
     "metadata": {},
     "output_type": "execute_result"
    }
   ],
   "source": [
    "# object 타입 컬럼, 고유값 개수 확인\n",
    "X_train[['Warehouse_block', 'Mode_of_Shipment', 'Product_importance', 'Gender']].nunique()"
   ]
  },
  {
   "cell_type": "markdown",
   "id": "32fe569d",
   "metadata": {},
   "source": [
    "##### 데이터 전처리"
   ]
  },
  {
   "cell_type": "code",
   "execution_count": 9,
   "id": "100017b6",
   "metadata": {},
   "outputs": [
    {
     "data": {
      "text/plain": [
       "((8799, 11), (2200, 11))"
      ]
     },
     "execution_count": 9,
     "metadata": {},
     "output_type": "execute_result"
    }
   ],
   "source": [
    "# object 컬럼 삭제 (또는 라벨인코딩, 원핫인코딩)\n",
    "# X_train = X_train.drop(['Warehouse_block', 'Mode_of_Shipment', 'Product_importance', 'Gender'], axis=1)\n",
    "# X_test = X_test.drop(['Warehouse_block', 'Mode_of_Shipment', 'Product_importance', 'Gender'], axis=1)\n",
    "\n",
    "from sklearn.preprocessing import LabelEncoder\n",
    "\n",
    "\n",
    "encoder = LabelEncoder()\n",
    "\n",
    "df = pd.concat([X_train, X_test])\n",
    "cols = df.select_dtypes(include='object').columns\n",
    "\n",
    "for col in cols:\n",
    "    df[col] = encoder.fit_transform(df[col])\n",
    "    \n",
    "X_train = df[:X_train.shape[0]]\n",
    "X_test = df[X_train.shape[0]:]\n",
    "X_train.shape, X_test.shape"
   ]
  },
  {
   "cell_type": "code",
   "execution_count": 10,
   "id": "1c2a9c6d",
   "metadata": {},
   "outputs": [
    {
     "name": "stdout",
     "output_type": "stream",
     "text": [
      "<class 'pandas.core.frame.DataFrame'>\n",
      "Int64Index: 10999 entries, 3999 to 4413\n",
      "Data columns (total 11 columns):\n",
      " #   Column               Non-Null Count  Dtype\n",
      "---  ------               --------------  -----\n",
      " 0   ID                   10999 non-null  int64\n",
      " 1   Warehouse_block      10999 non-null  int64\n",
      " 2   Mode_of_Shipment     10999 non-null  int64\n",
      " 3   Customer_care_calls  10999 non-null  int64\n",
      " 4   Customer_rating      10999 non-null  int64\n",
      " 5   Cost_of_the_Product  10999 non-null  int64\n",
      " 6   Prior_purchases      10999 non-null  int64\n",
      " 7   Product_importance   10999 non-null  int64\n",
      " 8   Gender               10999 non-null  int64\n",
      " 9   Discount_offered     10999 non-null  int64\n",
      " 10  Weight_in_gms        10999 non-null  int64\n",
      "dtypes: int64(11)\n",
      "memory usage: 1.0 MB\n"
     ]
    }
   ],
   "source": [
    "df.info()"
   ]
  },
  {
   "cell_type": "markdown",
   "id": "8d203b0e",
   "metadata": {},
   "source": [
    "##### 모델 및 평가"
   ]
  },
  {
   "cell_type": "code",
   "execution_count": 11,
   "id": "34a26745",
   "metadata": {},
   "outputs": [],
   "source": [
    "from sklearn.linear_model import LogisticRegression\n",
    "from sklearn.neighbors import KNeighborsClassifier\n",
    "from sklearn.svm import SVC\n",
    "from sklearn.tree import DecisionTreeClassifier\n",
    "from sklearn.ensemble import RandomForestClassifier\n",
    "from xgboost import XGBClassifier\n",
    "from sklearn.metrics import roc_auc_score"
   ]
  },
  {
   "cell_type": "code",
   "execution_count": 12,
   "id": "c89d8066",
   "metadata": {},
   "outputs": [],
   "source": [
    "X_train_id = X_train.pop('ID')\n",
    "X_test_id = X_test.pop('ID')"
   ]
  },
  {
   "cell_type": "code",
   "execution_count": 13,
   "id": "8eb57134",
   "metadata": {},
   "outputs": [],
   "source": [
    "from sklearn.model_selection import train_test_split\n",
    "\n",
    "X_tr, X_val, y_tr, y_val = train_test_split(X_train, y_train['Reached.on.Time_Y.N'], test_size=0.2, random_state=2022)"
   ]
  },
  {
   "cell_type": "code",
   "execution_count": 14,
   "id": "98635f8d",
   "metadata": {},
   "outputs": [
    {
     "data": {
      "text/plain": [
       "0.6216353014355234"
      ]
     },
     "execution_count": 14,
     "metadata": {},
     "output_type": "execute_result"
    }
   ],
   "source": [
    "# LogisticRegression\n",
    "model = LogisticRegression()\n",
    "model.fit(X_tr, y_tr)\n",
    "pred = model.predict(X_val)\n",
    "roc_auc_score(y_val, pred)"
   ]
  },
  {
   "cell_type": "code",
   "execution_count": 15,
   "id": "767e3304",
   "metadata": {},
   "outputs": [
    {
     "data": {
      "text/plain": [
       "0.6362602128417889"
      ]
     },
     "execution_count": 15,
     "metadata": {},
     "output_type": "execute_result"
    }
   ],
   "source": [
    "# KNeighborsClassifier\n",
    "model = KNeighborsClassifier()\n",
    "model.fit(X_tr, y_tr)\n",
    "pred = model.predict(X_val)\n",
    "roc_auc_score(y_val, pred)"
   ]
  },
  {
   "cell_type": "code",
   "execution_count": 16,
   "id": "58db7a00",
   "metadata": {},
   "outputs": [
    {
     "data": {
      "text/plain": [
       "0.6498402941244229"
      ]
     },
     "execution_count": 16,
     "metadata": {},
     "output_type": "execute_result"
    }
   ],
   "source": [
    "# SVC\n",
    "model = SVC()\n",
    "model.fit(X_tr, y_tr)\n",
    "pred = model.predict(X_val)\n",
    "roc_auc_score(y_val, pred)"
   ]
  },
  {
   "cell_type": "code",
   "execution_count": 17,
   "id": "7f73b6fe",
   "metadata": {},
   "outputs": [
    {
     "data": {
      "text/plain": [
       "0.6371525872080812"
      ]
     },
     "execution_count": 17,
     "metadata": {},
     "output_type": "execute_result"
    }
   ],
   "source": [
    "# DecisionTreeClassifier\n",
    "model = DecisionTreeClassifier()\n",
    "model.fit(X_tr, y_tr)\n",
    "pred = model.predict(X_val)\n",
    "roc_auc_score(y_val, pred)"
   ]
  },
  {
   "cell_type": "code",
   "execution_count": 18,
   "id": "e9e4615f",
   "metadata": {},
   "outputs": [
    {
     "data": {
      "text/plain": [
       "0.6780676469910655"
      ]
     },
     "execution_count": 18,
     "metadata": {},
     "output_type": "execute_result"
    }
   ],
   "source": [
    "# RandomForestClassifier\n",
    "model = RandomForestClassifier(random_state=2022)\n",
    "model.fit(X_tr, y_tr)\n",
    "pred = model.predict(X_val)\n",
    "roc_auc_score(y_val, pred)"
   ]
  },
  {
   "cell_type": "code",
   "execution_count": 19,
   "id": "8b29619b",
   "metadata": {},
   "outputs": [
    {
     "data": {
      "text/plain": [
       "0.6809385582970489"
      ]
     },
     "execution_count": 19,
     "metadata": {},
     "output_type": "execute_result"
    }
   ],
   "source": [
    "# XGBClassifier\n",
    "model = XGBClassifier(random_state=2022, use_label_encoder=False, eval_metric='mlogloss')\n",
    "model.fit(X_tr, y_tr)\n",
    "pred = model.predict(X_val)\n",
    "roc_auc_score(y_val, pred)"
   ]
  },
  {
   "cell_type": "markdown",
   "id": "9a03e31d",
   "metadata": {},
   "source": [
    "##### 모델 선택 및 결과 출력"
   ]
  },
  {
   "cell_type": "code",
   "execution_count": 20,
   "id": "b50df410",
   "metadata": {},
   "outputs": [
    {
     "data": {
      "text/plain": [
       "array([1, 1, 1, ..., 0, 1, 0])"
      ]
     },
     "execution_count": 20,
     "metadata": {},
     "output_type": "execute_result"
    }
   ],
   "source": [
    "model = XGBClassifier(random_state=2022, use_label_encoder=False, eval_metric='mlogloss')\n",
    "model.fit(X_train, y_train['Reached.on.Time_Y.N'])\n",
    "pred = model.predict(X_test)\n",
    "pred"
   ]
  },
  {
   "cell_type": "code",
   "execution_count": 21,
   "id": "e9959508",
   "metadata": {},
   "outputs": [
    {
     "data": {
      "text/html": [
       "<div>\n",
       "<style scoped>\n",
       "    .dataframe tbody tr th:only-of-type {\n",
       "        vertical-align: middle;\n",
       "    }\n",
       "\n",
       "    .dataframe tbody tr th {\n",
       "        vertical-align: top;\n",
       "    }\n",
       "\n",
       "    .dataframe thead th {\n",
       "        text-align: right;\n",
       "    }\n",
       "</style>\n",
       "<table border=\"1\" class=\"dataframe\">\n",
       "  <thead>\n",
       "    <tr style=\"text-align: right;\">\n",
       "      <th></th>\n",
       "      <th>ID</th>\n",
       "      <th>Reached.on.Time_Y.N</th>\n",
       "    </tr>\n",
       "  </thead>\n",
       "  <tbody>\n",
       "    <tr>\n",
       "      <th>4732</th>\n",
       "      <td>4733</td>\n",
       "      <td>1</td>\n",
       "    </tr>\n",
       "    <tr>\n",
       "      <th>2039</th>\n",
       "      <td>2040</td>\n",
       "      <td>1</td>\n",
       "    </tr>\n",
       "    <tr>\n",
       "      <th>5113</th>\n",
       "      <td>5114</td>\n",
       "      <td>1</td>\n",
       "    </tr>\n",
       "    <tr>\n",
       "      <th>2360</th>\n",
       "      <td>2361</td>\n",
       "      <td>1</td>\n",
       "    </tr>\n",
       "    <tr>\n",
       "      <th>5995</th>\n",
       "      <td>5996</td>\n",
       "      <td>0</td>\n",
       "    </tr>\n",
       "  </tbody>\n",
       "</table>\n",
       "</div>"
      ],
      "text/plain": [
       "        ID  Reached.on.Time_Y.N\n",
       "4732  4733                    1\n",
       "2039  2040                    1\n",
       "5113  5114                    1\n",
       "2360  2361                    1\n",
       "5995  5996                    0"
      ]
     },
     "execution_count": 21,
     "metadata": {},
     "output_type": "execute_result"
    }
   ],
   "source": [
    "submission = pd.DataFrame({\n",
    "    'ID': X_test_id,\n",
    "    'Reached.on.Time_Y.N': pred\n",
    "})\n",
    "submission.head()"
   ]
  },
  {
   "cell_type": "code",
   "execution_count": 22,
   "id": "77b69209",
   "metadata": {},
   "outputs": [],
   "source": [
    "submission.to_csv('submission.csv', index=False) # 수험번호.csv"
   ]
  },
  {
   "cell_type": "markdown",
   "id": "f8fc625a",
   "metadata": {},
   "source": [
    "##### 결과 체점 (수험자는 알 수 없는 부분임)"
   ]
  },
  {
   "cell_type": "code",
   "execution_count": 23,
   "id": "af9f85a8",
   "metadata": {},
   "outputs": [
    {
     "data": {
      "text/plain": [
       "64.0"
      ]
     },
     "execution_count": 23,
     "metadata": {},
     "output_type": "execute_result"
    }
   ],
   "source": [
    "round(model.score(X_test, y_test['Reached.on.Time_Y.N']) * 100, 2)"
   ]
  },
  {
   "cell_type": "code",
   "execution_count": 24,
   "id": "e388e18f",
   "metadata": {},
   "outputs": [
    {
     "data": {
      "text/plain": [
       "0.6463105636123928"
      ]
     },
     "execution_count": 24,
     "metadata": {},
     "output_type": "execute_result"
    }
   ],
   "source": [
    "roc_auc_score(y_test['Reached.on.Time_Y.N'], pred)"
   ]
  }
 ],
 "metadata": {
  "kernelspec": {
   "display_name": "Python 3 (ipykernel)",
   "language": "python",
   "name": "python3"
  },
  "language_info": {
   "codemirror_mode": {
    "name": "ipython",
    "version": 3
   },
   "file_extension": ".py",
   "mimetype": "text/x-python",
   "name": "python",
   "nbconvert_exporter": "python",
   "pygments_lexer": "ipython3",
   "version": "3.9.6"
  }
 },
 "nbformat": 4,
 "nbformat_minor": 5
}
