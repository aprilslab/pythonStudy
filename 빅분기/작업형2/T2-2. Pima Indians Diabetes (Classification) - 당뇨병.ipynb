{
 "cells": [
  {
   "cell_type": "markdown",
   "id": "1aacb026",
   "metadata": {},
   "source": [
    "**당뇨병 여부 판단**\n",
    "- 이상치 처리 (Glucose, BloodPressure, SkinThickness, Insulin, BMI가 0인 값)\n",
    "\n",
    "**[참고]작업형2 문구**\n",
    "- 출력을 원하실 경우 print() 함수 활용\n",
    "- 예시) print(df.head())\n",
    "- getcwd(), chdir() 등 작업 폴더 설정 불필요\n",
    "- 파일 경로 상 내부 드라이브 경로(C: 등) 접근 불가\n",
    "\n",
    "**데이터 파일 읽기 예제**\n",
    "- import pandas as pd\n",
    "- X_test = pd.read_csv(\"data/X_test.csv\")\n",
    "- X_train = pd.read_csv(\"data/X_train.csv\")\n",
    "- y_train = pd.read_csv(\"data/y_train.csv\")\n",
    "\n",
    "**사용자 코딩**\n",
    "\n",
    "**답안 제출 참고**\n",
    "- 아래 코드 예측변수와 수험번호를 개인별로 변경하여 활용\n",
    "- pd.DataFrame({'cust_id': X_test.cust_id, 'gender': pred}).to_csv('003000000.csv', index=False)"
   ]
  },
  {
   "cell_type": "code",
   "execution_count": 1,
   "id": "f9b9b59f",
   "metadata": {},
   "outputs": [
    {
     "data": {
      "text/plain": [
       "((614, 9), (154, 9), (614, 2), (154, 2))"
      ]
     },
     "execution_count": 1,
     "metadata": {},
     "output_type": "execute_result"
    }
   ],
   "source": [
    "# 시험환경 세팅 (코드 변경 X)\n",
    "import pandas as pd\n",
    "import numpy as np\n",
    "from sklearn.model_selection import train_test_split\n",
    "\n",
    "def exam_data_load(df, target, id_name=\"\", null_name=\"\"):\n",
    "    if id_name == \"\":\n",
    "        df = df.reset_index().rename(columns={\"index\": \"id\"})\n",
    "        id_name = 'id'\n",
    "    else:\n",
    "        id_name = id_name\n",
    "    \n",
    "    if null_name != \"\":\n",
    "        df[df == null_name] = np.nan\n",
    "    \n",
    "    X_train, X_test = train_test_split(df, test_size=0.2, random_state=2021)\n",
    "    \n",
    "    y_train = X_train[[id_name, target]]\n",
    "    X_train = X_train.drop(columns=[target])\n",
    "\n",
    "    \n",
    "    y_test = X_test[[id_name, target]]\n",
    "    X_test = X_test.drop(columns=[target])\n",
    "    return X_train, X_test, y_train, y_test \n",
    "    \n",
    "df = pd.read_csv(\"../../dataset/diabetes.csv\")\n",
    "X_train, X_test, y_train, y_test = exam_data_load(df, target='Outcome')\n",
    "\n",
    "X_train.shape, X_test.shape, y_train.shape, y_test.shape\n"
   ]
  },
  {
   "cell_type": "markdown",
   "id": "ad660346",
   "metadata": {},
   "source": [
    "---\n",
    "## My Code"
   ]
  },
  {
   "cell_type": "code",
   "execution_count": null,
   "id": "05050cb1",
   "metadata": {},
   "outputs": [],
   "source": []
  },
  {
   "cell_type": "code",
   "execution_count": null,
   "id": "e095be93",
   "metadata": {},
   "outputs": [],
   "source": []
  },
  {
   "cell_type": "code",
   "execution_count": null,
   "id": "df5e9ec4",
   "metadata": {},
   "outputs": [],
   "source": []
  },
  {
   "cell_type": "code",
   "execution_count": null,
   "id": "188874d3",
   "metadata": {},
   "outputs": [],
   "source": []
  },
  {
   "cell_type": "code",
   "execution_count": null,
   "id": "fcd54587",
   "metadata": {},
   "outputs": [],
   "source": []
  },
  {
   "cell_type": "code",
   "execution_count": null,
   "id": "186a6f39",
   "metadata": {},
   "outputs": [],
   "source": []
  },
  {
   "cell_type": "code",
   "execution_count": null,
   "id": "abfd6358",
   "metadata": {},
   "outputs": [],
   "source": []
  },
  {
   "cell_type": "code",
   "execution_count": null,
   "id": "9ea65184",
   "metadata": {},
   "outputs": [],
   "source": []
  },
  {
   "cell_type": "code",
   "execution_count": null,
   "id": "49728e31",
   "metadata": {},
   "outputs": [],
   "source": []
  },
  {
   "cell_type": "code",
   "execution_count": null,
   "id": "7791e3df",
   "metadata": {},
   "outputs": [],
   "source": []
  },
  {
   "cell_type": "code",
   "execution_count": null,
   "id": "97070f58",
   "metadata": {},
   "outputs": [],
   "source": []
  },
  {
   "cell_type": "code",
   "execution_count": null,
   "id": "fe0e9de0",
   "metadata": {},
   "outputs": [],
   "source": []
  },
  {
   "cell_type": "code",
   "execution_count": null,
   "id": "6e1fa55e",
   "metadata": {},
   "outputs": [],
   "source": []
  },
  {
   "cell_type": "code",
   "execution_count": null,
   "id": "d2ad8b04",
   "metadata": {},
   "outputs": [],
   "source": []
  },
  {
   "cell_type": "code",
   "execution_count": null,
   "id": "fc8741c0",
   "metadata": {},
   "outputs": [],
   "source": []
  },
  {
   "cell_type": "code",
   "execution_count": null,
   "id": "dcff382a",
   "metadata": {},
   "outputs": [],
   "source": []
  },
  {
   "cell_type": "code",
   "execution_count": null,
   "id": "cbb12a23",
   "metadata": {},
   "outputs": [],
   "source": []
  },
  {
   "cell_type": "code",
   "execution_count": null,
   "id": "a6364ce3",
   "metadata": {},
   "outputs": [],
   "source": []
  },
  {
   "cell_type": "code",
   "execution_count": null,
   "id": "be7f4fc4",
   "metadata": {},
   "outputs": [],
   "source": []
  },
  {
   "cell_type": "code",
   "execution_count": null,
   "id": "aef451aa",
   "metadata": {},
   "outputs": [],
   "source": []
  },
  {
   "cell_type": "markdown",
   "id": "7c00c3c2",
   "metadata": {},
   "source": [
    "---\n",
    "## Solution"
   ]
  },
  {
   "cell_type": "markdown",
   "id": "91dfb8f7",
   "metadata": {},
   "source": [
    "##### 라이브러리 및 데이터 불러오기"
   ]
  },
  {
   "cell_type": "code",
   "execution_count": 2,
   "id": "f42272d2",
   "metadata": {},
   "outputs": [
    {
     "data": {
      "text/plain": [
       "((614, 9), (154, 9), (614, 2), (154, 2))"
      ]
     },
     "execution_count": 2,
     "metadata": {},
     "output_type": "execute_result"
    }
   ],
   "source": [
    "import pandas as pd\n",
    "\n",
    "X_train.shape, X_test.shape, y_train.shape, y_test.shape"
   ]
  },
  {
   "cell_type": "markdown",
   "id": "5613a004",
   "metadata": {},
   "source": [
    "##### EDA"
   ]
  },
  {
   "cell_type": "code",
   "execution_count": 3,
   "id": "73bc5626",
   "metadata": {},
   "outputs": [
    {
     "data": {
      "text/html": [
       "<div>\n",
       "<style scoped>\n",
       "    .dataframe tbody tr th:only-of-type {\n",
       "        vertical-align: middle;\n",
       "    }\n",
       "\n",
       "    .dataframe tbody tr th {\n",
       "        vertical-align: top;\n",
       "    }\n",
       "\n",
       "    .dataframe thead th {\n",
       "        text-align: right;\n",
       "    }\n",
       "</style>\n",
       "<table border=\"1\" class=\"dataframe\">\n",
       "  <thead>\n",
       "    <tr style=\"text-align: right;\">\n",
       "      <th></th>\n",
       "      <th>id</th>\n",
       "      <th>Pregnancies</th>\n",
       "      <th>Glucose</th>\n",
       "      <th>BloodPressure</th>\n",
       "      <th>SkinThickness</th>\n",
       "      <th>Insulin</th>\n",
       "      <th>BMI</th>\n",
       "      <th>DiabetesPedigreeFunction</th>\n",
       "      <th>Age</th>\n",
       "    </tr>\n",
       "  </thead>\n",
       "  <tbody>\n",
       "    <tr>\n",
       "      <th>147</th>\n",
       "      <td>147</td>\n",
       "      <td>2</td>\n",
       "      <td>106</td>\n",
       "      <td>64</td>\n",
       "      <td>35</td>\n",
       "      <td>119</td>\n",
       "      <td>30.5</td>\n",
       "      <td>1.400</td>\n",
       "      <td>34</td>\n",
       "    </tr>\n",
       "    <tr>\n",
       "      <th>344</th>\n",
       "      <td>344</td>\n",
       "      <td>8</td>\n",
       "      <td>95</td>\n",
       "      <td>72</td>\n",
       "      <td>0</td>\n",
       "      <td>0</td>\n",
       "      <td>36.8</td>\n",
       "      <td>0.485</td>\n",
       "      <td>57</td>\n",
       "    </tr>\n",
       "    <tr>\n",
       "      <th>390</th>\n",
       "      <td>390</td>\n",
       "      <td>1</td>\n",
       "      <td>100</td>\n",
       "      <td>66</td>\n",
       "      <td>29</td>\n",
       "      <td>196</td>\n",
       "      <td>32.0</td>\n",
       "      <td>0.444</td>\n",
       "      <td>42</td>\n",
       "    </tr>\n",
       "    <tr>\n",
       "      <th>150</th>\n",
       "      <td>150</td>\n",
       "      <td>1</td>\n",
       "      <td>136</td>\n",
       "      <td>74</td>\n",
       "      <td>50</td>\n",
       "      <td>204</td>\n",
       "      <td>37.4</td>\n",
       "      <td>0.399</td>\n",
       "      <td>24</td>\n",
       "    </tr>\n",
       "    <tr>\n",
       "      <th>132</th>\n",
       "      <td>132</td>\n",
       "      <td>3</td>\n",
       "      <td>170</td>\n",
       "      <td>64</td>\n",
       "      <td>37</td>\n",
       "      <td>225</td>\n",
       "      <td>34.5</td>\n",
       "      <td>0.356</td>\n",
       "      <td>30</td>\n",
       "    </tr>\n",
       "  </tbody>\n",
       "</table>\n",
       "</div>"
      ],
      "text/plain": [
       "      id  Pregnancies  Glucose  BloodPressure  SkinThickness  Insulin   BMI  \\\n",
       "147  147            2      106             64             35      119  30.5   \n",
       "344  344            8       95             72              0        0  36.8   \n",
       "390  390            1      100             66             29      196  32.0   \n",
       "150  150            1      136             74             50      204  37.4   \n",
       "132  132            3      170             64             37      225  34.5   \n",
       "\n",
       "     DiabetesPedigreeFunction  Age  \n",
       "147                     1.400   34  \n",
       "344                     0.485   57  \n",
       "390                     0.444   42  \n",
       "150                     0.399   24  \n",
       "132                     0.356   30  "
      ]
     },
     "execution_count": 3,
     "metadata": {},
     "output_type": "execute_result"
    }
   ],
   "source": [
    "X_train.head()"
   ]
  },
  {
   "cell_type": "code",
   "execution_count": 4,
   "id": "8c94515c",
   "metadata": {},
   "outputs": [
    {
     "data": {
      "text/plain": [
       "id                          0\n",
       "Pregnancies                 0\n",
       "Glucose                     0\n",
       "BloodPressure               0\n",
       "SkinThickness               0\n",
       "Insulin                     0\n",
       "BMI                         0\n",
       "DiabetesPedigreeFunction    0\n",
       "Age                         0\n",
       "dtype: int64"
      ]
     },
     "execution_count": 4,
     "metadata": {},
     "output_type": "execute_result"
    }
   ],
   "source": [
    "X_train.isnull().sum()"
   ]
  },
  {
   "cell_type": "code",
   "execution_count": 5,
   "id": "0720a797",
   "metadata": {},
   "outputs": [
    {
     "data": {
      "text/plain": [
       "id                          0\n",
       "Pregnancies                 0\n",
       "Glucose                     0\n",
       "BloodPressure               0\n",
       "SkinThickness               0\n",
       "Insulin                     0\n",
       "BMI                         0\n",
       "DiabetesPedigreeFunction    0\n",
       "Age                         0\n",
       "dtype: int64"
      ]
     },
     "execution_count": 5,
     "metadata": {},
     "output_type": "execute_result"
    }
   ],
   "source": [
    "X_test.isnull().sum()"
   ]
  },
  {
   "cell_type": "code",
   "execution_count": 6,
   "id": "57e376b9",
   "metadata": {},
   "outputs": [
    {
     "name": "stdout",
     "output_type": "stream",
     "text": [
      "<class 'pandas.core.frame.DataFrame'>\n",
      "Int64Index: 614 entries, 147 to 116\n",
      "Data columns (total 9 columns):\n",
      " #   Column                    Non-Null Count  Dtype  \n",
      "---  ------                    --------------  -----  \n",
      " 0   id                        614 non-null    int64  \n",
      " 1   Pregnancies               614 non-null    int64  \n",
      " 2   Glucose                   614 non-null    int64  \n",
      " 3   BloodPressure             614 non-null    int64  \n",
      " 4   SkinThickness             614 non-null    int64  \n",
      " 5   Insulin                   614 non-null    int64  \n",
      " 6   BMI                       614 non-null    float64\n",
      " 7   DiabetesPedigreeFunction  614 non-null    float64\n",
      " 8   Age                       614 non-null    int64  \n",
      "dtypes: float64(2), int64(7)\n",
      "memory usage: 48.0 KB\n"
     ]
    }
   ],
   "source": [
    "X_train.info()"
   ]
  },
  {
   "cell_type": "code",
   "execution_count": 7,
   "id": "4c6a4676",
   "metadata": {},
   "outputs": [
    {
     "data": {
      "text/html": [
       "<div>\n",
       "<style scoped>\n",
       "    .dataframe tbody tr th:only-of-type {\n",
       "        vertical-align: middle;\n",
       "    }\n",
       "\n",
       "    .dataframe tbody tr th {\n",
       "        vertical-align: top;\n",
       "    }\n",
       "\n",
       "    .dataframe thead th {\n",
       "        text-align: right;\n",
       "    }\n",
       "</style>\n",
       "<table border=\"1\" class=\"dataframe\">\n",
       "  <thead>\n",
       "    <tr style=\"text-align: right;\">\n",
       "      <th></th>\n",
       "      <th>id</th>\n",
       "      <th>Pregnancies</th>\n",
       "      <th>Glucose</th>\n",
       "      <th>BloodPressure</th>\n",
       "      <th>SkinThickness</th>\n",
       "      <th>Insulin</th>\n",
       "      <th>BMI</th>\n",
       "      <th>DiabetesPedigreeFunction</th>\n",
       "      <th>Age</th>\n",
       "    </tr>\n",
       "  </thead>\n",
       "  <tbody>\n",
       "    <tr>\n",
       "      <th>count</th>\n",
       "      <td>614.000000</td>\n",
       "      <td>614.000000</td>\n",
       "      <td>614.000000</td>\n",
       "      <td>614.000000</td>\n",
       "      <td>614.000000</td>\n",
       "      <td>614.000000</td>\n",
       "      <td>614.000000</td>\n",
       "      <td>614.000000</td>\n",
       "      <td>614.000000</td>\n",
       "    </tr>\n",
       "    <tr>\n",
       "      <th>mean</th>\n",
       "      <td>386.978827</td>\n",
       "      <td>3.845277</td>\n",
       "      <td>120.705212</td>\n",
       "      <td>68.530945</td>\n",
       "      <td>20.982085</td>\n",
       "      <td>82.229642</td>\n",
       "      <td>31.948534</td>\n",
       "      <td>0.477471</td>\n",
       "      <td>33.319218</td>\n",
       "    </tr>\n",
       "    <tr>\n",
       "      <th>std</th>\n",
       "      <td>219.881344</td>\n",
       "      <td>3.388952</td>\n",
       "      <td>32.047977</td>\n",
       "      <td>19.761915</td>\n",
       "      <td>15.965031</td>\n",
       "      <td>116.525772</td>\n",
       "      <td>7.734385</td>\n",
       "      <td>0.339811</td>\n",
       "      <td>11.940953</td>\n",
       "    </tr>\n",
       "    <tr>\n",
       "      <th>min</th>\n",
       "      <td>0.000000</td>\n",
       "      <td>0.000000</td>\n",
       "      <td>0.000000</td>\n",
       "      <td>0.000000</td>\n",
       "      <td>0.000000</td>\n",
       "      <td>0.000000</td>\n",
       "      <td>0.000000</td>\n",
       "      <td>0.078000</td>\n",
       "      <td>21.000000</td>\n",
       "    </tr>\n",
       "    <tr>\n",
       "      <th>25%</th>\n",
       "      <td>196.500000</td>\n",
       "      <td>1.000000</td>\n",
       "      <td>99.000000</td>\n",
       "      <td>62.000000</td>\n",
       "      <td>0.000000</td>\n",
       "      <td>0.000000</td>\n",
       "      <td>27.400000</td>\n",
       "      <td>0.244250</td>\n",
       "      <td>24.000000</td>\n",
       "    </tr>\n",
       "    <tr>\n",
       "      <th>50%</th>\n",
       "      <td>388.000000</td>\n",
       "      <td>3.000000</td>\n",
       "      <td>117.000000</td>\n",
       "      <td>72.000000</td>\n",
       "      <td>23.000000</td>\n",
       "      <td>44.000000</td>\n",
       "      <td>32.250000</td>\n",
       "      <td>0.377000</td>\n",
       "      <td>29.000000</td>\n",
       "    </tr>\n",
       "    <tr>\n",
       "      <th>75%</th>\n",
       "      <td>575.750000</td>\n",
       "      <td>6.000000</td>\n",
       "      <td>140.000000</td>\n",
       "      <td>80.000000</td>\n",
       "      <td>33.000000</td>\n",
       "      <td>130.000000</td>\n",
       "      <td>36.600000</td>\n",
       "      <td>0.628500</td>\n",
       "      <td>41.000000</td>\n",
       "    </tr>\n",
       "    <tr>\n",
       "      <th>max</th>\n",
       "      <td>766.000000</td>\n",
       "      <td>17.000000</td>\n",
       "      <td>199.000000</td>\n",
       "      <td>114.000000</td>\n",
       "      <td>99.000000</td>\n",
       "      <td>846.000000</td>\n",
       "      <td>59.400000</td>\n",
       "      <td>2.420000</td>\n",
       "      <td>81.000000</td>\n",
       "    </tr>\n",
       "  </tbody>\n",
       "</table>\n",
       "</div>"
      ],
      "text/plain": [
       "               id  Pregnancies     Glucose  BloodPressure  SkinThickness  \\\n",
       "count  614.000000   614.000000  614.000000     614.000000     614.000000   \n",
       "mean   386.978827     3.845277  120.705212      68.530945      20.982085   \n",
       "std    219.881344     3.388952   32.047977      19.761915      15.965031   \n",
       "min      0.000000     0.000000    0.000000       0.000000       0.000000   \n",
       "25%    196.500000     1.000000   99.000000      62.000000       0.000000   \n",
       "50%    388.000000     3.000000  117.000000      72.000000      23.000000   \n",
       "75%    575.750000     6.000000  140.000000      80.000000      33.000000   \n",
       "max    766.000000    17.000000  199.000000     114.000000      99.000000   \n",
       "\n",
       "          Insulin         BMI  DiabetesPedigreeFunction         Age  \n",
       "count  614.000000  614.000000                614.000000  614.000000  \n",
       "mean    82.229642   31.948534                  0.477471   33.319218  \n",
       "std    116.525772    7.734385                  0.339811   11.940953  \n",
       "min      0.000000    0.000000                  0.078000   21.000000  \n",
       "25%      0.000000   27.400000                  0.244250   24.000000  \n",
       "50%     44.000000   32.250000                  0.377000   29.000000  \n",
       "75%    130.000000   36.600000                  0.628500   41.000000  \n",
       "max    846.000000   59.400000                  2.420000   81.000000  "
      ]
     },
     "execution_count": 7,
     "metadata": {},
     "output_type": "execute_result"
    }
   ],
   "source": [
    "X_train.describe()"
   ]
  },
  {
   "cell_type": "markdown",
   "id": "3501fbac",
   "metadata": {},
   "source": [
    "##### 데이터전처리"
   ]
  },
  {
   "cell_type": "code",
   "execution_count": 8,
   "id": "ec05fa7b",
   "metadata": {},
   "outputs": [
    {
     "name": "stdout",
     "output_type": "stream",
     "text": [
      "Glucose: 5\n",
      "BloodPressure: 31\n",
      "SkinThickness: 175\n",
      "Insulin: 287\n",
      "BMI: 9\n"
     ]
    }
   ],
   "source": [
    "#이상치 처리\n",
    "#Train\n",
    "print('Glucose:',len(X_train[X_train['Glucose']==0]))\n",
    "print('BloodPressure:',len(X_train[X_train['BloodPressure']==0]))\n",
    "print('SkinThickness:',len(X_train[X_train['SkinThickness']==0]))\n",
    "print('Insulin:',len(X_train[X_train['Insulin']==0]))\n",
    "print('BMI:',len(X_train[X_train['BMI']==0]))"
   ]
  },
  {
   "cell_type": "code",
   "execution_count": 9,
   "id": "41d9baf6",
   "metadata": {},
   "outputs": [
    {
     "name": "stdout",
     "output_type": "stream",
     "text": [
      "Glucose: 0\n",
      "BloodPressure: 4\n",
      "SkinThickness: 52\n",
      "Insulin: 87\n",
      "BMI: 2\n"
     ]
    }
   ],
   "source": [
    "#Test\n",
    "print('Glucose:',len(X_test[X_test['Glucose']==0]))\n",
    "print('BloodPressure:',len(X_test[X_test['BloodPressure']==0]))\n",
    "print('SkinThickness:',len(X_test[X_test['SkinThickness']==0]))\n",
    "print('Insulin:',len(X_test[X_test['Insulin']==0]))\n",
    "print('BMI:',len(X_test[X_test['BMI']==0]))"
   ]
  },
  {
   "cell_type": "code",
   "execution_count": 10,
   "id": "a31f5eea",
   "metadata": {},
   "outputs": [
    {
     "data": {
      "text/plain": [
       "Int64Index([182, 75, 342, 502, 349], dtype='int64')"
      ]
     },
     "execution_count": 10,
     "metadata": {},
     "output_type": "execute_result"
    }
   ],
   "source": [
    "# 포도당 이상치 삭제\n",
    "del_idx = X_train[X_train['Glucose']==0].index\n",
    "del_idx"
   ]
  },
  {
   "cell_type": "code",
   "execution_count": 11,
   "id": "f8118285",
   "metadata": {},
   "outputs": [
    {
     "name": "stdout",
     "output_type": "stream",
     "text": [
      "Glucose 이상치 삭제 전 : (614, 9) (614, 2)\n",
      "Glucose 이상치 삭제 후 : (609, 9) (609, 2)\n"
     ]
    }
   ],
   "source": [
    "print('Glucose 이상치 삭제 전 :', X_train.shape, y_train.shape)\n",
    "X_train = X_train.drop(index=del_idx, axis=0)\n",
    "y_train = y_train.drop(index=del_idx, axis=0)\n",
    "print('Glucose 이상치 삭제 후 :', X_train.shape, y_train.shape)"
   ]
  },
  {
   "cell_type": "code",
   "execution_count": 12,
   "id": "0661ded2",
   "metadata": {},
   "outputs": [
    {
     "data": {
      "text/plain": [
       "BloodPressure    68.538588\n",
       "SkinThickness    20.911330\n",
       "Insulin          82.866995\n",
       "BMI              31.940887\n",
       "dtype: float64"
      ]
     },
     "execution_count": 12,
     "metadata": {},
     "output_type": "execute_result"
    }
   ],
   "source": [
    "# 포도당을 제외한 이상치, 평균값으로 대체\n",
    "cols = ['BloodPressure', 'SkinThickness', 'Insulin', 'BMI']\n",
    "cols_mean = X_train[cols].mean()\n",
    "cols_mean"
   ]
  },
  {
   "cell_type": "code",
   "execution_count": 13,
   "id": "0ca863c4",
   "metadata": {},
   "outputs": [],
   "source": [
    "X_train[cols] = X_train[cols].replace(0, cols_mean)"
   ]
  },
  {
   "cell_type": "code",
   "execution_count": 14,
   "id": "29c03d3a",
   "metadata": {},
   "outputs": [
    {
     "data": {
      "text/html": [
       "<div>\n",
       "<style scoped>\n",
       "    .dataframe tbody tr th:only-of-type {\n",
       "        vertical-align: middle;\n",
       "    }\n",
       "\n",
       "    .dataframe tbody tr th {\n",
       "        vertical-align: top;\n",
       "    }\n",
       "\n",
       "    .dataframe thead th {\n",
       "        text-align: right;\n",
       "    }\n",
       "</style>\n",
       "<table border=\"1\" class=\"dataframe\">\n",
       "  <thead>\n",
       "    <tr style=\"text-align: right;\">\n",
       "      <th></th>\n",
       "      <th>id</th>\n",
       "      <th>Pregnancies</th>\n",
       "      <th>Glucose</th>\n",
       "      <th>BloodPressure</th>\n",
       "      <th>SkinThickness</th>\n",
       "      <th>Insulin</th>\n",
       "      <th>BMI</th>\n",
       "      <th>DiabetesPedigreeFunction</th>\n",
       "      <th>Age</th>\n",
       "    </tr>\n",
       "  </thead>\n",
       "  <tbody>\n",
       "    <tr>\n",
       "      <th>count</th>\n",
       "      <td>609.000000</td>\n",
       "      <td>609.000000</td>\n",
       "      <td>609.000000</td>\n",
       "      <td>609.000000</td>\n",
       "      <td>609.000000</td>\n",
       "      <td>609.000000</td>\n",
       "      <td>609.000000</td>\n",
       "      <td>609.000000</td>\n",
       "      <td>609.000000</td>\n",
       "    </tr>\n",
       "    <tr>\n",
       "      <th>mean</th>\n",
       "      <td>387.775041</td>\n",
       "      <td>3.853859</td>\n",
       "      <td>121.696223</td>\n",
       "      <td>72.027416</td>\n",
       "      <td>26.920333</td>\n",
       "      <td>121.374975</td>\n",
       "      <td>32.412920</td>\n",
       "      <td>0.478269</td>\n",
       "      <td>33.357964</td>\n",
       "    </tr>\n",
       "    <tr>\n",
       "      <th>std</th>\n",
       "      <td>220.200179</td>\n",
       "      <td>3.395526</td>\n",
       "      <td>30.244312</td>\n",
       "      <td>11.877733</td>\n",
       "      <td>9.682859</td>\n",
       "      <td>94.644939</td>\n",
       "      <td>6.682427</td>\n",
       "      <td>0.340643</td>\n",
       "      <td>11.956883</td>\n",
       "    </tr>\n",
       "    <tr>\n",
       "      <th>min</th>\n",
       "      <td>0.000000</td>\n",
       "      <td>0.000000</td>\n",
       "      <td>56.000000</td>\n",
       "      <td>24.000000</td>\n",
       "      <td>7.000000</td>\n",
       "      <td>14.000000</td>\n",
       "      <td>18.200000</td>\n",
       "      <td>0.078000</td>\n",
       "      <td>21.000000</td>\n",
       "    </tr>\n",
       "    <tr>\n",
       "      <th>25%</th>\n",
       "      <td>198.000000</td>\n",
       "      <td>1.000000</td>\n",
       "      <td>99.000000</td>\n",
       "      <td>64.000000</td>\n",
       "      <td>20.911330</td>\n",
       "      <td>82.866995</td>\n",
       "      <td>27.600000</td>\n",
       "      <td>0.244000</td>\n",
       "      <td>24.000000</td>\n",
       "    </tr>\n",
       "    <tr>\n",
       "      <th>50%</th>\n",
       "      <td>390.000000</td>\n",
       "      <td>3.000000</td>\n",
       "      <td>117.000000</td>\n",
       "      <td>72.000000</td>\n",
       "      <td>23.000000</td>\n",
       "      <td>82.866995</td>\n",
       "      <td>32.300000</td>\n",
       "      <td>0.378000</td>\n",
       "      <td>29.000000</td>\n",
       "    </tr>\n",
       "    <tr>\n",
       "      <th>75%</th>\n",
       "      <td>577.000000</td>\n",
       "      <td>6.000000</td>\n",
       "      <td>141.000000</td>\n",
       "      <td>80.000000</td>\n",
       "      <td>33.000000</td>\n",
       "      <td>130.000000</td>\n",
       "      <td>36.600000</td>\n",
       "      <td>0.629000</td>\n",
       "      <td>41.000000</td>\n",
       "    </tr>\n",
       "    <tr>\n",
       "      <th>max</th>\n",
       "      <td>766.000000</td>\n",
       "      <td>17.000000</td>\n",
       "      <td>199.000000</td>\n",
       "      <td>114.000000</td>\n",
       "      <td>99.000000</td>\n",
       "      <td>846.000000</td>\n",
       "      <td>59.400000</td>\n",
       "      <td>2.420000</td>\n",
       "      <td>81.000000</td>\n",
       "    </tr>\n",
       "  </tbody>\n",
       "</table>\n",
       "</div>"
      ],
      "text/plain": [
       "               id  Pregnancies     Glucose  BloodPressure  SkinThickness  \\\n",
       "count  609.000000   609.000000  609.000000     609.000000     609.000000   \n",
       "mean   387.775041     3.853859  121.696223      72.027416      26.920333   \n",
       "std    220.200179     3.395526   30.244312      11.877733       9.682859   \n",
       "min      0.000000     0.000000   56.000000      24.000000       7.000000   \n",
       "25%    198.000000     1.000000   99.000000      64.000000      20.911330   \n",
       "50%    390.000000     3.000000  117.000000      72.000000      23.000000   \n",
       "75%    577.000000     6.000000  141.000000      80.000000      33.000000   \n",
       "max    766.000000    17.000000  199.000000     114.000000      99.000000   \n",
       "\n",
       "          Insulin         BMI  DiabetesPedigreeFunction         Age  \n",
       "count  609.000000  609.000000                609.000000  609.000000  \n",
       "mean   121.374975   32.412920                  0.478269   33.357964  \n",
       "std     94.644939    6.682427                  0.340643   11.956883  \n",
       "min     14.000000   18.200000                  0.078000   21.000000  \n",
       "25%     82.866995   27.600000                  0.244000   24.000000  \n",
       "50%     82.866995   32.300000                  0.378000   29.000000  \n",
       "75%    130.000000   36.600000                  0.629000   41.000000  \n",
       "max    846.000000   59.400000                  2.420000   81.000000  "
      ]
     },
     "execution_count": 14,
     "metadata": {},
     "output_type": "execute_result"
    }
   ],
   "source": [
    "X_train.describe()"
   ]
  },
  {
   "cell_type": "code",
   "execution_count": 15,
   "id": "796662fd",
   "metadata": {},
   "outputs": [
    {
     "name": "stdout",
     "output_type": "stream",
     "text": [
      "Glucose: 0\n",
      "BloodPressure: 0\n",
      "SkinThickness: 0\n",
      "Insulin: 0\n",
      "BMI: 0\n"
     ]
    }
   ],
   "source": [
    "print('Glucose:',len(X_test[X_test['Glucose']==0]))\n",
    "print('BloodPressure:',len(X_train[X_train['BloodPressure']==0]))\n",
    "print('SkinThickness:',len(X_train[X_train['SkinThickness']==0]))\n",
    "print('Insulin:',len(X_train[X_train['Insulin']==0]))\n",
    "print('BMI:',len(X_train[X_train['BMI']==0]))"
   ]
  },
  {
   "cell_type": "code",
   "execution_count": 16,
   "id": "7a9a9122",
   "metadata": {},
   "outputs": [
    {
     "data": {
      "text/plain": [
       "Index(['id', 'Pregnancies', 'Glucose', 'BloodPressure', 'SkinThickness',\n",
       "       'Insulin', 'BMI', 'DiabetesPedigreeFunction', 'Age'],\n",
       "      dtype='object')"
      ]
     },
     "execution_count": 16,
     "metadata": {},
     "output_type": "execute_result"
    }
   ],
   "source": [
    "X_train.columns"
   ]
  },
  {
   "cell_type": "code",
   "execution_count": 17,
   "id": "8a379e77",
   "metadata": {},
   "outputs": [],
   "source": [
    "# 스케일링\n",
    "from sklearn.preprocessing import StandardScaler\n",
    "scaler = StandardScaler()\n",
    "cols = ['Pregnancies','Glucose','BloodPressure','SkinThickness','Insulin','BMI','DiabetesPedigreeFunction','Age']\n",
    "X_train[cols] = scaler.fit_transform(X_train[cols])\n",
    "X_test[cols] = scaler.transform(X_test[cols])"
   ]
  },
  {
   "cell_type": "code",
   "execution_count": 18,
   "id": "fa389323",
   "metadata": {},
   "outputs": [],
   "source": [
    "# id 제외\n",
    "X = X_train.drop('id',axis=1)\n",
    "test = X_test.drop('id',axis=1)"
   ]
  },
  {
   "cell_type": "code",
   "execution_count": 19,
   "id": "c0b05fda",
   "metadata": {},
   "outputs": [],
   "source": [
    "from sklearn.svm import SVC\n",
    "model = SVC(random_state=2022)\n",
    "model.fit(X, y_train['Outcome'])\n",
    "predictions = model.predict(test)"
   ]
  },
  {
   "cell_type": "code",
   "execution_count": 20,
   "id": "91138d5c",
   "metadata": {},
   "outputs": [
    {
     "data": {
      "text/plain": [
       "82.92"
      ]
     },
     "execution_count": 20,
     "metadata": {},
     "output_type": "execute_result"
    }
   ],
   "source": [
    "# 오버피팅 되었을 경우에 점수가 잘나올 수 있음 (객관적인 평가 아님, 밸리데이션 데이터로 평가 필요함)\n",
    "round(model.score(X, y_train['Outcome']) * 100, 2) "
   ]
  },
  {
   "cell_type": "code",
   "execution_count": 21,
   "id": "7bf71321",
   "metadata": {},
   "outputs": [
    {
     "data": {
      "text/html": [
       "<div>\n",
       "<style scoped>\n",
       "    .dataframe tbody tr th:only-of-type {\n",
       "        vertical-align: middle;\n",
       "    }\n",
       "\n",
       "    .dataframe tbody tr th {\n",
       "        vertical-align: top;\n",
       "    }\n",
       "\n",
       "    .dataframe thead th {\n",
       "        text-align: right;\n",
       "    }\n",
       "</style>\n",
       "<table border=\"1\" class=\"dataframe\">\n",
       "  <thead>\n",
       "    <tr style=\"text-align: right;\">\n",
       "      <th></th>\n",
       "      <th>idx</th>\n",
       "      <th>Outcome</th>\n",
       "    </tr>\n",
       "  </thead>\n",
       "  <tbody>\n",
       "    <tr>\n",
       "      <th>0</th>\n",
       "      <td>258</td>\n",
       "      <td>1</td>\n",
       "    </tr>\n",
       "    <tr>\n",
       "      <th>1</th>\n",
       "      <td>220</td>\n",
       "      <td>1</td>\n",
       "    </tr>\n",
       "    <tr>\n",
       "      <th>2</th>\n",
       "      <td>438</td>\n",
       "      <td>0</td>\n",
       "    </tr>\n",
       "    <tr>\n",
       "      <th>3</th>\n",
       "      <td>130</td>\n",
       "      <td>1</td>\n",
       "    </tr>\n",
       "    <tr>\n",
       "      <th>4</th>\n",
       "      <td>730</td>\n",
       "      <td>0</td>\n",
       "    </tr>\n",
       "  </tbody>\n",
       "</table>\n",
       "</div>"
      ],
      "text/plain": [
       "   idx  Outcome\n",
       "0  258        1\n",
       "1  220        1\n",
       "2  438        0\n",
       "3  130        1\n",
       "4  730        0"
      ]
     },
     "execution_count": 21,
     "metadata": {},
     "output_type": "execute_result"
    }
   ],
   "source": [
    "output = pd.DataFrame({'idx': X_test.index, 'Outcome': predictions})\n",
    "output.head()"
   ]
  },
  {
   "cell_type": "code",
   "execution_count": 22,
   "id": "ca791903",
   "metadata": {},
   "outputs": [],
   "source": [
    "# 수험번호.csv로 출력\n",
    "output.to_csv('diabetes.csv', index=False)"
   ]
  },
  {
   "cell_type": "markdown",
   "id": "196716a3",
   "metadata": {},
   "source": [
    "## 결과 체점 (수험자는 알 수 없는 부분임)"
   ]
  },
  {
   "cell_type": "code",
   "execution_count": 23,
   "id": "82d7ab96",
   "metadata": {},
   "outputs": [
    {
     "data": {
      "text/plain": [
       "74.03"
      ]
     },
     "execution_count": 23,
     "metadata": {},
     "output_type": "execute_result"
    }
   ],
   "source": [
    "round(model.score(test, y_test['Outcome']) * 100, 2) # 60점대로 낮은 정확도를 보여줌"
   ]
  }
 ],
 "metadata": {
  "kernelspec": {
   "display_name": "Python 3 (ipykernel)",
   "language": "python",
   "name": "python3"
  },
  "language_info": {
   "codemirror_mode": {
    "name": "ipython",
    "version": 3
   },
   "file_extension": ".py",
   "mimetype": "text/x-python",
   "name": "python",
   "nbconvert_exporter": "python",
   "pygments_lexer": "ipython3",
   "version": "3.9.6"
  }
 },
 "nbformat": 4,
 "nbformat_minor": 5
}
