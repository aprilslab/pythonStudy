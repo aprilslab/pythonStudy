{
 "cells": [
  {
   "cell_type": "markdown",
   "id": "468ed023",
   "metadata": {},
   "source": [
    "## 현재 날짜 데이터 추출하기"
   ]
  },
  {
   "cell_type": "code",
   "execution_count": 2,
   "id": "2c3cd07f",
   "metadata": {},
   "outputs": [
    {
     "data": {
      "text/plain": [
       "datetime.datetime(2022, 6, 6, 21, 46, 50, 166620)"
      ]
     },
     "execution_count": 2,
     "metadata": {},
     "output_type": "execute_result"
    }
   ],
   "source": [
    "from datetime import datetime\n",
    "datetime.today()"
   ]
  },
  {
   "cell_type": "code",
   "execution_count": 3,
   "id": "9e66a499",
   "metadata": {},
   "outputs": [
    {
     "data": {
      "text/plain": [
       "2022"
      ]
     },
     "execution_count": 3,
     "metadata": {},
     "output_type": "execute_result"
    }
   ],
   "source": [
    "datetime.today().year"
   ]
  },
  {
   "cell_type": "markdown",
   "id": "5b1a2203",
   "metadata": {},
   "source": [
    "## 날짜 형식으로 변환하기\n",
    "\n",
    "**(1)pandas에서 데이터를 날짜 형식으로**\n",
    "\n",
    "`df['DateTime'] = pd.to_datetime(df['Datetime'], format=\"%Y-%m-%d %H:%M:%S\")`\n",
    "\n",
    "**(2) 문자열을 날짜로 변환**\n",
    "\n",
    "`datetime.strptime('날자 문자열', '포맷')`"
   ]
  },
  {
   "cell_type": "code",
   "execution_count": 4,
   "id": "55b54916",
   "metadata": {},
   "outputs": [
    {
     "data": {
      "text/plain": [
       "datetime.datetime(2022, 1, 1, 0, 0)"
      ]
     },
     "execution_count": 4,
     "metadata": {},
     "output_type": "execute_result"
    }
   ],
   "source": [
    "datetime.strptime('2022-01-01 00:00:00', '%Y-%m-%d %H:%M:%S')"
   ]
  },
  {
   "cell_type": "markdown",
   "id": "c1c8670c",
   "metadata": {},
   "source": [
    "**(3) 날짜 형식을 문자열로 변환**\n",
    "\n",
    "`datetime객체.strftime('포맷')`"
   ]
  },
  {
   "cell_type": "code",
   "execution_count": 5,
   "id": "868ac14d",
   "metadata": {},
   "outputs": [
    {
     "data": {
      "text/plain": [
       "'2022-06-06 21:53:13'"
      ]
     },
     "execution_count": 5,
     "metadata": {},
     "output_type": "execute_result"
    }
   ],
   "source": [
    "time = datetime.today()\n",
    "time.strftime('%Y-%m-%d %H:%M:%S')"
   ]
  },
  {
   "cell_type": "markdown",
   "id": "a5256753",
   "metadata": {},
   "source": [
    "## 날짜 데이터의 연산\n",
    "`datetime.timedelta(days=0, seconds=0, microseconds=0, milliseconds=0, minutes=0, hours=0, weeks=0)`"
   ]
  },
  {
   "cell_type": "code",
   "execution_count": 6,
   "id": "7dac8218",
   "metadata": {},
   "outputs": [
    {
     "data": {
      "text/plain": [
       "datetime.datetime(2022, 9, 14, 21, 54, 52, 857751)"
      ]
     },
     "execution_count": 6,
     "metadata": {},
     "output_type": "execute_result"
    }
   ],
   "source": [
    "from datetime import timedelta\n",
    "time = datetime.today()\n",
    "time + timedelta(days=100)"
   ]
  }
 ],
 "metadata": {
  "kernelspec": {
   "display_name": "Python 3 (ipykernel)",
   "language": "python",
   "name": "python3"
  },
  "language_info": {
   "codemirror_mode": {
    "name": "ipython",
    "version": 3
   },
   "file_extension": ".py",
   "mimetype": "text/x-python",
   "name": "python",
   "nbconvert_exporter": "python",
   "pygments_lexer": "ipython3",
   "version": "3.8.12"
  }
 },
 "nbformat": 4,
 "nbformat_minor": 5
}
